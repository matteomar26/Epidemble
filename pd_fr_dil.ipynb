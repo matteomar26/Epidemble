{
 "cells": [
  {
   "cell_type": "code",
   "execution_count": 18,
   "id": "vocal-sellers",
   "metadata": {},
   "outputs": [
    {
     "data": {
      "text/plain": [
       "avgAUC (generic function with 1 method)"
      ]
     },
     "execution_count": 18,
     "metadata": {},
     "output_type": "execute_result"
    }
   ],
   "source": [
    "import OffsetArrays\n",
    "using Plots\n",
    "using Revise\n",
    "using ProgressMeter\n",
    "using SparseArrays, LinearAlgebra, IndexedGraphs, Graphs\n",
    "using IterTools\n",
    "using DelimitedFiles\n",
    "include(\"./src/functions.jl\")"
   ]
  },
  {
   "cell_type": "code",
   "execution_count": 14,
   "id": "74188dde-0821-481a-af57-bd37566da08d",
   "metadata": {},
   "outputs": [],
   "source": [
    "Pkg.add(\"ProgressMeter\")\n",
    "Pkg.add(\"SparseArrays\")\n",
    "Pkg.add(\"LinearAlgebra\")\n",
    "Pkg.add(\"IndexedGraphs\")\n",
    "Pkg.add(\"Graphs\")\n",
    "Pkg.add(\"IterTools\")\n",
    "Pkg.add(\"DelimitedFiles\")"
   ]
  },
  {
   "cell_type": "code",
   "execution_count": 16,
   "id": "3deaea9a-23c5-4cde-be56-670a4a725b33",
   "metadata": {},
   "outputs": [
    {
     "name": "stderr",
     "output_type": "stream",
     "text": [
      "\u001b[32m\u001b[1m   Resolving\u001b[22m\u001b[39m package versions...\n",
      "\u001b[32m\u001b[1m   Installed\u001b[22m\u001b[39m Calculus ──────────────── v0.5.1\n",
      "\u001b[32m\u001b[1m   Installed\u001b[22m\u001b[39m PDMats ────────────────── v0.11.16\n",
      "\u001b[32m\u001b[1m   Installed\u001b[22m\u001b[39m HypergeometricFunctions ─ v0.3.11\n",
      "\u001b[32m\u001b[1m   Installed\u001b[22m\u001b[39m DualNumbers ───────────── v0.6.8\n",
      "\u001b[32m\u001b[1m   Installed\u001b[22m\u001b[39m Rmath ─────────────────── v0.7.0\n",
      "\u001b[32m\u001b[1m   Installed\u001b[22m\u001b[39m FillArrays ────────────── v0.13.5\n",
      "\u001b[32m\u001b[1m   Installed\u001b[22m\u001b[39m QuadGK ────────────────── v2.6.0\n",
      "\u001b[32m\u001b[1m   Installed\u001b[22m\u001b[39m DensityInterface ──────── v0.4.0\n",
      "\u001b[32m\u001b[1m   Installed\u001b[22m\u001b[39m Rmath_jll ─────────────── v0.3.0+0\n",
      "\u001b[32m\u001b[1m   Installed\u001b[22m\u001b[39m StatsFuns ─────────────── v1.1.0\n",
      "\u001b[32m\u001b[1m   Installed\u001b[22m\u001b[39m Distributions ─────────── v0.25.79\n",
      "\u001b[32m\u001b[1m    Updating\u001b[22m\u001b[39m `/opt/julia/environments/v1.7/Project.toml`\n",
      " \u001b[90m [31c24e10] \u001b[39m\u001b[92m+ Distributions v0.25.79\u001b[39m\n",
      "\u001b[32m\u001b[1m    Updating\u001b[22m\u001b[39m `/opt/julia/environments/v1.7/Manifest.toml`\n",
      " \u001b[90m [49dc2e85] \u001b[39m\u001b[92m+ Calculus v0.5.1\u001b[39m\n",
      " \u001b[90m [b429d917] \u001b[39m\u001b[92m+ DensityInterface v0.4.0\u001b[39m\n",
      " \u001b[90m [31c24e10] \u001b[39m\u001b[92m+ Distributions v0.25.79\u001b[39m\n",
      " \u001b[90m [fa6b7ba4] \u001b[39m\u001b[92m+ DualNumbers v0.6.8\u001b[39m\n",
      " \u001b[90m [1a297f60] \u001b[39m\u001b[92m+ FillArrays v0.13.5\u001b[39m\n",
      " \u001b[90m [34004b35] \u001b[39m\u001b[92m+ HypergeometricFunctions v0.3.11\u001b[39m\n",
      " \u001b[90m [90014a1f] \u001b[39m\u001b[92m+ PDMats v0.11.16\u001b[39m\n",
      " \u001b[90m [1fd47b50] \u001b[39m\u001b[92m+ QuadGK v2.6.0\u001b[39m\n",
      " \u001b[90m [79098fc4] \u001b[39m\u001b[92m+ Rmath v0.7.0\u001b[39m\n",
      " \u001b[90m [4c63d2b9] \u001b[39m\u001b[92m+ StatsFuns v1.1.0\u001b[39m\n",
      " \u001b[90m [f50d1b31] \u001b[39m\u001b[92m+ Rmath_jll v0.3.0+0\u001b[39m\n",
      " \u001b[90m [4607b0f0] \u001b[39m\u001b[92m+ SuiteSparse\u001b[39m\n",
      "\u001b[32m\u001b[1mPrecompiling\u001b[22m\u001b[39m project...\n",
      "\u001b[32m  ✓ \u001b[39m\u001b[90mDensityInterface\u001b[39m\n",
      "\u001b[33m  ✓ \u001b[39m\u001b[90mConda\u001b[39m\n",
      "\u001b[32m  ✓ \u001b[39m\u001b[90mPDMats\u001b[39m\n",
      "\u001b[32m  ✓ \u001b[39m\u001b[90mCalculus\u001b[39m\n",
      "\u001b[32m  ✓ \u001b[39m\u001b[90mRmath_jll\u001b[39m\n",
      "\u001b[32m  ✓ \u001b[39m\u001b[90mQuadGK\u001b[39m\n",
      "\u001b[32m  ✓ \u001b[39m\u001b[90mFillArrays\u001b[39m\n",
      "\u001b[32m  ✓ \u001b[39m\u001b[90mDualNumbers\u001b[39m\n",
      "\u001b[32m  ✓ \u001b[39m\u001b[90mRmath\u001b[39m\n",
      "\u001b[33m  ✓ \u001b[39mIJulia\n",
      "\u001b[32m  ✓ \u001b[39m\u001b[90mHypergeometricFunctions\u001b[39m\n",
      "\u001b[32m  ✓ \u001b[39m\u001b[90mStatsFuns\u001b[39m\n",
      "\u001b[32m  ✓ \u001b[39mDistributions\n",
      "\u001b[33m  ✓ \u001b[39mPlots\n",
      "  14 dependencies successfully precompiled in 50 seconds (156 already precompiled)\n",
      "  \u001b[33m3\u001b[39m dependencies precompiled but different versions are currently loaded. Restart julia to access the new versions\n"
     ]
    },
    {
     "ename": "LoadError",
     "evalue": "`` is not a valid package name",
     "output_type": "error",
     "traceback": [
      "`` is not a valid package name",
      "",
      "Stacktrace:",
      "  [1] pkgerror(msg::String)",
      "    @ Pkg.Types ~/Julia1.7/julia-1.7.0-rc2/share/julia/stdlib/v1.7/Pkg/src/Types.jl:68",
      "  [2] check_package_name",
      "    @ ~/Julia1.7/julia-1.7.0-rc2/share/julia/stdlib/v1.7/Pkg/src/API.jl:128 [inlined]",
      "  [3] add(ctx::Pkg.Types.Context, pkgs::Vector{Pkg.Types.PackageSpec}; preserve::Pkg.Types.PreserveLevel, platform::Base.BinaryPlatforms.Platform, kwargs::Base.Pairs{Symbol, IJulia.IJuliaStdio{Base.PipeEndpoint}, Tuple{Symbol}, NamedTuple{(:io,), Tuple{IJulia.IJuliaStdio{Base.PipeEndpoint}}}})",
      "    @ Pkg.API ~/Julia1.7/julia-1.7.0-rc2/share/julia/stdlib/v1.7/Pkg/src/API.jl:225",
      "  [4] add(pkgs::Vector{Pkg.Types.PackageSpec}; io::IJulia.IJuliaStdio{Base.PipeEndpoint}, kwargs::Base.Pairs{Symbol, Union{}, Tuple{}, NamedTuple{(), Tuple{}}})",
      "    @ Pkg.API ~/Julia1.7/julia-1.7.0-rc2/share/julia/stdlib/v1.7/Pkg/src/API.jl:149",
      "  [5] add(pkgs::Vector{Pkg.Types.PackageSpec})",
      "    @ Pkg.API ~/Julia1.7/julia-1.7.0-rc2/share/julia/stdlib/v1.7/Pkg/src/API.jl:144",
      "  [6] #add#27",
      "    @ ~/Julia1.7/julia-1.7.0-rc2/share/julia/stdlib/v1.7/Pkg/src/API.jl:142 [inlined]",
      "  [7] add",
      "    @ ~/Julia1.7/julia-1.7.0-rc2/share/julia/stdlib/v1.7/Pkg/src/API.jl:142 [inlined]",
      "  [8] #add#26",
      "    @ ~/Julia1.7/julia-1.7.0-rc2/share/julia/stdlib/v1.7/Pkg/src/API.jl:141 [inlined]",
      "  [9] add(pkg::String)",
      "    @ Pkg.API ~/Julia1.7/julia-1.7.0-rc2/share/julia/stdlib/v1.7/Pkg/src/API.jl:141",
      " [10] top-level scope",
      "    @ In[16]:2",
      " [11] eval",
      "    @ ./boot.jl:373 [inlined]",
      " [12] include_string(mapexpr::typeof(REPL.softscope), mod::Module, code::String, filename::String)",
      "    @ Base ./loading.jl:1196"
     ]
    }
   ],
   "source": [
    "Pkg.add(\"Distributions\")\n",
    "Pkg.add(\"\")"
   ]
  },
  {
   "cell_type": "markdown",
   "id": "84776eb8-c729-4edc-8710-0c4b7d7c5bd1",
   "metadata": {},
   "source": [
    "# Population dynamics for the messages"
   ]
  },
  {
   "cell_type": "code",
   "execution_count": 2,
   "id": "12effee5-110d-46eb-ae86-3ebd14b11091",
   "metadata": {},
   "outputs": [
    {
     "data": {
      "text/plain": [
       "7"
      ]
     },
     "execution_count": 2,
     "metadata": {},
     "output_type": "execute_result"
    }
   ],
   "source": [
    "Threads.nthreads()"
   ]
  },
  {
   "cell_type": "code",
   "execution_count": 3,
   "id": "bored-saudi",
   "metadata": {},
   "outputs": [
    {
     "data": {
      "text/plain": [
       "21-element LinRange{Float64, Int64}:\n",
       " 0.0,0.05,0.1,0.15,0.2,0.25,0.3,0.35,0.4,…,0.65,0.7,0.75,0.8,0.85,0.9,0.95,1.0"
      ]
     },
     "execution_count": 3,
     "metadata": {},
     "output_type": "execute_result"
    }
   ],
   "source": [
    "# S=0   I=1\n",
    "# The times go from ti = 0 to ti=T+1\n",
    "# when ti=0 it means that i is the zero patient\n",
    "# when ti=T+1 it means that i is never infected\n",
    "degreetype = \"regular\"\n",
    "d = 3 # degree \n",
    "T = 8 # discrete time\n",
    "N = 4000; #population size\n",
    "γ = 0.15\n",
    "λ = 0.15\n",
    "grid = 21\n",
    "frRange = LinRange(0.0,1.0,grid) # planted autoinfection probability\n",
    "dilRange = LinRange(0.0,1.0,grid) # planted infection rate\n",
    "\n",
    "#folderstring = \"./results/T=$(T)_d=$(d)_min=$(γvalues[1])_max=$(γvalues[end])_fr=$(fr)_dil=$(dil)/\""
   ]
  },
  {
   "cell_type": "code",
   "execution_count": 4,
   "id": "fe876e58-26f6-4cb4-9283-34629f697350",
   "metadata": {},
   "outputs": [
    {
     "data": {
      "text/plain": [
       "Dil_vs_FR (generic function with 1 method)"
      ]
     },
     "execution_count": 4,
     "metadata": {},
     "output_type": "execute_result"
    }
   ],
   "source": [
    "function Dil_vs_FR(γ, λ, N, T, dist, paramdist, frRange , dilRange ; tot_iterations = 2 )\n",
    "    inf_out = zeros(length(frRange),length(dilRange), T + 2) # 1 value for pdiag and T+1 values for the AUC\n",
    "    pr = Progress(length(frRange) * length(dilRange))\n",
    "    Threads.@threads for (frcount,dilcount) in collect(product(1:length(frRange),1:length(dilRange)))\n",
    "        λi = λp = λ\n",
    "        γi = γp = γ\n",
    "        fr = frRange[frcount]\n",
    "        dilution = dilRange[dilcount]\n",
    "        marg = pop_dynamics(N, T, λp, λi, γp, γi, dist, paramdist, tot_iterations = tot_iterations, fr=fr, dilution=dilution)\n",
    "        marg2D = reshape((sum(marg,dims=1)./ N),T+2,T+2);\n",
    "        # we sum over the trace of the 2D marginal to find the probability to infere correctly\n",
    "        inf_out[frcount,dilcount,1] = sum([marg2D[t,t] for t=1:T+2])\n",
    "        inf_out[frcount,dilcount,2:end] .= avgAUC(marg)\n",
    "        ProgressMeter.next!(pr)\n",
    "    end\n",
    "    return inf_out\n",
    "end\n"
   ]
  },
  {
   "cell_type": "code",
   "execution_count": 5,
   "id": "f6c9721f-9cdc-43f5-b0dc-b6c9a6159c68",
   "metadata": {
    "tags": []
   },
   "outputs": [
    {
     "ename": "LoadError",
     "evalue": "UndefVarError: Progress not defined",
     "output_type": "error",
     "traceback": [
      "UndefVarError: Progress not defined",
      "",
      "Stacktrace:",
      " [1] Dil_vs_FR(γ::Float64, λ::Float64, N::Int64, T::Int64, dist::String, paramdist::Int64, frRange::LinRange{Float64, Int64}, dilRange::LinRange{Float64, Int64}; tot_iterations::Int64)",
      "   @ Main ./In[4]:3",
      " [2] top-level scope",
      "   @ In[5]:1",
      " [3] eval",
      "   @ ./boot.jl:373 [inlined]",
      " [4] include_string(mapexpr::typeof(REPL.softscope), mod::Module, code::String, filename::String)",
      "   @ Base ./loading.jl:1196"
     ]
    }
   ],
   "source": [
    "miao = Dil_vs_FR(γ, λ, N, T, degreetype, d, frRange , dilRange ; tot_iterations = 10 )\n",
    "open(\"./results/diag.txt\",\"w\") do io\n",
    "    writedlm(io,miao[:,:,1]) \n",
    "end\n",
    "for t = 1:T+1\n",
    "    open(\"./results/AUC$(t).txt\",\"w\") do io\n",
    "        writedlm(io,miao[:,:,t+1]) \n",
    "    end\n",
    "end"
   ]
  },
  {
   "cell_type": "code",
   "execution_count": 6,
   "id": "48d96821-bedc-4edd-9630-02a677e4a0f6",
   "metadata": {},
   "outputs": [
    {
     "ename": "LoadError",
     "evalue": "UndefVarError: miao not defined",
     "output_type": "error",
     "traceback": [
      "UndefVarError: miao not defined",
      "",
      "Stacktrace:",
      " [1] top-level scope",
      "   @ In[6]:1",
      " [2] eval",
      "   @ ./boot.jl:373 [inlined]",
      " [3] include_string(mapexpr::typeof(REPL.softscope), mod::Module, code::String, filename::String)",
      "   @ Base ./loading.jl:1196"
     ]
    }
   ],
   "source": [
    "heatmap(dilRange,frRange,miao[:,:,end],ylabel=\"fr\",xlabel=\"dil\")"
   ]
  },
  {
   "cell_type": "code",
   "execution_count": null,
   "id": "9b38e8ca-5b84-4537-83ff-356072c6b207",
   "metadata": {},
   "outputs": [],
   "source": []
  },
  {
   "cell_type": "code",
   "execution_count": null,
   "id": "e9efdb5a-e06b-41c4-9c7b-c46fcee51fab",
   "metadata": {},
   "outputs": [],
   "source": []
  },
  {
   "cell_type": "code",
   "execution_count": null,
   "id": "64b8cb57-87f1-4bce-ab95-70a32d96de5c",
   "metadata": {},
   "outputs": [],
   "source": []
  },
  {
   "cell_type": "code",
   "execution_count": null,
   "id": "682ca726-6ec1-4c60-9c00-b2dcbe275d4b",
   "metadata": {},
   "outputs": [],
   "source": []
  }
 ],
 "metadata": {
  "kernelspec": {
   "display_name": "Julia 1.7.0-rc2",
   "language": "julia",
   "name": "julia-1.7"
  },
  "language_info": {
   "file_extension": ".jl",
   "mimetype": "application/julia",
   "name": "julia",
   "version": "1.7.0"
  }
 },
 "nbformat": 4,
 "nbformat_minor": 5
}
