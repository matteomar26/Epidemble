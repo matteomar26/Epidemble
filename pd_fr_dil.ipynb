{
 "cells": [
  {
   "cell_type": "code",
   "execution_count": 1,
   "id": "vocal-sellers",
   "metadata": {},
   "outputs": [
    {
     "data": {
      "text/plain": [
       "avgAUC (generic function with 1 method)"
      ]
     },
     "execution_count": 1,
     "metadata": {},
     "output_type": "execute_result"
    }
   ],
   "source": [
    "import OffsetArrays\n",
    "using Plots\n",
    "using Revise\n",
    "using ProgressMeter\n",
    "using SparseArrays, LinearAlgebra, IndexedGraphs, Graphs\n",
    "using IterTools\n",
    "using DelimitedFiles\n",
    "include(\"./src/functions.jl\")"
   ]
  },
  {
   "cell_type": "markdown",
   "id": "84776eb8-c729-4edc-8710-0c4b7d7c5bd1",
   "metadata": {},
   "source": [
    "# Population dynamics for the messages"
   ]
  },
  {
   "cell_type": "code",
   "execution_count": 2,
   "id": "12effee5-110d-46eb-ae86-3ebd14b11091",
   "metadata": {},
   "outputs": [
    {
     "data": {
      "text/plain": [
       "7"
      ]
     },
     "execution_count": 2,
     "metadata": {},
     "output_type": "execute_result"
    }
   ],
   "source": [
    "Threads.nthreads()"
   ]
  },
  {
   "cell_type": "code",
   "execution_count": 4,
   "id": "bored-saudi",
   "metadata": {},
   "outputs": [
    {
     "data": {
      "text/plain": [
       "11-element LinRange{Float64, Int64}:\n",
       " 0.0,0.05,0.1,0.15,0.2,0.25,0.3,0.35,0.4,0.45,0.5"
      ]
     },
     "execution_count": 4,
     "metadata": {},
     "output_type": "execute_result"
    }
   ],
   "source": [
    "# S=0   I=1\n",
    "# The times go from ti = 0 to ti=T+1\n",
    "# when ti=0 it means that i is the zero patient\n",
    "# when ti=T+1 it means that i is never infected\n",
    "degreetype = \"regular\"\n",
    "d = 3 # degree \n",
    "T = 8 # discrete time\n",
    "N = 5000; #population size\n",
    "γ = 0.15\n",
    "λ = 0.15\n",
    "grid = 11\n",
    "\n",
    "dilRange = LinRange(0.0,1.0,grid) \n",
    "frRange = LinRange(0.0,0.5,grid) \n",
    "#folderstring = \"./results/T=$(T)_d=$(d)_min=$(γvalues[1])_max=$(γvalues[end])_fr=$(fr)_dil=$(dil)/\""
   ]
  },
  {
   "cell_type": "code",
   "execution_count": null,
   "id": "2924ebdc-f703-48bf-8c01-500b7c8b6224",
   "metadata": {},
   "outputs": [],
   "source": []
  },
  {
   "cell_type": "code",
   "execution_count": 5,
   "id": "fe876e58-26f6-4cb4-9283-34629f697350",
   "metadata": {},
   "outputs": [
    {
     "data": {
      "text/plain": [
       "Dil_vs_FR (generic function with 1 method)"
      ]
     },
     "execution_count": 5,
     "metadata": {},
     "output_type": "execute_result"
    }
   ],
   "source": [
    "function Dil_vs_FR(γ, λ, N, T, dist, paramdist, frRange , dilRange ; tot_iterations = 1 )\n",
    "    inf_out = zeros(length(frRange),length(dilRange), T + 2) # 1 value for pdiag and T+1 values for the AUC\n",
    "    #pr = Progress(length(frRange) * length(dilRange))\n",
    "    Threads.@threads for (frcount,dilcount) in collect(product(1:length(frRange),1:length(dilRange)))\n",
    "        λi = λp = λ\n",
    "        γi = γp = γ\n",
    "        fr = frRange[frcount]\n",
    "        dilution = dilRange[dilcount]\n",
    "        marg = pop_dynamics(N, T, λp, λi, γp, γi, dist, paramdist, tot_iterations = tot_iterations, fr=fr, dilution=dilution)\n",
    "        marg2D = reshape((sum(marg,dims=1)./ N),T+2,T+2);\n",
    "        # we sum over the trace of the 2D marginal to find the probability to infere correctly\n",
    "        inf_out[frcount,dilcount,1] = sum([marg2D[t,t] for t=1:T+2])\n",
    "        inf_out[frcount,dilcount,2:end] .= avgAUC(marg)\n",
    "        #ProgressMeter.next!(pr)\n",
    "    end\n",
    "    return inf_out\n",
    "end\n"
   ]
  },
  {
   "cell_type": "code",
   "execution_count": null,
   "id": "f6c9721f-9cdc-43f5-b0dc-b6c9a6159c68",
   "metadata": {
    "tags": []
   },
   "outputs": [],
   "source": [
    "miao = Dil_vs_FR(γ, λ, N, T, degreetype, d, frRange , dilRange ; tot_iterations = 60 )\n",
    "open(\"./results/diag.txt\",\"w\") do io\n",
    "    writedlm(io,miao[:,:,1]) \n",
    "end\n",
    "for t = 1:T+1\n",
    "    open(\"./results/AUC$(t).txt\",\"w\") do io\n",
    "        writedlm(io,miao[:,:,t+1]) \n",
    "    end\n",
    "end"
   ]
  },
  {
   "cell_type": "code",
   "execution_count": null,
   "id": "48d96821-bedc-4edd-9630-02a677e4a0f6",
   "metadata": {},
   "outputs": [],
   "source": [
    "heatmap(dilRange,frRange,miao[:,:,end],ylabel=\"fr\",xlabel=\"dil\")"
   ]
  },
  {
   "cell_type": "code",
   "execution_count": null,
   "id": "e9efdb5a-e06b-41c4-9c7b-c46fcee51fab",
   "metadata": {},
   "outputs": [],
   "source": []
  },
  {
   "cell_type": "code",
   "execution_count": null,
   "id": "64b8cb57-87f1-4bce-ab95-70a32d96de5c",
   "metadata": {},
   "outputs": [],
   "source": []
  },
  {
   "cell_type": "code",
   "execution_count": null,
   "id": "682ca726-6ec1-4c60-9c00-b2dcbe275d4b",
   "metadata": {},
   "outputs": [],
   "source": []
  }
 ],
 "metadata": {
  "kernelspec": {
   "display_name": "Julia 1.7.0-rc2",
   "language": "julia",
   "name": "julia-1.7"
  },
  "language_info": {
   "file_extension": ".jl",
   "mimetype": "application/julia",
   "name": "julia",
   "version": "1.7.0"
  }
 },
 "nbformat": 4,
 "nbformat_minor": 5
}
