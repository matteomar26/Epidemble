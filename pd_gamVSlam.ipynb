{
 "cells": [
  {
   "cell_type": "code",
   "execution_count": 1,
   "id": "employed-light",
   "metadata": {},
   "outputs": [],
   "source": [
    "# Dubbi:\n",
    "#2 come faccio a non fare re-inserimento ?? Ricorda io estraggo d-1 cosi, più uno, più un altro che è quello di arrivo"
   ]
  },
  {
   "cell_type": "code",
   "execution_count": 13,
   "id": "vocal-sellers",
   "metadata": {},
   "outputs": [
    {
     "data": {
      "text/plain": [
       "avgAUC (generic function with 1 method)"
      ]
     },
     "execution_count": 13,
     "metadata": {},
     "output_type": "execute_result"
    }
   ],
   "source": [
    "import OffsetArrays\n",
    "using Plots\n",
    "using Revise\n",
    "using ProgressMeter\n",
    "using SparseArrays, LinearAlgebra, IndexedGraphs, Graphs\n",
    "using IterTools\n",
    "using DelimitedFiles\n",
    "include(\"./src/functions.jl\")"
   ]
  },
  {
   "cell_type": "markdown",
   "id": "84776eb8-c729-4edc-8710-0c4b7d7c5bd1",
   "metadata": {},
   "source": [
    "# Population dynamics for the messages"
   ]
  },
  {
   "cell_type": "code",
   "execution_count": 14,
   "id": "12effee5-110d-46eb-ae86-3ebd14b11091",
   "metadata": {},
   "outputs": [
    {
     "data": {
      "text/plain": [
       "7"
      ]
     },
     "execution_count": 14,
     "metadata": {},
     "output_type": "execute_result"
    }
   ],
   "source": [
    "Threads.nthreads()"
   ]
  },
  {
   "cell_type": "code",
   "execution_count": 15,
   "id": "bored-saudi",
   "metadata": {},
   "outputs": [
    {
     "data": {
      "text/plain": [
       "\"./results/T=8_d=3_min=0.01_max=0.25_fr=0.3_dil=0.0/\""
      ]
     },
     "execution_count": 15,
     "metadata": {},
     "output_type": "execute_result"
    }
   ],
   "source": [
    "# S=0   I=1\n",
    "# The times go from ti = 0 to ti=T+1\n",
    "# when ti=0 it means that i is the zero patient\n",
    "# when ti=T+1 it means that i is never infected\n",
    "degreetype = \"regular\"\n",
    "d = 3 # degree \n",
    "T = 8 # discrete time\n",
    "N = 5000; #population size\n",
    "\n",
    "grid = 20\n",
    "γvalues = LinRange(0.01,0.25,grid) # planted autoinfection probability\n",
    "λvalues = γvalues # planted infection rate\n",
    "fr = 0.3\n",
    "dil = 0.0\n",
    "folderstring = \"./results/T=$(T)_d=$(d)_min=$(γvalues[1])_max=$(γvalues[end])_fr=$(fr)_dil=$(dil)/\""
   ]
  },
  {
   "cell_type": "code",
   "execution_count": null,
   "id": "1fb3a346-040f-44ad-8467-0257c74b2da2",
   "metadata": {
    "tags": []
   },
   "outputs": [],
   "source": [
    "inference = PhaseDiagram(γvalues, λvalues, N, T, degreetype, d; tot_iterations = 10, fr = fr, dilution = dil)\n",
    "open(\"$(folderstring)diag.txt\",\"w\") do io\n",
    "    writedlm(io,inference[:,:,1]) \n",
    "end\n",
    "for t = 1:T+1\n",
    "    open(\"$(folderstring)AUC$(t).txt\",\"w\") do io\n",
    "        writedlm(io,inference[:,:,t+1]) \n",
    "    end\n",
    "end"
   ]
  },
  {
   "cell_type": "code",
   "execution_count": null,
   "id": "fe876e58-26f6-4cb4-9283-34629f697350",
   "metadata": {},
   "outputs": [],
   "source": []
  },
  {
   "cell_type": "code",
   "execution_count": null,
   "id": "f6c9721f-9cdc-43f5-b0dc-b6c9a6159c68",
   "metadata": {},
   "outputs": [],
   "source": []
  }
 ],
 "metadata": {
  "kernelspec": {
   "display_name": "Julia 1.7.0-rc2",
   "language": "julia",
   "name": "julia-1.7"
  },
  "language_info": {
   "file_extension": ".jl",
   "mimetype": "application/julia",
   "name": "julia",
   "version": "1.7.0"
  }
 },
 "nbformat": 4,
 "nbformat_minor": 5
}
