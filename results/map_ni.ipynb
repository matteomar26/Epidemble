{
 "cells": [
  {
   "cell_type": "code",
   "execution_count": 3,
   "id": "vocal-sellers",
   "metadata": {},
   "outputs": [
    {
     "data": {
      "text/plain": [
       "makeDistrib (generic function with 1 method)"
      ]
     },
     "execution_count": 3,
     "metadata": {},
     "output_type": "execute_result"
    }
   ],
   "source": [
    "import OffsetArrays\n",
    "using Plots\n",
    "using Revise\n",
    "using StatsBase\n",
    "using ProgressMeter\n",
    "#using Distribution\n",
    "using SparseArrays, LinearAlgebra, IndexedGraphs, Graphs\n",
    "srcpath = \"../src\"\n",
    "include(\"$srcpath/functions.jl\")"
   ]
  },
  {
   "cell_type": "code",
   "execution_count": 4,
   "id": "bored-saudi",
   "metadata": {},
   "outputs": [
    {
     "data": {
      "text/plain": [
       "Poisson{Float64}(λ=3.0)"
      ]
     },
     "execution_count": 4,
     "metadata": {},
     "output_type": "execute_result"
    }
   ],
   "source": [
    "# S=0   I=1\n",
    "# The times go from ti = 0 to ti=T+1\n",
    "# when ti=0 it means that i is the zero patient\n",
    "# when ti=T+1 it means that i is never infected\n",
    "\n",
    "degreetype = \"regular\";\n",
    "degreetype = \"poisson\";\n",
    "#degreeype = \"ft\";\n",
    "\n",
    "d = 3 # degree \n",
    "T = 8 # discrete time\n",
    "\n",
    "γp = 0.15 # planted autoinfection probability\n",
    "γi = 0.15 # inferred autoinfection probability\n",
    "\n",
    "N = 15000; #population size\n",
    "\n",
    "dilution = 0.\n",
    "fr = 0.;\n",
    "\n",
    "\n",
    "degree_dist = makeDistrib(degreetype,d)"
   ]
  },
  {
   "cell_type": "markdown",
   "id": "through-scientist",
   "metadata": {},
   "source": [
    "# Calculation of fraction of infected for the selected graph"
   ]
  },
  {
   "cell_type": "code",
   "execution_count": 19,
   "id": "6ce6df84-c312-496e-9bfb-8ccbfe54f6d5",
   "metadata": {
    "tags": []
   },
   "outputs": [
    {
     "ename": "LoadError",
     "evalue": "TaskFailedException\n\n\u001b[91m    nested task error: \u001b[39mInterruptException:\n    Stacktrace:\n      [1] \u001b[0m\u001b[1miterate\u001b[22m\n    \u001b[90m    @ \u001b[39m\u001b[90m./\u001b[39m\u001b[90m\u001b[4mrange.jl:832\u001b[24m\u001b[39m\u001b[90m [inlined]\u001b[39m\n      [2] \u001b[0m\u001b[1mgetindex\u001b[22m\n    \u001b[90m    @ \u001b[39m\u001b[90m./\u001b[39m\u001b[90m\u001b[4mrange.jl:382\u001b[24m\u001b[39m\u001b[90m [inlined]\u001b[39m\n      [3] \u001b[0m\u001b[1m_accumulate!\u001b[22m\u001b[0m\u001b[1m(\u001b[22m\u001b[90mop\u001b[39m::\u001b[0mtypeof(Base.add_sum), \u001b[90mB\u001b[39m::\u001b[0mOffsetArrays.OffsetArray\u001b[90m{Float64, 4, Array{Float64, 4}}\u001b[39m, \u001b[90mA\u001b[39m::\u001b[0mOffsetArrays.OffsetArray\u001b[90m{Float64, 4, Array{Float64, 4}}\u001b[39m, \u001b[90mdims\u001b[39m::\u001b[0mInt64, \u001b[90minit\u001b[39m::\u001b[0mNothing\u001b[0m\u001b[1m)\u001b[22m\n    \u001b[90m    @ \u001b[39m\u001b[90mBase\u001b[39m \u001b[90m./\u001b[39m\u001b[90m\u001b[4maccumulate.jl:409\u001b[24m\u001b[39m\n      [4] \u001b[0m\u001b[1m#accumulate!#791\u001b[22m\n    \u001b[90m    @ \u001b[39m\u001b[90m./\u001b[39m\u001b[90m\u001b[4maccumulate.jl:361\u001b[24m\u001b[39m\u001b[90m [inlined]\u001b[39m\n      [5] \u001b[0m\u001b[1m#cumsum!#782\u001b[22m\n    \u001b[90m    @ \u001b[39m\u001b[90m./\u001b[39m\u001b[90m\u001b[4maccumulate.jl:46\u001b[24m\u001b[39m\u001b[90m [inlined]\u001b[39m\n      [6] \u001b[0m\u001b[1m#cumsum#784\u001b[22m\n    \u001b[90m    @ \u001b[39m\u001b[90m./\u001b[39m\u001b[90m\u001b[4maccumulate.jl:113\u001b[24m\u001b[39m\u001b[90m [inlined]\u001b[39m\n      [7] \u001b[0m\u001b[1mpop_dynamics\u001b[22m\u001b[0m\u001b[1m(\u001b[22m\u001b[90mN\u001b[39m::\u001b[0mInt64, \u001b[90mT\u001b[39m::\u001b[0mInt64, \u001b[90mλp\u001b[39m::\u001b[0mFloat64, \u001b[90mλi\u001b[39m::\u001b[0mFloat64, \u001b[90mγp\u001b[39m::\u001b[0mFloat64, \u001b[90mγi\u001b[39m::\u001b[0mFloat64, \u001b[90mdegree_dist\u001b[39m::\u001b[0mPoisson\u001b[90m{Float64}\u001b[39m; \u001b[90mtot_iterations\u001b[39m::\u001b[0mInt64, \u001b[90mfr\u001b[39m::\u001b[0mFloat64, \u001b[90mdilution\u001b[39m::\u001b[0mFloat64\u001b[0m\u001b[1m)\u001b[22m\n    \u001b[90m    @ \u001b[39m\u001b[35mMain\u001b[39m \u001b[90m~/git/Epidemble/src/\u001b[39m\u001b[90m\u001b[4mfunctions.jl:275\u001b[24m\u001b[39m\n      [8] \u001b[0m\u001b[1mmacro expansion\u001b[22m\n    \u001b[90m    @ \u001b[39m\u001b[90m./\u001b[39m\u001b[90m\u001b[4mIn[19]:7\u001b[24m\u001b[39m\u001b[90m [inlined]\u001b[39m\n      [9] \u001b[0m\u001b[1m(::var\"#2598#threadsfor_fun#26\"{UnitRange{Int64}})\u001b[22m\u001b[0m\u001b[1m(\u001b[22m\u001b[90monethread\u001b[39m::\u001b[0mBool\u001b[0m\u001b[1m)\u001b[22m\n    \u001b[90m    @ \u001b[39m\u001b[35mMain\u001b[39m \u001b[90m./\u001b[39m\u001b[90m\u001b[4mthreadingconstructs.jl:85\u001b[24m\u001b[39m\n     [10] \u001b[0m\u001b[1m(::var\"#2598#threadsfor_fun#26\"{UnitRange{Int64}})\u001b[22m\u001b[0m\u001b[1m(\u001b[22m\u001b[0m\u001b[1m)\u001b[22m\n    \u001b[90m    @ \u001b[39m\u001b[35mMain\u001b[39m \u001b[90m./\u001b[39m\u001b[90m\u001b[4mthreadingconstructs.jl:52\u001b[24m\u001b[39m",
     "output_type": "error",
     "traceback": [
      "TaskFailedException\n\n\u001b[91m    nested task error: \u001b[39mInterruptException:\n    Stacktrace:\n      [1] \u001b[0m\u001b[1miterate\u001b[22m\n    \u001b[90m    @ \u001b[39m\u001b[90m./\u001b[39m\u001b[90m\u001b[4mrange.jl:832\u001b[24m\u001b[39m\u001b[90m [inlined]\u001b[39m\n      [2] \u001b[0m\u001b[1mgetindex\u001b[22m\n    \u001b[90m    @ \u001b[39m\u001b[90m./\u001b[39m\u001b[90m\u001b[4mrange.jl:382\u001b[24m\u001b[39m\u001b[90m [inlined]\u001b[39m\n      [3] \u001b[0m\u001b[1m_accumulate!\u001b[22m\u001b[0m\u001b[1m(\u001b[22m\u001b[90mop\u001b[39m::\u001b[0mtypeof(Base.add_sum), \u001b[90mB\u001b[39m::\u001b[0mOffsetArrays.OffsetArray\u001b[90m{Float64, 4, Array{Float64, 4}}\u001b[39m, \u001b[90mA\u001b[39m::\u001b[0mOffsetArrays.OffsetArray\u001b[90m{Float64, 4, Array{Float64, 4}}\u001b[39m, \u001b[90mdims\u001b[39m::\u001b[0mInt64, \u001b[90minit\u001b[39m::\u001b[0mNothing\u001b[0m\u001b[1m)\u001b[22m\n    \u001b[90m    @ \u001b[39m\u001b[90mBase\u001b[39m \u001b[90m./\u001b[39m\u001b[90m\u001b[4maccumulate.jl:409\u001b[24m\u001b[39m\n      [4] \u001b[0m\u001b[1m#accumulate!#791\u001b[22m\n    \u001b[90m    @ \u001b[39m\u001b[90m./\u001b[39m\u001b[90m\u001b[4maccumulate.jl:361\u001b[24m\u001b[39m\u001b[90m [inlined]\u001b[39m\n      [5] \u001b[0m\u001b[1m#cumsum!#782\u001b[22m\n    \u001b[90m    @ \u001b[39m\u001b[90m./\u001b[39m\u001b[90m\u001b[4maccumulate.jl:46\u001b[24m\u001b[39m\u001b[90m [inlined]\u001b[39m\n      [6] \u001b[0m\u001b[1m#cumsum#784\u001b[22m\n    \u001b[90m    @ \u001b[39m\u001b[90m./\u001b[39m\u001b[90m\u001b[4maccumulate.jl:113\u001b[24m\u001b[39m\u001b[90m [inlined]\u001b[39m\n      [7] \u001b[0m\u001b[1mpop_dynamics\u001b[22m\u001b[0m\u001b[1m(\u001b[22m\u001b[90mN\u001b[39m::\u001b[0mInt64, \u001b[90mT\u001b[39m::\u001b[0mInt64, \u001b[90mλp\u001b[39m::\u001b[0mFloat64, \u001b[90mλi\u001b[39m::\u001b[0mFloat64, \u001b[90mγp\u001b[39m::\u001b[0mFloat64, \u001b[90mγi\u001b[39m::\u001b[0mFloat64, \u001b[90mdegree_dist\u001b[39m::\u001b[0mPoisson\u001b[90m{Float64}\u001b[39m; \u001b[90mtot_iterations\u001b[39m::\u001b[0mInt64, \u001b[90mfr\u001b[39m::\u001b[0mFloat64, \u001b[90mdilution\u001b[39m::\u001b[0mFloat64\u001b[0m\u001b[1m)\u001b[22m\n    \u001b[90m    @ \u001b[39m\u001b[35mMain\u001b[39m \u001b[90m~/git/Epidemble/src/\u001b[39m\u001b[90m\u001b[4mfunctions.jl:275\u001b[24m\u001b[39m\n      [8] \u001b[0m\u001b[1mmacro expansion\u001b[22m\n    \u001b[90m    @ \u001b[39m\u001b[90m./\u001b[39m\u001b[90m\u001b[4mIn[19]:7\u001b[24m\u001b[39m\u001b[90m [inlined]\u001b[39m\n      [9] \u001b[0m\u001b[1m(::var\"#2598#threadsfor_fun#26\"{UnitRange{Int64}})\u001b[22m\u001b[0m\u001b[1m(\u001b[22m\u001b[90monethread\u001b[39m::\u001b[0mBool\u001b[0m\u001b[1m)\u001b[22m\n    \u001b[90m    @ \u001b[39m\u001b[35mMain\u001b[39m \u001b[90m./\u001b[39m\u001b[90m\u001b[4mthreadingconstructs.jl:85\u001b[24m\u001b[39m\n     [10] \u001b[0m\u001b[1m(::var\"#2598#threadsfor_fun#26\"{UnitRange{Int64}})\u001b[22m\u001b[0m\u001b[1m(\u001b[22m\u001b[0m\u001b[1m)\u001b[22m\n    \u001b[90m    @ \u001b[39m\u001b[35mMain\u001b[39m \u001b[90m./\u001b[39m\u001b[90m\u001b[4mthreadingconstructs.jl:52\u001b[24m\u001b[39m",
      "",
      "Stacktrace:",
      " [1] wait",
      "   @ ./task.jl:322 [inlined]",
      " [2] threading_run(func::Function)",
      "   @ Base.Threads ./threadingconstructs.jl:38",
      " [3] top-level scope",
      "   @ ./threadingconstructs.jl:97"
     ]
    }
   ],
   "source": [
    "λvals = LinRange(0.01,1.0,100)\n",
    "ni = zeros(length(λvals))\n",
    "Threads.@threads for λcount = 1:length(λvals)\n",
    "    λ = λvals[λcount]\n",
    "    λp = λ\n",
    "    λi = λ\n",
    "    marg = pop_dynamics(N, T, λp, λi, γp, γi, degree_dist, tot_iterations = 40, fr = fr, dilution = dilution);\n",
    "    marg2D = reshape((sum(marg,dims=1)./ N),T+2,T+2);\n",
    "    ni[λcount] = sum(sum(marg2D,dims=1)'[1:end-1])\n",
    "end"
   ]
  },
  {
   "cell_type": "code",
   "execution_count": 20,
   "id": "fb11fe95-7ce8-4275-9550-7969d05aa4aa",
   "metadata": {},
   "outputs": [
    {
     "ename": "LoadError",
     "evalue": "InterruptException:",
     "output_type": "error",
     "traceback": [
      "InterruptException:",
      "",
      "Stacktrace:",
      " [1] process_userrecipe!(plt::Plots.Plot{Plots.GRBackend}, kw_list::Vector{Dict{Symbol, Any}}, kw::Dict{Symbol, Any})",
      "   @ Plots ~/.julia/packages/Plots/nqFaB/src/pipeline.jl:60",
      " [2] _finish_userrecipe!(plt::Plots.Plot{Plots.GRBackend}, kw_list::Vector{Dict{Symbol, Any}}, recipedata::RecipeData)",
      "   @ RecipesPipeline ~/.julia/packages/RecipesPipeline/XxUHt/src/user_recipe.jl:102",
      " [3] _process_userrecipes!(plt::Any, plotattributes::Any, args::Any)",
      "   @ RecipesPipeline ~/.julia/packages/RecipesPipeline/XxUHt/src/user_recipe.jl:36",
      " [4] recipe_pipeline!(plt::Any, plotattributes::Any, args::Any)",
      "   @ RecipesPipeline ~/.julia/packages/RecipesPipeline/XxUHt/src/RecipesPipeline.jl:72",
      " [5] _plot!(plt::Plots.Plot, plotattributes::Any, args::Any)",
      "   @ Plots ~/.julia/packages/Plots/nqFaB/src/plot.jl:223",
      " [6] plot(::Any, ::Vararg{Any}; kw::Base.Pairs{Symbol, V, Tuple{Vararg{Symbol, N}}, NamedTuple{names, T}} where {V, N, names, T<:Tuple{Vararg{Any, N}}})",
      "   @ Plots ~/.julia/packages/Plots/nqFaB/src/plot.jl:102",
      " [7] plot(::Any, ::Any)",
      "   @ Plots ~/.julia/packages/Plots/nqFaB/src/plot.jl:96",
      " [8] top-level scope",
      "   @ In[20]:1"
     ]
    }
   ],
   "source": [
    "plot(λvals,ni)"
   ]
  },
  {
   "cell_type": "raw",
   "id": "c83c691d-7380-49ff-bea2-a798e2cbc68c",
   "metadata": {},
   "source": [
    "\n",
    "using DelimitedFiles\n",
    "open(\"./infected/ni_er_T=$(T)_d=$(d)_lam0.01_1.0.txt\",\"w\") do io\n",
    "    writedlm(io,ni) \n",
    "end"
   ]
  },
  {
   "cell_type": "code",
   "execution_count": 10,
   "id": "a8dbdbf1-81bb-44b7-9d9a-ee5794df06af",
   "metadata": {},
   "outputs": [
    {
     "data": {
      "text/plain": [
       "\"poisson\""
      ]
     },
     "execution_count": 10,
     "metadata": {},
     "output_type": "execute_result"
    }
   ],
   "source": [
    "degreetype"
   ]
  },
  {
   "cell_type": "code",
   "execution_count": null,
   "id": "e2af218a-9f4d-4692-a90f-5474916e4eac",
   "metadata": {},
   "outputs": [],
   "source": []
  }
 ],
 "metadata": {
  "kernelspec": {
   "display_name": "Julia 1.7.0-rc2",
   "language": "julia",
   "name": "julia-1.7"
  },
  "language_info": {
   "file_extension": ".jl",
   "mimetype": "application/julia",
   "name": "julia",
   "version": "1.7.0"
  }
 },
 "nbformat": 4,
 "nbformat_minor": 5
}
