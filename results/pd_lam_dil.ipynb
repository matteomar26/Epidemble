{
 "cells": [
  {
   "cell_type": "code",
   "execution_count": 12,
   "id": "vocal-sellers",
   "metadata": {},
   "outputs": [
    {
     "data": {
      "text/plain": [
       "avgAUC (generic function with 1 method)"
      ]
     },
     "execution_count": 12,
     "metadata": {},
     "output_type": "execute_result"
    }
   ],
   "source": [
    "import OffsetArrays\n",
    "using Plots\n",
    "using Revise\n",
    "using ProgressMeter\n",
    "using SparseArrays, LinearAlgebra, IndexedGraphs, Graphs\n",
    "using IterTools\n",
    "using DelimitedFiles\n",
    "include(\"../src/functions.jl\")"
   ]
  },
  {
   "cell_type": "markdown",
   "id": "84776eb8-c729-4edc-8710-0c4b7d7c5bd1",
   "metadata": {},
   "source": [
    "# Population dynamics for the messages"
   ]
  },
  {
   "cell_type": "code",
   "execution_count": 13,
   "id": "12effee5-110d-46eb-ae86-3ebd14b11091",
   "metadata": {},
   "outputs": [
    {
     "data": {
      "text/plain": [
       "40"
      ]
     },
     "execution_count": 13,
     "metadata": {},
     "output_type": "execute_result"
    }
   ],
   "source": [
    "Threads.nthreads()"
   ]
  },
  {
   "cell_type": "code",
   "execution_count": 14,
   "id": "bored-saudi",
   "metadata": {},
   "outputs": [
    {
     "data": {
      "text/plain": [
       "41-element LinRange{Float64, Int64}:\n",
       " 0.01,0.01975,0.0295,0.03925,0.049,0.05875,…,0.361,0.37075,0.3805,0.39025,0.4"
      ]
     },
     "execution_count": 14,
     "metadata": {},
     "output_type": "execute_result"
    }
   ],
   "source": [
    "# S=0   I=1\n",
    "# The times go from ti = 0 to ti=T+1\n",
    "# when ti=0 it means that i is the zero patient\n",
    "# when ti=T+1 it means that i is never infected\n",
    "degreetype = \"poisson\"\n",
    "d = 3 # degree \n",
    "T = 8 # discrete time\n",
    "N = 30000; #population size\n",
    "γ = 0.15\n",
    "fr = 0.0\n",
    "grid = 41\n",
    "\n",
    "dilRange = LinRange(0.,0.5,2)\n",
    "λRange = LinRange(0.01,0.4,grid) \n",
    "#folderstring = \"./results/T=$(T)_d=$(d)_min=$(γvalues[1])_max=$(γvalues[end])_fr=$(fr)_dil=$(dil)/\""
   ]
  },
  {
   "cell_type": "code",
   "execution_count": 16,
   "id": "5da6daae-22cf-4c4d-bb7e-3ea055617e39",
   "metadata": {},
   "outputs": [
    {
     "data": {
      "text/plain": [
       "Poisson{Float64}(λ=3.0)"
      ]
     },
     "execution_count": 16,
     "metadata": {},
     "output_type": "execute_result"
    }
   ],
   "source": [
    "makeDistrib(degreetype, d)"
   ]
  },
  {
   "cell_type": "code",
   "execution_count": 17,
   "id": "264657a8-1597-489c-b3fd-af47531dfbb3",
   "metadata": {},
   "outputs": [
    {
     "data": {
      "text/plain": [
       "inf_vs_dil (generic function with 1 method)"
      ]
     },
     "execution_count": 17,
     "metadata": {},
     "output_type": "execute_result"
    }
   ],
   "source": [
    "function inf_vs_dil(γ, λRange, N, T, degreetype, d, fr , dilRange ; tot_iterations = 1 )\n",
    "    inf_out = zeros(length(λRange),length(dilRange), T + 2) # 1 value for pdiag and T+1 values for the AUC\n",
    "    degree_dist = makeDistrib(degreetype, d)\n",
    "    Threads.@threads for (λcount,dilcount) in collect(product(1:length(λRange),1:length(dilRange)))\n",
    "        λi = λp = λRange[λcount]\n",
    "        γi = γp = γ\n",
    "       # @show λi λp\n",
    "        dilution = dilRange[dilcount]\n",
    "        marg = pop_dynamics(N, T, λp, λi, γp, γi, degree_dist, tot_iterations = tot_iterations, fr=fr, dilution=dilution)\n",
    "        marg2D = reshape((sum(marg,dims=1)./ N),T+2,T+2);\n",
    "        # we sum over the trace of the 2D marginal to find the probability to infere correctly\n",
    "        inf_out[λcount,dilcount,1] = sum([marg2D[t,t] for t=1:T+2])\n",
    "        inf_out[λcount,dilcount,2:end] .= avgAUC(marg)\n",
    "        #ProgressMeter.next!(pr)\n",
    "    end\n",
    "    return inf_out\n",
    "end\n"
   ]
  },
  {
   "cell_type": "code",
   "execution_count": null,
   "id": "2460ccb7-60d9-4fce-919e-308722f9f1bd",
   "metadata": {
    "tags": []
   },
   "outputs": [],
   "source": [
    "inf_out = inf_vs_dil(γ, λRange, N, T, degreetype, d, fr , dilRange , tot_iterations = 200);"
   ]
  },
  {
   "cell_type": "code",
   "execution_count": null,
   "id": "732fe41c-0f47-4424-949a-419cc92ac86a",
   "metadata": {
    "tags": []
   },
   "outputs": [],
   "source": [
    "open(\"./dil_lam_er_1/diag.txt\",\"w\") do io\n",
    "    writedlm(io,inf_out[:,:,1]) \n",
    "end\n",
    "for t = 1:T+1\n",
    "    open(\"./dil_lam_er_1/AUC$(t).txt\",\"w\") do io\n",
    "        writedlm(io,inf_out[:,:,t+1]) \n",
    "    end\n",
    "end"
   ]
  },
  {
   "cell_type": "code",
   "execution_count": null,
   "id": "48d96821-bedc-4edd-9630-02a677e4a0f6",
   "metadata": {},
   "outputs": [],
   "source": [
    "heatmap(λRange,dilRange,inf_out[:,:,2],ylabel=\"fr\",xlabel=\"dil\")"
   ]
  }
 ],
 "metadata": {
  "kernelspec": {
   "display_name": "Julia 1.7.0-rc2",
   "language": "julia",
   "name": "julia-1.7"
  },
  "language_info": {
   "file_extension": ".jl",
   "mimetype": "application/julia",
   "name": "julia",
   "version": "1.7.0"
  }
 },
 "nbformat": 4,
 "nbformat_minor": 5
}
