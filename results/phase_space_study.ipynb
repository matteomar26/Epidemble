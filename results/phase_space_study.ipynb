{
 "cells": [
  {
   "cell_type": "code",
   "execution_count": 1,
   "id": "vocal-sellers",
   "metadata": {},
   "outputs": [
    {
     "data": {
      "text/plain": [
       "inf_vs_dil_optimal (generic function with 1 method)"
      ]
     },
     "execution_count": 1,
     "metadata": {},
     "output_type": "execute_result"
    }
   ],
   "source": [
    "import OffsetArrays\n",
    "using Plots\n",
    "using Revise\n",
    "using ProgressMeter\n",
    "using SparseArrays, LinearAlgebra, IndexedGraphs, Graphs\n",
    "using IterTools\n",
    "using DelimitedFiles\n",
    "include(\"../src/functions.jl\") #pop dynamics functions\n",
    "include(\"../src/observables.jl\") #utils functions for calculating observables and saving them"
   ]
  },
  {
   "cell_type": "markdown",
   "id": "84776eb8-c729-4edc-8710-0c4b7d7c5bd1",
   "metadata": {},
   "source": [
    "# Population dynamics for the messages"
   ]
  },
  {
   "cell_type": "code",
   "execution_count": 9,
   "id": "bored-saudi",
   "metadata": {},
   "outputs": [
    {
     "data": {
      "text/plain": [
       "21-element LinRange{Float64, Int64}:\n",
       " 0.01,0.0495,0.089,0.1285,0.168,0.2075,…,0.6025,0.642,0.6815,0.721,0.7605,0.8"
      ]
     },
     "execution_count": 9,
     "metadata": {},
     "output_type": "execute_result"
    }
   ],
   "source": [
    "# S=0   I=1\n",
    "# The times go from ti = 0 to ti=T+1\n",
    "# when ti=0 it means that i is the zero patient\n",
    "# when ti=T+1 it means that i is never infected\n",
    "\n",
    "degreetype = \"poisson\" #here we choose the graph: poisson, regular, of ft4 (fat tailed)\n",
    "d = 3 # degree\n",
    "T = 8 # discrete time\n",
    "N = 10; #population size\n",
    "γ = 0.03 # zero patient probability \n",
    "fr = 0.0 # distortion of measure\n",
    "grid = 21 # the grid of the phase diagram\n",
    "\n",
    "dilRange = LinRange(0.0,1.0,grid) \n",
    "λRange = LinRange(0.01,0.8,grid) "
   ]
  },
  {
   "cell_type": "code",
   "execution_count": 10,
   "id": "5da6daae-22cf-4c4d-bb7e-3ea055617e39",
   "metadata": {},
   "outputs": [
    {
     "data": {
      "text/plain": [
       "Poisson{Float64}(λ=3.0)"
      ]
     },
     "execution_count": 10,
     "metadata": {},
     "output_type": "execute_result"
    }
   ],
   "source": [
    "makeDistrib(degreetype, d) #here we build the distribution only to check that it works"
   ]
  },
  {
   "cell_type": "code",
   "execution_count": 11,
   "id": "2460ccb7-60d9-4fce-919e-308722f9f1bd",
   "metadata": {
    "tags": []
   },
   "outputs": [],
   "source": [
    "#here we choose what regime we want to study (λ VS dilution, λ VS γ, dilution VS fr ...)\n",
    "inf_out = inf_vs_dil_optimal(γ, λRange, N, T, degreetype, d, fr , dilRange , tot_iterations = 1);"
   ]
  },
  {
   "cell_type": "code",
   "execution_count": 4,
   "id": "94313fe5-cf5d-4785-ae70-e18603460f8f",
   "metadata": {},
   "outputs": [
    {
     "data": {
      "text/plain": [
       "\"er\""
      ]
     },
     "execution_count": 4,
     "metadata": {},
     "output_type": "execute_result"
    }
   ],
   "source": [
    "# Here we write the results in files.\n",
    "samp = 3\n",
    "graph = \"er\""
   ]
  },
  {
   "cell_type": "code",
   "execution_count": null,
   "id": "732fe41c-0f47-4424-949a-419cc92ac86a",
   "metadata": {
    "tags": []
   },
   "outputs": [],
   "source": [
    "open(\"./dil_lam_$(graph)_$(samp)/ninf.txt\",\"w\") do io\n",
    "    writedlm(io,inf_out[:,:,1]) \n",
    "end\n",
    "for t = 1:T+1\n",
    "    open(\"./dil_lam_$(graph)_$(samp)/AUC$(t).txt\",\"w\") do io\n",
    "        writedlm(io,inf_out[:,:,t+1]) \n",
    "    end\n",
    "    open(\"./dil_lam_$(graph)_$(samp)/Ov$(t).txt\",\"w\") do io\n",
    "        writedlm(io,inf_out[:,:,t+1 + T + 1]) \n",
    "    end\n",
    "    open(\"./dil_lam_$(graph)_$(samp)/L1_$(t).txt\",\"w\") do io\n",
    "        writedlm(io,inf_out[:,:,t+1 + 2*T + 2]) \n",
    "    end\n",
    "    open(\"./dil_lam_$(graph)_$(samp)/MSE$(t).txt\",\"w\") do io\n",
    "        writedlm(io,inf_out[:,:,t+1 + 3*T + 3]) \n",
    "    end\n",
    "end"
   ]
  }
 ],
 "metadata": {
  "kernelspec": {
   "display_name": "Julia 1.7.0-rc2",
   "language": "julia",
   "name": "julia-1.7"
  },
  "language_info": {
   "file_extension": ".jl",
   "mimetype": "application/julia",
   "name": "julia",
   "version": "1.7.0"
  }
 },
 "nbformat": 4,
 "nbformat_minor": 5
}
