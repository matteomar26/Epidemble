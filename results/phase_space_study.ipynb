{
 "cells": [
  {
   "cell_type": "code",
   "execution_count": 6,
   "id": "vocal-sellers",
   "metadata": {},
   "outputs": [
    {
     "data": {
      "text/plain": [
       "inf_vs_dil_optimal (generic function with 1 method)"
      ]
     },
     "execution_count": 6,
     "metadata": {},
     "output_type": "execute_result"
    }
   ],
   "source": [
    "import OffsetArrays\n",
    "using Plots\n",
    "using Revise\n",
    "using ProgressMeter\n",
    "using SparseArrays, LinearAlgebra, IndexedGraphs, Graphs\n",
    "using IterTools\n",
    "using DelimitedFiles\n",
    "include(\"../src/bp.jl\") \n",
    "include(\"../src/post_infer.jl\") \n",
    "include(\"../src/observables.jl\") #utils functions for calculating observables and saving them"
   ]
  },
  {
   "cell_type": "markdown",
   "id": "84776eb8-c729-4edc-8710-0c4b7d7c5bd1",
   "metadata": {},
   "source": [
    "# Population dynamics for the messages"
   ]
  },
  {
   "cell_type": "code",
   "execution_count": 7,
   "id": "bored-saudi",
   "metadata": {},
   "outputs": [
    {
     "data": {
      "text/plain": [
       "21-element LinRange{Float64, Int64}:\n",
       " 0.05,0.0925,0.135,0.1775,0.22,0.2625,…,0.6875,0.73,0.7725,0.815,0.8575,0.9"
      ]
     },
     "execution_count": 7,
     "metadata": {},
     "output_type": "execute_result"
    }
   ],
   "source": [
    "# S=0   I=1\n",
    "# The times go from ti = 0 to ti=T+1\n",
    "# when ti=0 it means that i is the zero patient\n",
    "# when ti=T+1 it means that i is never infected\n",
    "\n",
    "T = 8 # discrete time\n",
    "N = 10000; #population size\n",
    "fr = 0.0 # noise of measure\n",
    "grid = 21 # the grid of the phase diagram\n",
    "dilution = 0.0\n",
    "\n",
    "λRange = LinRange(0.05,0.9,grid) \n",
    "γRange = LinRange(0.05,0.9,grid) "
   ]
  },
  {
   "cell_type": "code",
   "execution_count": null,
   "id": "2460ccb7-60d9-4fce-919e-308722f9f1bd",
   "metadata": {
    "tags": []
   },
   "outputs": [],
   "source": [
    "#here we choose what regime we want to study (λ VS dilution, λ VS γ, dilution VS fr ...)\n",
    "degree_dist = Poisson(3)\n",
    "γi = 0.5\n",
    "λi = 0.5\n",
    "inf_out = inf_vs_gam_learn(γRange, λRange, γi, λi, N, T, degree_dist, fr , dilution, tot_iterations = 100 )"
   ]
  },
  {
   "cell_type": "code",
   "execution_count": null,
   "id": "94313fe5-cf5d-4785-ae70-e18603460f8f",
   "metadata": {},
   "outputs": [],
   "source": [
    "# Here we write the results in files.\n",
    "samp = 11\n",
    "graph = \"er\""
   ]
  },
  {
   "cell_type": "code",
   "execution_count": null,
   "id": "732fe41c-0f47-4424-949a-419cc92ac86a",
   "metadata": {
    "tags": []
   },
   "outputs": [],
   "source": [
    "open(\"./dil_lam_$(graph)_$(samp)/ninf.txt\",\"w\") do io\n",
    "    writedlm(io,inf_out[:,:,1]) \n",
    "end\n",
    "for t = 1:T+1\n",
    "    open(\"./dil_lam_$(graph)_$(samp)/AUC$(t).txt\",\"w\") do io\n",
    "        writedlm(io,inf_out[:,:,t+1]) \n",
    "    end\n",
    "    open(\"./dil_lam_$(graph)_$(samp)/Ov$(t).txt\",\"w\") do io\n",
    "        writedlm(io,inf_out[:,:,t+1 + T + 1]) \n",
    "    end\n",
    "    open(\"./dil_lam_$(graph)_$(samp)/L1_$(t).txt\",\"w\") do io\n",
    "        writedlm(io,inf_out[:,:,t+1 + 2*T + 2]) \n",
    "    end\n",
    "    open(\"./dil_lam_$(graph)_$(samp)/MSE$(t).txt\",\"w\") do io\n",
    "        writedlm(io,inf_out[:,:,t+1 + 3*T + 3]) \n",
    "    end\n",
    "end\n",
    "open(\"./dil_lam_$(graph)_$(samp)/Fe.txt\",\"w\") do io\n",
    "    writedlm(io,inf_out[:,:,end]) \n",
    "end"
   ]
  },
  {
   "cell_type": "code",
   "execution_count": null,
   "id": "d06f5f07-6585-4c4e-86a6-79a399556463",
   "metadata": {},
   "outputs": [],
   "source": []
  }
 ],
 "metadata": {
  "kernelspec": {
   "display_name": "Julia 1.7.0-rc2",
   "language": "julia",
   "name": "julia-1.7"
  },
  "language_info": {
   "file_extension": ".jl",
   "mimetype": "application/julia",
   "name": "julia",
   "version": "1.7.0"
  }
 },
 "nbformat": 4,
 "nbformat_minor": 5
}
