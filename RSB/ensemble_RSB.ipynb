{
 "cells": [
  {
   "cell_type": "code",
   "execution_count": 1,
   "id": "vocal-sellers",
   "metadata": {},
   "outputs": [
    {
     "data": {
      "text/plain": [
       "avg_ninf (generic function with 1 method)"
      ]
     },
     "execution_count": 1,
     "metadata": {},
     "output_type": "execute_result"
    }
   ],
   "source": [
    "import OffsetArrays\n",
    "using Plots\n",
    "using Revise\n",
    "using StatsBase\n",
    "using ProgressMeter\n",
    "using SparseArrays, LinearAlgebra, IndexedGraphs, Graphs\n",
    "using Distributions\n",
    "srcpath = \"../src\"\n",
    "include(\"$srcpath/bp.jl\")\n",
    "include(\"$srcpath/post_infer.jl\")\n",
    "include(\"$srcpath/observables.jl\")"
   ]
  },
  {
   "cell_type": "code",
   "execution_count": 2,
   "id": "3471818e-4909-4cbb-9a0e-60757effd2c7",
   "metadata": {},
   "outputs": [
    {
     "data": {
      "text/plain": [
       "δλ (generic function with 1 method)"
      ]
     },
     "execution_count": 2,
     "metadata": {},
     "output_type": "execute_result"
    }
   ],
   "source": [
    "function δλ(infer_lam)\n",
    "    if infer_lam\n",
    "        return 0.001im\n",
    "    else\n",
    "        return 0.0\n",
    "    end\n",
    "end"
   ]
  },
  {
   "cell_type": "code",
   "execution_count": 7,
   "id": "bored-saudi",
   "metadata": {},
   "outputs": [],
   "source": [
    "# S=0   I=1\n",
    "# The times go from ti = 0 to ti=T+1\n",
    "# when ti=0 it means that i is the zero patient\n",
    "# when ti=T+1 it means that i is never infected\n",
    "\n",
    "λp = 0.999# planted infection rate\n",
    "λi = 0.999 #inferred infection rate\n",
    "\n",
    "infer_lam = false #set it true if you want to infere the prior parameter λ\n",
    "infer_gam = false #set it true if you want to infere the prior parameter γ\n",
    "\n",
    "\n",
    "T = 8 # discrete time\n",
    "\n",
    "\n",
    "N = 2000; #population size\n",
    "dilution = 0.0\n",
    "fr = 0.0;\n"
   ]
  },
  {
   "cell_type": "code",
   "execution_count": 8,
   "id": "a92267c9-7c63-4adf-8e5d-3ca06411efc6",
   "metadata": {
    "tags": []
   },
   "outputs": [
    {
     "data": {
      "text/plain": [
       "Dirac{Int64}(value=3)"
      ]
     },
     "execution_count": 8,
     "metadata": {},
     "output_type": "execute_result"
    }
   ],
   "source": [
    "degree_dist = Dirac(3)"
   ]
  },
  {
   "cell_type": "code",
   "execution_count": null,
   "id": "a9d4e8ca-a7b3-4a7d-a3ea-51de63b3a30b",
   "metadata": {
    "tags": []
   },
   "outputs": [],
   "source": [
    "γRange = LinRange(0.01,0.05,25)\n",
    "iter_ensemble = zeros(length(γRange))\n",
    "Threads.@threads for st = 1:length(γRange)\n",
    "    γi = γp = γRange[st]\n",
    "    M = ParametricModel(N = N, T = T, γp = γp, λp = λp, γi=γi, λi=λi + δλ(infer_lam), fr=fr, dilution=dilution, distribution=degree_dist) ;\n",
    "    F,it = pop_dynamics(M, tot_iterations = 30, eta = 0.1, infer_lam=infer_lam, infer_gam=infer_gam);\n",
    "    iter_ensemble[st] = it\n",
    "end"
   ]
  },
  {
   "cell_type": "code",
   "execution_count": null,
   "id": "fd20a6b7-85aa-4881-9b89-78f1f944682b",
   "metadata": {},
   "outputs": [],
   "source": [
    "scatter(γRange,iter_ensemble)"
   ]
  },
  {
   "cell_type": "code",
   "execution_count": null,
   "id": "c8af8b25-1b39-4538-aeac-483fa83b0ce4",
   "metadata": {},
   "outputs": [],
   "source": []
  }
 ],
 "metadata": {
  "kernelspec": {
   "display_name": "Julia 1.7.0-rc2",
   "language": "julia",
   "name": "julia-1.7"
  },
  "language_info": {
   "file_extension": ".jl",
   "mimetype": "application/julia",
   "name": "julia",
   "version": "1.7.0"
  }
 },
 "nbformat": 4,
 "nbformat_minor": 5
}
