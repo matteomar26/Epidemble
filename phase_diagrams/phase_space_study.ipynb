{
 "cells": [
  {
   "cell_type": "markdown",
   "id": "6f029005-2c8d-4f04-b4f2-afd117667eab",
   "metadata": {},
   "source": [
    "# Phase space study\n",
    "\n",
    "This notebook reproduces the results shown in the paper. In src/utils.jl you can find several functions which allow to choose which portion of parameter space you want to explore , with or without prior parameter inference. In this example we use gam_vs_lam_learn which means that at fixed observations dilution, false rate, total time T, and graph ensemble (degree_dist) the space of gamma vs lambda is explored with the hyperparameters inferred. The function returns a huge matrix that is saved in the next two cells. REMARK. You have to create the folder in which the matrix is saved. See later to more information"
   ]
  },
  {
   "cell_type": "code",
   "execution_count": null,
   "id": "276e97a5-7fe4-45f8-b835-472c8d5a9c59",
   "metadata": {},
   "outputs": [],
   "source": [
    "import OffsetArrays\n",
    "using Plots\n",
    "using Revise\n",
    "using ProgressMeter\n",
    "using SparseArrays, LinearAlgebra, IndexedGraphs, Graphs\n",
    "using IterTools\n",
    "using DelimitedFiles\n",
    "include(\"../src/bp.jl\") \n",
    "include(\"../src/post_infer.jl\") \n",
    "include(\"../src/observables.jl\") \n",
    "include(\"../src/utils.jl\")"
   ]
  },
  {
   "cell_type": "markdown",
   "id": "84776eb8-c729-4edc-8710-0c4b7d7c5bd1",
   "metadata": {},
   "source": [
    "# Population dynamics for the messages"
   ]
  },
  {
   "cell_type": "code",
   "execution_count": null,
   "id": "bored-saudi",
   "metadata": {},
   "outputs": [
    {
     "data": {
      "text/plain": [
       "21-element LinRange{Float64, Int64}:\n",
       " 0.05,0.0725,0.095,0.1175,0.14,0.1625,…,0.3875,0.41,0.4325,0.455,0.4775,0.5"
      ]
     },
     "execution_count": 2,
     "metadata": {},
     "output_type": "execute_result"
    }
   ],
   "source": [
    "#Set here the total epidemic time T, the observations dilution, the range of parameters. \n",
    "\n",
    "T = 8 # discrete time: total epidemic time T\n",
    "N = 20000; #population size: keep fixed (or change it if you really want) \n",
    "fr = 0.0 # noise of measure\n",
    "grid = 21 # the grid of the phase diagram. \n",
    "dilution = 9/10 #observations dilution: change it from 0 (all indiv. observed once) to 1 (no observations)\n",
    "λRange = LinRange(0.05,0.5,grid) \n",
    "γRange = LinRange(0.05,0.5,grid) "
   ]
  },
  {
   "cell_type": "code",
   "execution_count": null,
   "id": "fbe8cc91-a556-4998-b365-b9459e4ebb48",
   "metadata": {
    "tags": []
   },
   "outputs": [],
   "source": [
    "\n",
    "degree_dist = Poisson(3)\n",
    "γi = 0.5\n",
    "λi = 0.5\n",
    "#here we choose what regime we want to study (λ VS dilution, λ VS γ, dilution VS fr ...)\n",
    "# go to src/utils\n",
    "inf_out = gam_vs_lam_learn(γRange, λRange, dilution, N, T, degree_dist, fr; λi = 0.5,γi = 0.5, tot_iterations = 20, count_obs = false)"
   ]
  },
  {
   "cell_type": "code",
   "execution_count": null,
   "id": "94313fe5-cf5d-4785-ae70-e18603460f8f",
   "metadata": {},
   "outputs": [],
   "source": [
    "# Here we write the results in files.\n",
    "samp = 15\n",
    "graph = \"er\""
   ]
  },
  {
   "cell_type": "code",
   "execution_count": null,
   "id": "732fe41c-0f47-4424-949a-419cc92ac86a",
   "metadata": {
    "tags": []
   },
   "outputs": [],
   "source": [
    "open(\"./dil_lam_$(graph)_$(samp)/ninf.txt\",\"w\") do io\n",
    "    writedlm(io,inf_out[:,:,1]) \n",
    "end\n",
    "for t = 1:T+1\n",
    "    open(\"./dil_lam_$(graph)_$(samp)/AUC$(t).txt\",\"w\") do io\n",
    "        writedlm(io,inf_out[:,:,t+1]) \n",
    "    end\n",
    "    open(\"./dil_lam_$(graph)_$(samp)/Ov$(t).txt\",\"w\") do io\n",
    "        writedlm(io,inf_out[:,:,t+1 + T + 1]) \n",
    "    end\n",
    "    open(\"./dil_lam_$(graph)_$(samp)/L1_$(t).txt\",\"w\") do io\n",
    "        writedlm(io,inf_out[:,:,t+1 + 2*T + 2]) \n",
    "    end\n",
    "    open(\"./dil_lam_$(graph)_$(samp)/MSE$(t).txt\",\"w\") do io\n",
    "        writedlm(io,inf_out[:,:,t+1 + 3*T + 3]) \n",
    "    end\n",
    "end\n",
    "open(\"./dil_lam_$(graph)_$(samp)/Fe.txt\",\"w\") do io\n",
    "    writedlm(io,inf_out[:,:,end]) \n",
    "end"
   ]
  },
  {
   "cell_type": "code",
   "execution_count": null,
   "id": "d06f5f07-6585-4c4e-86a6-79a399556463",
   "metadata": {},
   "outputs": [],
   "source": []
  }
 ],
 "metadata": {
  "kernelspec": {
   "display_name": "Julia 1.7.0-rc2",
   "language": "julia",
   "name": "julia-1.7"
  },
  "language_info": {
   "file_extension": ".jl",
   "mimetype": "application/julia",
   "name": "julia",
   "version": "1.7.0"
  }
 },
 "nbformat": 4,
 "nbformat_minor": 5
}
