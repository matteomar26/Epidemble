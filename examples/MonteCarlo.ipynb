{
 "cells": [
  {
   "cell_type": "markdown",
   "id": "75bf054c-5780-4d2b-91d4-d0452a5642d2",
   "metadata": {},
   "source": [
    "# Initialization"
   ]
  },
  {
   "cell_type": "code",
   "execution_count": 1,
   "id": "vocal-sellers",
   "metadata": {},
   "outputs": [
    {
     "data": {
      "text/plain": [
       "nontrivial_conn (generic function with 1 method)"
      ]
     },
     "execution_count": 1,
     "metadata": {},
     "output_type": "execute_result"
    }
   ],
   "source": [
    "import OffsetArrays\n",
    "using Plots\n",
    "using Revise\n",
    "using StatsBase\n",
    "using ProgressMeter\n",
    "using SparseArrays, LinearAlgebra, IndexedGraphs, Graphs\n",
    "using Distributions\n",
    "srcpath = \"../src\"\n",
    "include(\"$srcpath/single_instance.jl\")\n",
    "#include(\"$srcpath/bp.jl\")\n",
    "#include(\"$srcpath/post_infer.jl\")\n",
    "#include(\"$srcpath/observables.jl\")"
   ]
  },
  {
   "cell_type": "code",
   "execution_count": 2,
   "id": "fd8fab69-7861-4c5b-aef7-8c1e38f43738",
   "metadata": {},
   "outputs": [
    {
     "data": {
      "text/plain": [
       "{4000, 12000} directed sparse Int64 graph\n",
       "⢴⡷⣿⡶⣒⣿⣯⣏⣳⣞⣾⣿⣟⣷⣿⡼⣽⣹⣷⣷⡶⣛⣾⢾⡻⢷⣶⠺⣽⣯⣿⣧⣿⡖⣻⣝⣷⣟⣳⣧\n",
       "⢻⡿⢿⡷⣾⣭⡷⢟⣿⣾⣟⡿⣏⣻⣻⣧⣿⣻⡪⢟⢽⢵⣿⣿⡿⣮⣮⢿⣿⣿⣾⣯⡿⣿⣻⣿⣹⣿⣿⣟\n",
       "⣼⣼⡞⣿⣾⡿⣽⢿⣭⣯⣻⢿⢿⡿⣿⣍⣟⣿⣿⣏⣭⣳⣿⢿⣿⣟⣿⣿⢿⣿⣿⣷⢿⣼⣿⣿⣾⣖⣿⠽\n",
       "⡯⢿⣽⢏⣷⣟⣿⣿⣿⣟⣷⣫⣿⣲⣛⣿⣻⣿⣽⣿⢾⣞⣇⣯⣿⣗⣿⣟⣿⣩⣿⢛⢷⡽⣯⣿⣿⣻⣵⡯\n",
       "⣹⢾⣻⣿⡧⣿⣿⢿⣯⣿⣟⣗⣿⢟⣱⠾⣙⣿⣿⣷⣾⣿⣴⣧⣿⢾⣽⢮⡝⡿⣾⣿⣟⢾⣾⣭⣯⣿⣞⣿\n",
       "⣾⣿⣿⡽⣿⣞⡽⣻⢿⢽⢴⣳⣿⡷⠿⣿⣻⣵⣯⣿⣪⣾⣿⣿⡯⣎⣿⣷⡷⣾⣗⣿⢿⣃⢿⣲⣯⣿⡿⣳\n",
       "⢿⣽⣯⣹⣿⡷⢻⣻⣿⢟⢿⡿⣱⢚⣴⣿⣿⣿⢟⣮⣽⡿⡟⠾⣟⣺⢿⣿⠷⢷⣝⣻⣿⡯⣙⣿⣫⣺⣙⣷\n",
       "⣛⡿⠿⣾⡟⢿⣿⣼⣱⡞⣿⣧⣴⣿⣿⡿⡿⣿⣿⢹⣾⣻⣿⣯⣿⣷⣇⣿⣟⣜⢽⣿⣯⣻⡯⣿⣯⣽⢿⣏\n",
       "⣗⣻⣿⣻⣿⣽⣿⣾⣷⣼⢟⣾⣿⣿⣿⣯⣾⡻⣷⣯⣿⢿⣽⣟⣽⡝⣿⣿⣿⣿⣿⣴⣻⡿⣿⢿⣟⣯⣷⢃\n",
       "⢽⣿⣮⢎⡿⢿⣷⣿⢿⣿⣯⣿⡻⣵⣟⣛⡽⣿⣿⡿⡿⣻⢝⣟⣳⣿⣸⣿⣿⣿⣽⣽⣟⣾⣿⡯⣿⡿⣿⡷\n",
       "⣼⢫⢗⣗⢧⣻⣺⢷⣾⣿⣪⣾⣷⡿⣾⣻⣿⣟⣿⣫⣿⠛⣿⡯⣻⣾⣿⣛⣿⣿⣿⣿⣿⣿⣻⣟⣿⣟⡻⣯\n",
       "⣺⣟⣿⣿⣿⣟⡭⣽⠴⣿⣿⣿⣻⡍⡿⣿⣷⢿⣷⢵⡿⡿⣿⣿⣴⣻⡺⡷⣿⡿⣫⣿⣷⢻⣿⣯⡿⣻⡫⡏\n",
       "⢿⣎⡻⣯⣿⢿⢿⢿⣻⣟⡫⢯⣻⣹⢿⣿⣗⠿⣽⣾⣻⣾⣴⣻⣥⡿⣻⢷⣧⣯⢷⣻⣿⣿⣿⣭⣿⢯⣗⣇\n",
       "⣸⡛⣮⣟⣿⣿⣿⢿⡳⣟⢿⣿⣿⣷⣭⣽⣿⣿⣶⣾⣿⢻⢾⡮⢿⣞⣯⣿⡿⣻⢿⢽⣿⣾⡗⣜⣿⣟⣻⡿\n",
       "⡷⣿⣿⣿⣿⣷⡟⣻⣷⡭⣹⣯⢽⣇⣛⢽⣿⣿⣿⣿⣿⣿⣿⡿⡭⣿⣿⣫⣮⣿⣊⣿⢩⡟⣷⣿⡷⣿⢿⣝\n",
       "⠿⣿⡾⣿⢿⣿⣿⢛⣾⣿⣽⣽⣷⣹⣷⣷⢛⣿⣗⣿⣿⣿⣯⣾⣽⣳⣟⣗⣮⣼⣪⣾⣧⢿⣷⣟⡯⢿⢿⣽\n",
       "⢻⠿⣿⣯⣛⣷⣝⡷⣻⣝⠿⢳⡿⡿⣯⣻⣿⡾⣻⣽⣿⣿⣽⣛⣿⣿⣻⣿⣧⠶⣭⣟⣾⡿⡿⡻⣻⣾⣷⣧\n",
       "⣟⢾⣿⣾⣿⣿⣯⣿⡞⣿⢻⣳⣷⣼⣯⣯⣿⣟⡿⡿⣿⢾⡿⣿⡟⣿⣙⢭⣽⣿⣽⢿⣿⡫⣿⣻⢟⣾⣿⣱\n",
       "⣽⢿⣷⣾⢺⢿⣿⣻⣯⣿⣯⣿⣫⣺⣏⣿⡿⣽⣿⡿⣿⢿⣿⣫⡿⣟⣿⢿⣽⣯⣯⣏⣻⣾⣻⣵⣾⣿⡿⣏\n",
       "⠽⣾⣿⢿⣟⡟⡵⡿⣾⣽⢿⣫⢷⣼⡿⢷⠽⢛⢿⡿⡿⣮⡯⠮⠽⢽⣿⡾⣟⢷⣟⣷⠽⣿⢟⣻⡿⢯⢿⣷"
      ]
     },
     "execution_count": 2,
     "metadata": {},
     "output_type": "execute_result"
    }
   ],
   "source": [
    "include(\"$srcpath/single_instance.jl\")\n",
    "T = 8\n",
    "Ngraph = 4000 # size of the single instance graph\n",
    "x = zeros(Int,Ngraph, T + 1) # a single epidemic trajectory\n",
    "degree_dist = Dirac(3)\n",
    "λp = 1.0\n",
    "G = makeGraph(Ngraph,degree_dist)"
   ]
  },
  {
   "cell_type": "code",
   "execution_count": 3,
   "id": "ef1c08b2-aa7a-47ff-bd44-c192d58788b3",
   "metadata": {},
   "outputs": [
    {
     "data": {
      "text/plain": [
       "frac_inf (generic function with 1 method)"
      ]
     },
     "execution_count": 3,
     "metadata": {},
     "output_type": "execute_result"
    }
   ],
   "source": [
    "function MCenergy(x,O,ε)\n",
    "    ene = 0.0\n",
    "    N = size(x,1)\n",
    "    for j = 1:N\n",
    "        if (x[j,end] == O[j][2]) \n",
    "            ene -= log(1-ε)\n",
    "        else\n",
    "            ene -= log(ε)\n",
    "        end\n",
    "    end\n",
    "    return ene\n",
    "end\n",
    "\n",
    "function MC_step!(x,G,γ,O,ε)\n",
    "    N = size(x,1)\n",
    "    #first we evaluate the energy of the initial condition \n",
    "    new_ene = MCenergy(x,O,ε)\n",
    "    i = rand(1:N) #extract a random individual\n",
    "    oldx = x[i,1] #save the configuration in case we have to reject\n",
    "    x[i,1] = (rand() < γ) #change the initial state\n",
    "    if oldx == x[i,1]\n",
    "        return\n",
    "    end\n",
    "    forward_epidemics!(x, G) # propagate \n",
    "    old_ene = new_ene #save the energy to understand if we have to reject\n",
    "    new_ene = MCenergy(x,O,ε) #compute the energy\n",
    "    new_ene - old_ene\n",
    "    if new_ene > old_ene #then we have to throw a coin\n",
    "        if exp(-(new_ene-old_ene)) < rand() # then we have to reject\n",
    "            x[i,1] = oldx \n",
    "            forward_epidemics!(x,G) #rejection\n",
    "        end\n",
    "    end\n",
    "end\n",
    "\n",
    "function MC(γ, G, planted, x; ε = 1e-3, Nsweeps = 100)\n",
    "    #returns the planted energy and the MC energy trajectory\n",
    "    Ngraph = size(planted,1)\n",
    "    T = size(planted,2) - 1\n",
    "    O = [(i,Bool(planted[i,T+1]),T+1) for i = 1:Ngraph]\n",
    "    sample!(x, G, λp, γ);\n",
    "    energies = zeros(Nsweeps)\n",
    "    for sw in 1:Nsweeps\n",
    "        for i = 1:Ngraph\n",
    "            MC_step!(x,G,γ,O,ε)\n",
    "        end\n",
    "        energies[sw] = MCenergy(x,O,ε)\n",
    "        if energies[sw] == MCenergy(planted,O,ε)\n",
    "            return true, energies\n",
    "        end\n",
    "    end\n",
    "    return false, energies\n",
    "end\n",
    "\n",
    "function frac_inf(x)\n",
    "    sum(x[:,end])/size(x,1)\n",
    "end"
   ]
  },
  {
   "cell_type": "markdown",
   "id": "28efc0bc-4b87-44cf-9f49-6916e0c2fbf7",
   "metadata": {},
   "source": [
    "# Single instance MC analysis"
   ]
  },
  {
   "cell_type": "code",
   "execution_count": 4,
   "id": "56e1ec90-49f2-459d-b1ab-15d92edd6dcf",
   "metadata": {},
   "outputs": [
    {
     "data": {
      "text/plain": [
       "0.9995"
      ]
     },
     "execution_count": 4,
     "metadata": {},
     "output_type": "execute_result"
    }
   ],
   "source": [
    "γ = 0.01\n",
    "planted = zeros(Int,Ngraph, T + 1) # a single epidemic trajectory\n",
    "sample!(planted, G, 1.0, γ)\n",
    "frac_inf(planted)"
   ]
  },
  {
   "cell_type": "code",
   "execution_count": 18,
   "id": "d48b7f0f-4d1c-4b10-84cc-fddb117c40e0",
   "metadata": {},
   "outputs": [
    {
     "data": {
      "text/plain": [
       "(false, [52.349284784871756, 52.349284784871756, 52.349284784871756, 52.349284784871756, 52.349284784871756, 52.349284784871756, 52.349284784871756, 52.349284784871756, 52.349284784871756, 52.349284784871756  …  38.53577522757468, 38.53577522757468, 38.53577522757468, 38.53577522757468, 38.53577522757468, 38.53577522757468, 38.53577522757468, 38.53577522757468, 38.53577522757468, 38.53577522757468])"
      ]
     },
     "execution_count": 18,
     "metadata": {},
     "output_type": "execute_result"
    }
   ],
   "source": [
    "conv, energies = MC(γ,G,planted,copy(planted),Nsweeps=100)"
   ]
  },
  {
   "cell_type": "code",
   "execution_count": 19,
   "id": "20900e7a-6887-41e2-a276-3955c5f7ba2f",
   "metadata": {},
   "outputs": [
    {
     "data": {
      "image/svg+xml": [
       "<?xml version=\"1.0\" encoding=\"utf-8\"?>\n",
       "<svg xmlns=\"http://www.w3.org/2000/svg\" xmlns:xlink=\"http://www.w3.org/1999/xlink\" width=\"600\" height=\"400\" viewBox=\"0 0 2400 1600\">\n",
       "<defs>\n",
       "  <clipPath id=\"clip210\">\n",
       "    <rect x=\"0\" y=\"0\" width=\"2400\" height=\"1600\"/>\n",
       "  </clipPath>\n",
       "</defs>\n",
       "<path clip-path=\"url(#clip210)\" d=\"M0 1600 L2400 1600 L2400 0 L0 0  Z\" fill=\"#ffffff\" fill-rule=\"evenodd\" fill-opacity=\"1\"/>\n",
       "<defs>\n",
       "  <clipPath id=\"clip211\">\n",
       "    <rect x=\"480\" y=\"0\" width=\"1681\" height=\"1600\"/>\n",
       "  </clipPath>\n",
       "</defs>\n",
       "<path clip-path=\"url(#clip210)\" d=\"M141.853 1486.45 L2352.76 1486.45 L2352.76 47.2441 L141.853 47.2441  Z\" fill=\"#ffffff\" fill-rule=\"evenodd\" fill-opacity=\"1\"/>\n",
       "<defs>\n",
       "  <clipPath id=\"clip212\">\n",
       "    <rect x=\"141\" y=\"47\" width=\"2212\" height=\"1440\"/>\n",
       "  </clipPath>\n",
       "</defs>\n",
       "<polyline clip-path=\"url(#clip212)\" style=\"stroke:#000000; stroke-linecap:round; stroke-linejoin:round; stroke-width:2; stroke-opacity:0.1; fill:none\" points=\"183.357,1486.45 183.357,47.2441 \"/>\n",
       "<polyline clip-path=\"url(#clip212)\" style=\"stroke:#000000; stroke-linecap:round; stroke-linejoin:round; stroke-width:2; stroke-opacity:0.1; fill:none\" points=\"710.064,1486.45 710.064,47.2441 \"/>\n",
       "<polyline clip-path=\"url(#clip212)\" style=\"stroke:#000000; stroke-linecap:round; stroke-linejoin:round; stroke-width:2; stroke-opacity:0.1; fill:none\" points=\"1236.77,1486.45 1236.77,47.2441 \"/>\n",
       "<polyline clip-path=\"url(#clip212)\" style=\"stroke:#000000; stroke-linecap:round; stroke-linejoin:round; stroke-width:2; stroke-opacity:0.1; fill:none\" points=\"1763.48,1486.45 1763.48,47.2441 \"/>\n",
       "<polyline clip-path=\"url(#clip212)\" style=\"stroke:#000000; stroke-linecap:round; stroke-linejoin:round; stroke-width:2; stroke-opacity:0.1; fill:none\" points=\"2290.18,1486.45 2290.18,47.2441 \"/>\n",
       "<polyline clip-path=\"url(#clip210)\" style=\"stroke:#000000; stroke-linecap:round; stroke-linejoin:round; stroke-width:4; stroke-opacity:1; fill:none\" points=\"141.853,1486.45 2352.76,1486.45 \"/>\n",
       "<polyline clip-path=\"url(#clip210)\" style=\"stroke:#000000; stroke-linecap:round; stroke-linejoin:round; stroke-width:4; stroke-opacity:1; fill:none\" points=\"183.357,1486.45 183.357,1467.55 \"/>\n",
       "<polyline clip-path=\"url(#clip210)\" style=\"stroke:#000000; stroke-linecap:round; stroke-linejoin:round; stroke-width:4; stroke-opacity:1; fill:none\" points=\"710.064,1486.45 710.064,1467.55 \"/>\n",
       "<polyline clip-path=\"url(#clip210)\" style=\"stroke:#000000; stroke-linecap:round; stroke-linejoin:round; stroke-width:4; stroke-opacity:1; fill:none\" points=\"1236.77,1486.45 1236.77,1467.55 \"/>\n",
       "<polyline clip-path=\"url(#clip210)\" style=\"stroke:#000000; stroke-linecap:round; stroke-linejoin:round; stroke-width:4; stroke-opacity:1; fill:none\" points=\"1763.48,1486.45 1763.48,1467.55 \"/>\n",
       "<polyline clip-path=\"url(#clip210)\" style=\"stroke:#000000; stroke-linecap:round; stroke-linejoin:round; stroke-width:4; stroke-opacity:1; fill:none\" points=\"2290.18,1486.45 2290.18,1467.55 \"/>\n",
       "<path clip-path=\"url(#clip210)\" d=\"M183.357 1517.37 Q179.746 1517.37 177.918 1520.93 Q176.112 1524.47 176.112 1531.6 Q176.112 1538.71 177.918 1542.27 Q179.746 1545.82 183.357 1545.82 Q186.992 1545.82 188.797 1542.27 Q190.626 1538.71 190.626 1531.6 Q190.626 1524.47 188.797 1520.93 Q186.992 1517.37 183.357 1517.37 M183.357 1513.66 Q189.168 1513.66 192.223 1518.27 Q195.302 1522.85 195.302 1531.6 Q195.302 1540.33 192.223 1544.94 Q189.168 1549.52 183.357 1549.52 Q177.547 1549.52 174.469 1544.94 Q171.413 1540.33 171.413 1531.6 Q171.413 1522.85 174.469 1518.27 Q177.547 1513.66 183.357 1513.66 Z\" fill=\"#000000\" fill-rule=\"evenodd\" fill-opacity=\"1\" /><path clip-path=\"url(#clip210)\" d=\"M689.335 1544.91 L705.654 1544.91 L705.654 1548.85 L683.71 1548.85 L683.71 1544.91 Q686.372 1542.16 690.955 1537.53 Q695.562 1532.88 696.742 1531.53 Q698.988 1529.01 699.867 1527.27 Q700.77 1525.51 700.77 1523.82 Q700.77 1521.07 698.825 1519.33 Q696.904 1517.6 693.802 1517.6 Q691.603 1517.6 689.15 1518.36 Q686.719 1519.13 683.941 1520.68 L683.941 1515.95 Q686.765 1514.82 689.219 1514.24 Q691.673 1513.66 693.71 1513.66 Q699.08 1513.66 702.275 1516.35 Q705.469 1519.03 705.469 1523.52 Q705.469 1525.65 704.659 1527.57 Q703.872 1529.47 701.765 1532.07 Q701.187 1532.74 698.085 1535.95 Q694.983 1539.15 689.335 1544.91 Z\" fill=\"#000000\" fill-rule=\"evenodd\" fill-opacity=\"1\" /><path clip-path=\"url(#clip210)\" d=\"M715.515 1514.29 L733.872 1514.29 L733.872 1518.22 L719.798 1518.22 L719.798 1526.7 Q720.816 1526.35 721.835 1526.19 Q722.853 1526 723.872 1526 Q729.659 1526 733.038 1529.17 Q736.418 1532.34 736.418 1537.76 Q736.418 1543.34 732.946 1546.44 Q729.473 1549.52 723.154 1549.52 Q720.978 1549.52 718.71 1549.15 Q716.464 1548.78 714.057 1548.04 L714.057 1543.34 Q716.14 1544.47 718.362 1545.03 Q720.585 1545.58 723.061 1545.58 Q727.066 1545.58 729.404 1543.48 Q731.742 1541.37 731.742 1537.76 Q731.742 1534.15 729.404 1532.04 Q727.066 1529.94 723.061 1529.94 Q721.186 1529.94 719.311 1530.35 Q717.46 1530.77 715.515 1531.65 L715.515 1514.29 Z\" fill=\"#000000\" fill-rule=\"evenodd\" fill-opacity=\"1\" /><path clip-path=\"url(#clip210)\" d=\"M1211.47 1514.29 L1229.83 1514.29 L1229.83 1518.22 L1215.75 1518.22 L1215.75 1526.7 Q1216.77 1526.35 1217.79 1526.19 Q1218.81 1526 1219.83 1526 Q1225.61 1526 1228.99 1529.17 Q1232.37 1532.34 1232.37 1537.76 Q1232.37 1543.34 1228.9 1546.44 Q1225.43 1549.52 1219.11 1549.52 Q1216.93 1549.52 1214.66 1549.15 Q1212.42 1548.78 1210.01 1548.04 L1210.01 1543.34 Q1212.09 1544.47 1214.32 1545.03 Q1216.54 1545.58 1219.02 1545.58 Q1223.02 1545.58 1225.36 1543.48 Q1227.7 1541.37 1227.7 1537.76 Q1227.7 1534.15 1225.36 1532.04 Q1223.02 1529.94 1219.02 1529.94 Q1217.14 1529.94 1215.27 1530.35 Q1213.41 1530.77 1211.47 1531.65 L1211.47 1514.29 Z\" fill=\"#000000\" fill-rule=\"evenodd\" fill-opacity=\"1\" /><path clip-path=\"url(#clip210)\" d=\"M1251.59 1517.37 Q1247.97 1517.37 1246.15 1520.93 Q1244.34 1524.47 1244.34 1531.6 Q1244.34 1538.71 1246.15 1542.27 Q1247.97 1545.82 1251.59 1545.82 Q1255.22 1545.82 1257.02 1542.27 Q1258.85 1538.71 1258.85 1531.6 Q1258.85 1524.47 1257.02 1520.93 Q1255.22 1517.37 1251.59 1517.37 M1251.59 1513.66 Q1257.4 1513.66 1260.45 1518.27 Q1263.53 1522.85 1263.53 1531.6 Q1263.53 1540.33 1260.45 1544.94 Q1257.4 1549.52 1251.59 1549.52 Q1245.77 1549.52 1242.7 1544.94 Q1239.64 1540.33 1239.64 1531.6 Q1239.64 1522.85 1242.7 1518.27 Q1245.77 1513.66 1251.59 1513.66 Z\" fill=\"#000000\" fill-rule=\"evenodd\" fill-opacity=\"1\" /><path clip-path=\"url(#clip210)\" d=\"M1737.33 1514.29 L1759.55 1514.29 L1759.55 1516.28 L1747.01 1548.85 L1742.12 1548.85 L1753.93 1518.22 L1737.33 1518.22 L1737.33 1514.29 Z\" fill=\"#000000\" fill-rule=\"evenodd\" fill-opacity=\"1\" /><path clip-path=\"url(#clip210)\" d=\"M1768.72 1514.29 L1787.08 1514.29 L1787.08 1518.22 L1773 1518.22 L1773 1526.7 Q1774.02 1526.35 1775.04 1526.19 Q1776.06 1526 1777.08 1526 Q1782.86 1526 1786.24 1529.17 Q1789.62 1532.34 1789.62 1537.76 Q1789.62 1543.34 1786.15 1546.44 Q1782.68 1549.52 1776.36 1549.52 Q1774.18 1549.52 1771.91 1549.15 Q1769.67 1548.78 1767.26 1548.04 L1767.26 1543.34 Q1769.34 1544.47 1771.57 1545.03 Q1773.79 1545.58 1776.27 1545.58 Q1780.27 1545.58 1782.61 1543.48 Q1784.95 1541.37 1784.95 1537.76 Q1784.95 1534.15 1782.61 1532.04 Q1780.27 1529.94 1776.27 1529.94 Q1774.39 1529.94 1772.52 1530.35 Q1770.66 1530.77 1768.72 1531.65 L1768.72 1514.29 Z\" fill=\"#000000\" fill-rule=\"evenodd\" fill-opacity=\"1\" /><path clip-path=\"url(#clip210)\" d=\"M2249.79 1544.91 L2257.43 1544.91 L2257.43 1518.55 L2249.12 1520.21 L2249.12 1515.95 L2257.38 1514.29 L2262.06 1514.29 L2262.06 1544.91 L2269.7 1544.91 L2269.7 1548.85 L2249.79 1548.85 L2249.79 1544.91 Z\" fill=\"#000000\" fill-rule=\"evenodd\" fill-opacity=\"1\" /><path clip-path=\"url(#clip210)\" d=\"M2289.14 1517.37 Q2285.53 1517.37 2283.7 1520.93 Q2281.9 1524.47 2281.9 1531.6 Q2281.9 1538.71 2283.7 1542.27 Q2285.53 1545.82 2289.14 1545.82 Q2292.78 1545.82 2294.58 1542.27 Q2296.41 1538.71 2296.41 1531.6 Q2296.41 1524.47 2294.58 1520.93 Q2292.78 1517.37 2289.14 1517.37 M2289.14 1513.66 Q2294.95 1513.66 2298.01 1518.27 Q2301.09 1522.85 2301.09 1531.6 Q2301.09 1540.33 2298.01 1544.94 Q2294.95 1549.52 2289.14 1549.52 Q2283.33 1549.52 2280.25 1544.94 Q2277.2 1540.33 2277.2 1531.6 Q2277.2 1522.85 2280.25 1518.27 Q2283.33 1513.66 2289.14 1513.66 Z\" fill=\"#000000\" fill-rule=\"evenodd\" fill-opacity=\"1\" /><path clip-path=\"url(#clip210)\" d=\"M2319.3 1517.37 Q2315.69 1517.37 2313.86 1520.93 Q2312.06 1524.47 2312.06 1531.6 Q2312.06 1538.71 2313.86 1542.27 Q2315.69 1545.82 2319.3 1545.82 Q2322.94 1545.82 2324.74 1542.27 Q2326.57 1538.71 2326.57 1531.6 Q2326.57 1524.47 2324.74 1520.93 Q2322.94 1517.37 2319.3 1517.37 M2319.3 1513.66 Q2325.11 1513.66 2328.17 1518.27 Q2331.25 1522.85 2331.25 1531.6 Q2331.25 1540.33 2328.17 1544.94 Q2325.11 1549.52 2319.3 1549.52 Q2313.49 1549.52 2310.41 1544.94 Q2307.36 1540.33 2307.36 1531.6 Q2307.36 1522.85 2310.41 1518.27 Q2313.49 1513.66 2319.3 1513.66 Z\" fill=\"#000000\" fill-rule=\"evenodd\" fill-opacity=\"1\" /><polyline clip-path=\"url(#clip212)\" style=\"stroke:#000000; stroke-linecap:round; stroke-linejoin:round; stroke-width:2; stroke-opacity:0.1; fill:none\" points=\"141.853,1277.27 2352.76,1277.27 \"/>\n",
       "<polyline clip-path=\"url(#clip212)\" style=\"stroke:#000000; stroke-linecap:round; stroke-linejoin:round; stroke-width:2; stroke-opacity:0.1; fill:none\" points=\"141.853,996.443 2352.76,996.443 \"/>\n",
       "<polyline clip-path=\"url(#clip212)\" style=\"stroke:#000000; stroke-linecap:round; stroke-linejoin:round; stroke-width:2; stroke-opacity:0.1; fill:none\" points=\"141.853,715.612 2352.76,715.612 \"/>\n",
       "<polyline clip-path=\"url(#clip212)\" style=\"stroke:#000000; stroke-linecap:round; stroke-linejoin:round; stroke-width:2; stroke-opacity:0.1; fill:none\" points=\"141.853,434.782 2352.76,434.782 \"/>\n",
       "<polyline clip-path=\"url(#clip212)\" style=\"stroke:#000000; stroke-linecap:round; stroke-linejoin:round; stroke-width:2; stroke-opacity:0.1; fill:none\" points=\"141.853,153.951 2352.76,153.951 \"/>\n",
       "<polyline clip-path=\"url(#clip210)\" style=\"stroke:#000000; stroke-linecap:round; stroke-linejoin:round; stroke-width:4; stroke-opacity:1; fill:none\" points=\"141.853,1486.45 141.853,47.2441 \"/>\n",
       "<polyline clip-path=\"url(#clip210)\" style=\"stroke:#000000; stroke-linecap:round; stroke-linejoin:round; stroke-width:4; stroke-opacity:1; fill:none\" points=\"141.853,1277.27 160.751,1277.27 \"/>\n",
       "<polyline clip-path=\"url(#clip210)\" style=\"stroke:#000000; stroke-linecap:round; stroke-linejoin:round; stroke-width:4; stroke-opacity:1; fill:none\" points=\"141.853,996.443 160.751,996.443 \"/>\n",
       "<polyline clip-path=\"url(#clip210)\" style=\"stroke:#000000; stroke-linecap:round; stroke-linejoin:round; stroke-width:4; stroke-opacity:1; fill:none\" points=\"141.853,715.612 160.751,715.612 \"/>\n",
       "<polyline clip-path=\"url(#clip210)\" style=\"stroke:#000000; stroke-linecap:round; stroke-linejoin:round; stroke-width:4; stroke-opacity:1; fill:none\" points=\"141.853,434.782 160.751,434.782 \"/>\n",
       "<polyline clip-path=\"url(#clip210)\" style=\"stroke:#000000; stroke-linecap:round; stroke-linejoin:round; stroke-width:4; stroke-opacity:1; fill:none\" points=\"141.853,153.951 160.751,153.951 \"/>\n",
       "<path clip-path=\"url(#clip210)\" d=\"M54.5569 1290.62 L62.1958 1290.62 L62.1958 1264.25 L53.8856 1265.92 L53.8856 1261.66 L62.1495 1259.99 L66.8254 1259.99 L66.8254 1290.62 L74.4642 1290.62 L74.4642 1294.55 L54.5569 1294.55 L54.5569 1290.62 Z\" fill=\"#000000\" fill-rule=\"evenodd\" fill-opacity=\"1\" /><path clip-path=\"url(#clip210)\" d=\"M93.9086 1263.07 Q90.2975 1263.07 88.4688 1266.64 Q86.6632 1270.18 86.6632 1277.31 Q86.6632 1284.41 88.4688 1287.98 Q90.2975 1291.52 93.9086 1291.52 Q97.5428 1291.52 99.3483 1287.98 Q101.177 1284.41 101.177 1277.31 Q101.177 1270.18 99.3483 1266.64 Q97.5428 1263.07 93.9086 1263.07 M93.9086 1259.37 Q99.7187 1259.37 102.774 1263.98 Q105.853 1268.56 105.853 1277.31 Q105.853 1286.04 102.774 1290.64 Q99.7187 1295.22 93.9086 1295.22 Q88.0984 1295.22 85.0197 1290.64 Q81.9642 1286.04 81.9642 1277.31 Q81.9642 1268.56 85.0197 1263.98 Q88.0984 1259.37 93.9086 1259.37 Z\" fill=\"#000000\" fill-rule=\"evenodd\" fill-opacity=\"1\" /><path clip-path=\"url(#clip210)\" d=\"M57.7745 1009.79 L74.0939 1009.79 L74.0939 1013.72 L52.1495 1013.72 L52.1495 1009.79 Q54.8115 1007.03 59.3949 1002.4 Q64.0013 997.751 65.1819 996.408 Q67.4272 993.885 68.3068 992.149 Q69.2096 990.39 69.2096 988.7 Q69.2096 985.945 67.2652 984.209 Q65.3439 982.473 62.2421 982.473 Q60.043 982.473 57.5893 983.237 Q55.1588 984.001 52.381 985.552 L52.381 980.83 Q55.2051 979.695 57.6588 979.117 Q60.1124 978.538 62.1495 978.538 Q67.5198 978.538 70.7142 981.223 Q73.9087 983.908 73.9087 988.399 Q73.9087 990.529 73.0985 992.45 Q72.3115 994.348 70.205 996.941 Q69.6263 997.612 66.5245 1000.83 Q63.4226 1004.02 57.7745 1009.79 Z\" fill=\"#000000\" fill-rule=\"evenodd\" fill-opacity=\"1\" /><path clip-path=\"url(#clip210)\" d=\"M93.9086 982.242 Q90.2975 982.242 88.4688 985.806 Q86.6632 989.348 86.6632 996.478 Q86.6632 1003.58 88.4688 1007.15 Q90.2975 1010.69 93.9086 1010.69 Q97.5428 1010.69 99.3483 1007.15 Q101.177 1003.58 101.177 996.478 Q101.177 989.348 99.3483 985.806 Q97.5428 982.242 93.9086 982.242 M93.9086 978.538 Q99.7187 978.538 102.774 983.144 Q105.853 987.728 105.853 996.478 Q105.853 1005.2 102.774 1009.81 Q99.7187 1014.39 93.9086 1014.39 Q88.0984 1014.39 85.0197 1009.81 Q81.9642 1005.2 81.9642 996.478 Q81.9642 987.728 85.0197 983.144 Q88.0984 978.538 93.9086 978.538 Z\" fill=\"#000000\" fill-rule=\"evenodd\" fill-opacity=\"1\" /><path clip-path=\"url(#clip210)\" d=\"M67.9133 714.258 Q71.2698 714.976 73.1448 717.244 Q75.0429 719.513 75.0429 722.846 Q75.0429 727.962 71.5244 730.763 Q68.0059 733.564 61.5245 733.564 Q59.3486 733.564 57.0338 733.124 Q54.7421 732.707 52.2884 731.851 L52.2884 727.337 Q54.2328 728.471 56.5477 729.05 Q58.8625 729.629 61.3856 729.629 Q65.7837 729.629 68.0754 727.892 Q70.3902 726.156 70.3902 722.846 Q70.3902 719.791 68.2374 718.078 Q66.1078 716.342 62.2884 716.342 L58.2606 716.342 L58.2606 712.499 L62.4735 712.499 Q65.9226 712.499 67.7513 711.133 Q69.58 709.744 69.58 707.152 Q69.58 704.49 67.6819 703.078 Q65.8069 701.643 62.2884 701.643 Q60.3671 701.643 58.168 702.059 Q55.969 702.476 53.3301 703.356 L53.3301 699.189 Q55.9921 698.448 58.3069 698.078 Q60.6449 697.707 62.705 697.707 Q68.0291 697.707 71.1309 700.138 Q74.2327 702.545 74.2327 706.666 Q74.2327 709.536 72.5892 711.527 Q70.9457 713.494 67.9133 714.258 Z\" fill=\"#000000\" fill-rule=\"evenodd\" fill-opacity=\"1\" /><path clip-path=\"url(#clip210)\" d=\"M93.9086 701.411 Q90.2975 701.411 88.4688 704.976 Q86.6632 708.518 86.6632 715.647 Q86.6632 722.754 88.4688 726.318 Q90.2975 729.86 93.9086 729.86 Q97.5428 729.86 99.3483 726.318 Q101.177 722.754 101.177 715.647 Q101.177 708.518 99.3483 704.976 Q97.5428 701.411 93.9086 701.411 M93.9086 697.707 Q99.7187 697.707 102.774 702.314 Q105.853 706.897 105.853 715.647 Q105.853 724.374 102.774 728.98 Q99.7187 733.564 93.9086 733.564 Q88.0984 733.564 85.0197 728.98 Q81.9642 724.374 81.9642 715.647 Q81.9642 706.897 85.0197 702.314 Q88.0984 697.707 93.9086 697.707 Z\" fill=\"#000000\" fill-rule=\"evenodd\" fill-opacity=\"1\" /><path clip-path=\"url(#clip210)\" d=\"M66.5939 421.576 L54.7884 440.025 L66.5939 440.025 L66.5939 421.576 M65.367 417.502 L71.2466 417.502 L71.2466 440.025 L76.1772 440.025 L76.1772 443.914 L71.2466 443.914 L71.2466 452.062 L66.5939 452.062 L66.5939 443.914 L50.9921 443.914 L50.9921 439.4 L65.367 417.502 Z\" fill=\"#000000\" fill-rule=\"evenodd\" fill-opacity=\"1\" /><path clip-path=\"url(#clip210)\" d=\"M93.9086 420.581 Q90.2975 420.581 88.4688 424.145 Q86.6632 427.687 86.6632 434.817 Q86.6632 441.923 88.4688 445.488 Q90.2975 449.03 93.9086 449.03 Q97.5428 449.03 99.3483 445.488 Q101.177 441.923 101.177 434.817 Q101.177 427.687 99.3483 424.145 Q97.5428 420.581 93.9086 420.581 M93.9086 416.877 Q99.7187 416.877 102.774 421.483 Q105.853 426.067 105.853 434.817 Q105.853 443.543 102.774 448.15 Q99.7187 452.733 93.9086 452.733 Q88.0984 452.733 85.0197 448.15 Q81.9642 443.543 81.9642 434.817 Q81.9642 426.067 85.0197 421.483 Q88.0984 416.877 93.9086 416.877 Z\" fill=\"#000000\" fill-rule=\"evenodd\" fill-opacity=\"1\" /><path clip-path=\"url(#clip210)\" d=\"M53.793 136.671 L72.1494 136.671 L72.1494 140.607 L58.0754 140.607 L58.0754 149.079 Q59.0939 148.731 60.1124 148.569 Q61.131 148.384 62.1495 148.384 Q67.9365 148.384 71.3161 151.556 Q74.6957 154.727 74.6957 160.143 Q74.6957 165.722 71.2235 168.824 Q67.7513 171.903 61.4319 171.903 Q59.256 171.903 56.9875 171.532 Q54.7421 171.162 52.3347 170.421 L52.3347 165.722 Q54.418 166.856 56.6402 167.412 Q58.8625 167.967 61.3393 167.967 Q65.3439 167.967 67.6819 165.861 Q70.0198 163.755 70.0198 160.143 Q70.0198 156.532 67.6819 154.426 Q65.3439 152.319 61.3393 152.319 Q59.4643 152.319 57.5893 152.736 Q55.7375 153.153 53.793 154.032 L53.793 136.671 Z\" fill=\"#000000\" fill-rule=\"evenodd\" fill-opacity=\"1\" /><path clip-path=\"url(#clip210)\" d=\"M93.9086 139.75 Q90.2975 139.75 88.4688 143.315 Q86.6632 146.857 86.6632 153.986 Q86.6632 161.093 88.4688 164.657 Q90.2975 168.199 93.9086 168.199 Q97.5428 168.199 99.3483 164.657 Q101.177 161.093 101.177 153.986 Q101.177 146.857 99.3483 143.315 Q97.5428 139.75 93.9086 139.75 M93.9086 136.046 Q99.7187 136.046 102.774 140.653 Q105.853 145.236 105.853 153.986 Q105.853 162.713 102.774 167.319 Q99.7187 171.903 93.9086 171.903 Q88.0984 171.903 85.0197 167.319 Q81.9642 162.713 81.9642 153.986 Q81.9642 145.236 85.0197 140.653 Q88.0984 136.046 93.9086 136.046 Z\" fill=\"#000000\" fill-rule=\"evenodd\" fill-opacity=\"1\" /><circle clip-path=\"url(#clip212)\" cx=\"204.426\" cy=\"87.9763\" r=\"14.4\" fill=\"#009af9\" fill-rule=\"evenodd\" fill-opacity=\"1\" stroke=\"#000000\" stroke-opacity=\"1\" stroke-width=\"3.2\"/>\n",
       "<circle clip-path=\"url(#clip212)\" cx=\"225.494\" cy=\"87.9763\" r=\"14.4\" fill=\"#009af9\" fill-rule=\"evenodd\" fill-opacity=\"1\" stroke=\"#000000\" stroke-opacity=\"1\" stroke-width=\"3.2\"/>\n",
       "<circle clip-path=\"url(#clip212)\" cx=\"246.562\" cy=\"87.9763\" r=\"14.4\" fill=\"#009af9\" fill-rule=\"evenodd\" fill-opacity=\"1\" stroke=\"#000000\" stroke-opacity=\"1\" stroke-width=\"3.2\"/>\n",
       "<circle clip-path=\"url(#clip212)\" cx=\"267.63\" cy=\"87.9763\" r=\"14.4\" fill=\"#009af9\" fill-rule=\"evenodd\" fill-opacity=\"1\" stroke=\"#000000\" stroke-opacity=\"1\" stroke-width=\"3.2\"/>\n",
       "<circle clip-path=\"url(#clip212)\" cx=\"288.699\" cy=\"87.9763\" r=\"14.4\" fill=\"#009af9\" fill-rule=\"evenodd\" fill-opacity=\"1\" stroke=\"#000000\" stroke-opacity=\"1\" stroke-width=\"3.2\"/>\n",
       "<circle clip-path=\"url(#clip212)\" cx=\"309.767\" cy=\"87.9763\" r=\"14.4\" fill=\"#009af9\" fill-rule=\"evenodd\" fill-opacity=\"1\" stroke=\"#000000\" stroke-opacity=\"1\" stroke-width=\"3.2\"/>\n",
       "<circle clip-path=\"url(#clip212)\" cx=\"330.835\" cy=\"87.9763\" r=\"14.4\" fill=\"#009af9\" fill-rule=\"evenodd\" fill-opacity=\"1\" stroke=\"#000000\" stroke-opacity=\"1\" stroke-width=\"3.2\"/>\n",
       "<circle clip-path=\"url(#clip212)\" cx=\"351.903\" cy=\"87.9763\" r=\"14.4\" fill=\"#009af9\" fill-rule=\"evenodd\" fill-opacity=\"1\" stroke=\"#000000\" stroke-opacity=\"1\" stroke-width=\"3.2\"/>\n",
       "<circle clip-path=\"url(#clip212)\" cx=\"372.972\" cy=\"87.9763\" r=\"14.4\" fill=\"#009af9\" fill-rule=\"evenodd\" fill-opacity=\"1\" stroke=\"#000000\" stroke-opacity=\"1\" stroke-width=\"3.2\"/>\n",
       "<circle clip-path=\"url(#clip212)\" cx=\"394.04\" cy=\"87.9763\" r=\"14.4\" fill=\"#009af9\" fill-rule=\"evenodd\" fill-opacity=\"1\" stroke=\"#000000\" stroke-opacity=\"1\" stroke-width=\"3.2\"/>\n",
       "<circle clip-path=\"url(#clip212)\" cx=\"415.108\" cy=\"87.9763\" r=\"14.4\" fill=\"#009af9\" fill-rule=\"evenodd\" fill-opacity=\"1\" stroke=\"#000000\" stroke-opacity=\"1\" stroke-width=\"3.2\"/>\n",
       "<circle clip-path=\"url(#clip212)\" cx=\"436.177\" cy=\"87.9763\" r=\"14.4\" fill=\"#009af9\" fill-rule=\"evenodd\" fill-opacity=\"1\" stroke=\"#000000\" stroke-opacity=\"1\" stroke-width=\"3.2\"/>\n",
       "<circle clip-path=\"url(#clip212)\" cx=\"457.245\" cy=\"87.9763\" r=\"14.4\" fill=\"#009af9\" fill-rule=\"evenodd\" fill-opacity=\"1\" stroke=\"#000000\" stroke-opacity=\"1\" stroke-width=\"3.2\"/>\n",
       "<circle clip-path=\"url(#clip212)\" cx=\"478.313\" cy=\"87.9763\" r=\"14.4\" fill=\"#009af9\" fill-rule=\"evenodd\" fill-opacity=\"1\" stroke=\"#000000\" stroke-opacity=\"1\" stroke-width=\"3.2\"/>\n",
       "<circle clip-path=\"url(#clip212)\" cx=\"499.381\" cy=\"87.9763\" r=\"14.4\" fill=\"#009af9\" fill-rule=\"evenodd\" fill-opacity=\"1\" stroke=\"#000000\" stroke-opacity=\"1\" stroke-width=\"3.2\"/>\n",
       "<circle clip-path=\"url(#clip212)\" cx=\"520.45\" cy=\"87.9763\" r=\"14.4\" fill=\"#009af9\" fill-rule=\"evenodd\" fill-opacity=\"1\" stroke=\"#000000\" stroke-opacity=\"1\" stroke-width=\"3.2\"/>\n",
       "<circle clip-path=\"url(#clip212)\" cx=\"541.518\" cy=\"87.9763\" r=\"14.4\" fill=\"#009af9\" fill-rule=\"evenodd\" fill-opacity=\"1\" stroke=\"#000000\" stroke-opacity=\"1\" stroke-width=\"3.2\"/>\n",
       "<circle clip-path=\"url(#clip212)\" cx=\"562.586\" cy=\"87.9763\" r=\"14.4\" fill=\"#009af9\" fill-rule=\"evenodd\" fill-opacity=\"1\" stroke=\"#000000\" stroke-opacity=\"1\" stroke-width=\"3.2\"/>\n",
       "<circle clip-path=\"url(#clip212)\" cx=\"583.654\" cy=\"87.9763\" r=\"14.4\" fill=\"#009af9\" fill-rule=\"evenodd\" fill-opacity=\"1\" stroke=\"#000000\" stroke-opacity=\"1\" stroke-width=\"3.2\"/>\n",
       "<circle clip-path=\"url(#clip212)\" cx=\"604.723\" cy=\"87.9763\" r=\"14.4\" fill=\"#009af9\" fill-rule=\"evenodd\" fill-opacity=\"1\" stroke=\"#000000\" stroke-opacity=\"1\" stroke-width=\"3.2\"/>\n",
       "<circle clip-path=\"url(#clip212)\" cx=\"625.791\" cy=\"87.9763\" r=\"14.4\" fill=\"#009af9\" fill-rule=\"evenodd\" fill-opacity=\"1\" stroke=\"#000000\" stroke-opacity=\"1\" stroke-width=\"3.2\"/>\n",
       "<circle clip-path=\"url(#clip212)\" cx=\"646.859\" cy=\"87.9763\" r=\"14.4\" fill=\"#009af9\" fill-rule=\"evenodd\" fill-opacity=\"1\" stroke=\"#000000\" stroke-opacity=\"1\" stroke-width=\"3.2\"/>\n",
       "<circle clip-path=\"url(#clip212)\" cx=\"667.927\" cy=\"87.9763\" r=\"14.4\" fill=\"#009af9\" fill-rule=\"evenodd\" fill-opacity=\"1\" stroke=\"#000000\" stroke-opacity=\"1\" stroke-width=\"3.2\"/>\n",
       "<circle clip-path=\"url(#clip212)\" cx=\"688.996\" cy=\"87.9763\" r=\"14.4\" fill=\"#009af9\" fill-rule=\"evenodd\" fill-opacity=\"1\" stroke=\"#000000\" stroke-opacity=\"1\" stroke-width=\"3.2\"/>\n",
       "<circle clip-path=\"url(#clip212)\" cx=\"710.064\" cy=\"87.9763\" r=\"14.4\" fill=\"#009af9\" fill-rule=\"evenodd\" fill-opacity=\"1\" stroke=\"#000000\" stroke-opacity=\"1\" stroke-width=\"3.2\"/>\n",
       "<circle clip-path=\"url(#clip212)\" cx=\"731.132\" cy=\"87.9763\" r=\"14.4\" fill=\"#009af9\" fill-rule=\"evenodd\" fill-opacity=\"1\" stroke=\"#000000\" stroke-opacity=\"1\" stroke-width=\"3.2\"/>\n",
       "<circle clip-path=\"url(#clip212)\" cx=\"752.2\" cy=\"87.9763\" r=\"14.4\" fill=\"#009af9\" fill-rule=\"evenodd\" fill-opacity=\"1\" stroke=\"#000000\" stroke-opacity=\"1\" stroke-width=\"3.2\"/>\n",
       "<circle clip-path=\"url(#clip212)\" cx=\"773.269\" cy=\"87.9763\" r=\"14.4\" fill=\"#009af9\" fill-rule=\"evenodd\" fill-opacity=\"1\" stroke=\"#000000\" stroke-opacity=\"1\" stroke-width=\"3.2\"/>\n",
       "<circle clip-path=\"url(#clip212)\" cx=\"794.337\" cy=\"87.9763\" r=\"14.4\" fill=\"#009af9\" fill-rule=\"evenodd\" fill-opacity=\"1\" stroke=\"#000000\" stroke-opacity=\"1\" stroke-width=\"3.2\"/>\n",
       "<circle clip-path=\"url(#clip212)\" cx=\"815.405\" cy=\"87.9763\" r=\"14.4\" fill=\"#009af9\" fill-rule=\"evenodd\" fill-opacity=\"1\" stroke=\"#000000\" stroke-opacity=\"1\" stroke-width=\"3.2\"/>\n",
       "<circle clip-path=\"url(#clip212)\" cx=\"836.473\" cy=\"87.9763\" r=\"14.4\" fill=\"#009af9\" fill-rule=\"evenodd\" fill-opacity=\"1\" stroke=\"#000000\" stroke-opacity=\"1\" stroke-width=\"3.2\"/>\n",
       "<circle clip-path=\"url(#clip212)\" cx=\"857.542\" cy=\"475.902\" r=\"14.4\" fill=\"#009af9\" fill-rule=\"evenodd\" fill-opacity=\"1\" stroke=\"#000000\" stroke-opacity=\"1\" stroke-width=\"3.2\"/>\n",
       "<circle clip-path=\"url(#clip212)\" cx=\"878.61\" cy=\"475.902\" r=\"14.4\" fill=\"#009af9\" fill-rule=\"evenodd\" fill-opacity=\"1\" stroke=\"#000000\" stroke-opacity=\"1\" stroke-width=\"3.2\"/>\n",
       "<circle clip-path=\"url(#clip212)\" cx=\"899.678\" cy=\"475.902\" r=\"14.4\" fill=\"#009af9\" fill-rule=\"evenodd\" fill-opacity=\"1\" stroke=\"#000000\" stroke-opacity=\"1\" stroke-width=\"3.2\"/>\n",
       "<circle clip-path=\"url(#clip212)\" cx=\"920.746\" cy=\"475.902\" r=\"14.4\" fill=\"#009af9\" fill-rule=\"evenodd\" fill-opacity=\"1\" stroke=\"#000000\" stroke-opacity=\"1\" stroke-width=\"3.2\"/>\n",
       "<circle clip-path=\"url(#clip212)\" cx=\"941.815\" cy=\"475.902\" r=\"14.4\" fill=\"#009af9\" fill-rule=\"evenodd\" fill-opacity=\"1\" stroke=\"#000000\" stroke-opacity=\"1\" stroke-width=\"3.2\"/>\n",
       "<circle clip-path=\"url(#clip212)\" cx=\"962.883\" cy=\"475.902\" r=\"14.4\" fill=\"#009af9\" fill-rule=\"evenodd\" fill-opacity=\"1\" stroke=\"#000000\" stroke-opacity=\"1\" stroke-width=\"3.2\"/>\n",
       "<circle clip-path=\"url(#clip212)\" cx=\"983.951\" cy=\"475.902\" r=\"14.4\" fill=\"#009af9\" fill-rule=\"evenodd\" fill-opacity=\"1\" stroke=\"#000000\" stroke-opacity=\"1\" stroke-width=\"3.2\"/>\n",
       "<circle clip-path=\"url(#clip212)\" cx=\"1005.02\" cy=\"475.902\" r=\"14.4\" fill=\"#009af9\" fill-rule=\"evenodd\" fill-opacity=\"1\" stroke=\"#000000\" stroke-opacity=\"1\" stroke-width=\"3.2\"/>\n",
       "<circle clip-path=\"url(#clip212)\" cx=\"1026.09\" cy=\"475.902\" r=\"14.4\" fill=\"#009af9\" fill-rule=\"evenodd\" fill-opacity=\"1\" stroke=\"#000000\" stroke-opacity=\"1\" stroke-width=\"3.2\"/>\n",
       "<circle clip-path=\"url(#clip212)\" cx=\"1047.16\" cy=\"475.902\" r=\"14.4\" fill=\"#009af9\" fill-rule=\"evenodd\" fill-opacity=\"1\" stroke=\"#000000\" stroke-opacity=\"1\" stroke-width=\"3.2\"/>\n",
       "<circle clip-path=\"url(#clip212)\" cx=\"1068.22\" cy=\"475.902\" r=\"14.4\" fill=\"#009af9\" fill-rule=\"evenodd\" fill-opacity=\"1\" stroke=\"#000000\" stroke-opacity=\"1\" stroke-width=\"3.2\"/>\n",
       "<circle clip-path=\"url(#clip212)\" cx=\"1089.29\" cy=\"475.902\" r=\"14.4\" fill=\"#009af9\" fill-rule=\"evenodd\" fill-opacity=\"1\" stroke=\"#000000\" stroke-opacity=\"1\" stroke-width=\"3.2\"/>\n",
       "<circle clip-path=\"url(#clip212)\" cx=\"1110.36\" cy=\"475.902\" r=\"14.4\" fill=\"#009af9\" fill-rule=\"evenodd\" fill-opacity=\"1\" stroke=\"#000000\" stroke-opacity=\"1\" stroke-width=\"3.2\"/>\n",
       "<circle clip-path=\"url(#clip212)\" cx=\"1131.43\" cy=\"475.902\" r=\"14.4\" fill=\"#009af9\" fill-rule=\"evenodd\" fill-opacity=\"1\" stroke=\"#000000\" stroke-opacity=\"1\" stroke-width=\"3.2\"/>\n",
       "<circle clip-path=\"url(#clip212)\" cx=\"1152.5\" cy=\"475.902\" r=\"14.4\" fill=\"#009af9\" fill-rule=\"evenodd\" fill-opacity=\"1\" stroke=\"#000000\" stroke-opacity=\"1\" stroke-width=\"3.2\"/>\n",
       "<circle clip-path=\"url(#clip212)\" cx=\"1173.57\" cy=\"475.902\" r=\"14.4\" fill=\"#009af9\" fill-rule=\"evenodd\" fill-opacity=\"1\" stroke=\"#000000\" stroke-opacity=\"1\" stroke-width=\"3.2\"/>\n",
       "<circle clip-path=\"url(#clip212)\" cx=\"1194.63\" cy=\"475.902\" r=\"14.4\" fill=\"#009af9\" fill-rule=\"evenodd\" fill-opacity=\"1\" stroke=\"#000000\" stroke-opacity=\"1\" stroke-width=\"3.2\"/>\n",
       "<circle clip-path=\"url(#clip212)\" cx=\"1215.7\" cy=\"475.902\" r=\"14.4\" fill=\"#009af9\" fill-rule=\"evenodd\" fill-opacity=\"1\" stroke=\"#000000\" stroke-opacity=\"1\" stroke-width=\"3.2\"/>\n",
       "<circle clip-path=\"url(#clip212)\" cx=\"1236.77\" cy=\"475.902\" r=\"14.4\" fill=\"#009af9\" fill-rule=\"evenodd\" fill-opacity=\"1\" stroke=\"#000000\" stroke-opacity=\"1\" stroke-width=\"3.2\"/>\n",
       "<circle clip-path=\"url(#clip212)\" cx=\"1257.84\" cy=\"475.902\" r=\"14.4\" fill=\"#009af9\" fill-rule=\"evenodd\" fill-opacity=\"1\" stroke=\"#000000\" stroke-opacity=\"1\" stroke-width=\"3.2\"/>\n",
       "<circle clip-path=\"url(#clip212)\" cx=\"1278.91\" cy=\"475.902\" r=\"14.4\" fill=\"#009af9\" fill-rule=\"evenodd\" fill-opacity=\"1\" stroke=\"#000000\" stroke-opacity=\"1\" stroke-width=\"3.2\"/>\n",
       "<circle clip-path=\"url(#clip212)\" cx=\"1299.98\" cy=\"475.902\" r=\"14.4\" fill=\"#009af9\" fill-rule=\"evenodd\" fill-opacity=\"1\" stroke=\"#000000\" stroke-opacity=\"1\" stroke-width=\"3.2\"/>\n",
       "<circle clip-path=\"url(#clip212)\" cx=\"1321.04\" cy=\"475.902\" r=\"14.4\" fill=\"#009af9\" fill-rule=\"evenodd\" fill-opacity=\"1\" stroke=\"#000000\" stroke-opacity=\"1\" stroke-width=\"3.2\"/>\n",
       "<circle clip-path=\"url(#clip212)\" cx=\"1342.11\" cy=\"475.902\" r=\"14.4\" fill=\"#009af9\" fill-rule=\"evenodd\" fill-opacity=\"1\" stroke=\"#000000\" stroke-opacity=\"1\" stroke-width=\"3.2\"/>\n",
       "<circle clip-path=\"url(#clip212)\" cx=\"1363.18\" cy=\"475.902\" r=\"14.4\" fill=\"#009af9\" fill-rule=\"evenodd\" fill-opacity=\"1\" stroke=\"#000000\" stroke-opacity=\"1\" stroke-width=\"3.2\"/>\n",
       "<circle clip-path=\"url(#clip212)\" cx=\"1384.25\" cy=\"475.902\" r=\"14.4\" fill=\"#009af9\" fill-rule=\"evenodd\" fill-opacity=\"1\" stroke=\"#000000\" stroke-opacity=\"1\" stroke-width=\"3.2\"/>\n",
       "<circle clip-path=\"url(#clip212)\" cx=\"1405.32\" cy=\"475.902\" r=\"14.4\" fill=\"#009af9\" fill-rule=\"evenodd\" fill-opacity=\"1\" stroke=\"#000000\" stroke-opacity=\"1\" stroke-width=\"3.2\"/>\n",
       "<circle clip-path=\"url(#clip212)\" cx=\"1426.38\" cy=\"475.902\" r=\"14.4\" fill=\"#009af9\" fill-rule=\"evenodd\" fill-opacity=\"1\" stroke=\"#000000\" stroke-opacity=\"1\" stroke-width=\"3.2\"/>\n",
       "<circle clip-path=\"url(#clip212)\" cx=\"1447.45\" cy=\"475.902\" r=\"14.4\" fill=\"#009af9\" fill-rule=\"evenodd\" fill-opacity=\"1\" stroke=\"#000000\" stroke-opacity=\"1\" stroke-width=\"3.2\"/>\n",
       "<circle clip-path=\"url(#clip212)\" cx=\"1468.52\" cy=\"475.902\" r=\"14.4\" fill=\"#009af9\" fill-rule=\"evenodd\" fill-opacity=\"1\" stroke=\"#000000\" stroke-opacity=\"1\" stroke-width=\"3.2\"/>\n",
       "<circle clip-path=\"url(#clip212)\" cx=\"1489.59\" cy=\"475.902\" r=\"14.4\" fill=\"#009af9\" fill-rule=\"evenodd\" fill-opacity=\"1\" stroke=\"#000000\" stroke-opacity=\"1\" stroke-width=\"3.2\"/>\n",
       "<circle clip-path=\"url(#clip212)\" cx=\"1510.66\" cy=\"475.902\" r=\"14.4\" fill=\"#009af9\" fill-rule=\"evenodd\" fill-opacity=\"1\" stroke=\"#000000\" stroke-opacity=\"1\" stroke-width=\"3.2\"/>\n",
       "<circle clip-path=\"url(#clip212)\" cx=\"1531.73\" cy=\"475.902\" r=\"14.4\" fill=\"#009af9\" fill-rule=\"evenodd\" fill-opacity=\"1\" stroke=\"#000000\" stroke-opacity=\"1\" stroke-width=\"3.2\"/>\n",
       "<circle clip-path=\"url(#clip212)\" cx=\"1552.79\" cy=\"475.902\" r=\"14.4\" fill=\"#009af9\" fill-rule=\"evenodd\" fill-opacity=\"1\" stroke=\"#000000\" stroke-opacity=\"1\" stroke-width=\"3.2\"/>\n",
       "<circle clip-path=\"url(#clip212)\" cx=\"1573.86\" cy=\"475.902\" r=\"14.4\" fill=\"#009af9\" fill-rule=\"evenodd\" fill-opacity=\"1\" stroke=\"#000000\" stroke-opacity=\"1\" stroke-width=\"3.2\"/>\n",
       "<circle clip-path=\"url(#clip212)\" cx=\"1594.93\" cy=\"475.902\" r=\"14.4\" fill=\"#009af9\" fill-rule=\"evenodd\" fill-opacity=\"1\" stroke=\"#000000\" stroke-opacity=\"1\" stroke-width=\"3.2\"/>\n",
       "<circle clip-path=\"url(#clip212)\" cx=\"1616\" cy=\"475.902\" r=\"14.4\" fill=\"#009af9\" fill-rule=\"evenodd\" fill-opacity=\"1\" stroke=\"#000000\" stroke-opacity=\"1\" stroke-width=\"3.2\"/>\n",
       "<circle clip-path=\"url(#clip212)\" cx=\"1637.07\" cy=\"475.902\" r=\"14.4\" fill=\"#009af9\" fill-rule=\"evenodd\" fill-opacity=\"1\" stroke=\"#000000\" stroke-opacity=\"1\" stroke-width=\"3.2\"/>\n",
       "<circle clip-path=\"url(#clip212)\" cx=\"1658.14\" cy=\"475.902\" r=\"14.4\" fill=\"#009af9\" fill-rule=\"evenodd\" fill-opacity=\"1\" stroke=\"#000000\" stroke-opacity=\"1\" stroke-width=\"3.2\"/>\n",
       "<circle clip-path=\"url(#clip212)\" cx=\"1679.2\" cy=\"475.902\" r=\"14.4\" fill=\"#009af9\" fill-rule=\"evenodd\" fill-opacity=\"1\" stroke=\"#000000\" stroke-opacity=\"1\" stroke-width=\"3.2\"/>\n",
       "<circle clip-path=\"url(#clip212)\" cx=\"1700.27\" cy=\"475.902\" r=\"14.4\" fill=\"#009af9\" fill-rule=\"evenodd\" fill-opacity=\"1\" stroke=\"#000000\" stroke-opacity=\"1\" stroke-width=\"3.2\"/>\n",
       "<circle clip-path=\"url(#clip212)\" cx=\"1721.34\" cy=\"475.902\" r=\"14.4\" fill=\"#009af9\" fill-rule=\"evenodd\" fill-opacity=\"1\" stroke=\"#000000\" stroke-opacity=\"1\" stroke-width=\"3.2\"/>\n",
       "<circle clip-path=\"url(#clip212)\" cx=\"1742.41\" cy=\"475.902\" r=\"14.4\" fill=\"#009af9\" fill-rule=\"evenodd\" fill-opacity=\"1\" stroke=\"#000000\" stroke-opacity=\"1\" stroke-width=\"3.2\"/>\n",
       "<circle clip-path=\"url(#clip212)\" cx=\"1763.48\" cy=\"475.902\" r=\"14.4\" fill=\"#009af9\" fill-rule=\"evenodd\" fill-opacity=\"1\" stroke=\"#000000\" stroke-opacity=\"1\" stroke-width=\"3.2\"/>\n",
       "<circle clip-path=\"url(#clip212)\" cx=\"1784.54\" cy=\"475.902\" r=\"14.4\" fill=\"#009af9\" fill-rule=\"evenodd\" fill-opacity=\"1\" stroke=\"#000000\" stroke-opacity=\"1\" stroke-width=\"3.2\"/>\n",
       "<circle clip-path=\"url(#clip212)\" cx=\"1805.61\" cy=\"475.902\" r=\"14.4\" fill=\"#009af9\" fill-rule=\"evenodd\" fill-opacity=\"1\" stroke=\"#000000\" stroke-opacity=\"1\" stroke-width=\"3.2\"/>\n",
       "<circle clip-path=\"url(#clip212)\" cx=\"1826.68\" cy=\"475.902\" r=\"14.4\" fill=\"#009af9\" fill-rule=\"evenodd\" fill-opacity=\"1\" stroke=\"#000000\" stroke-opacity=\"1\" stroke-width=\"3.2\"/>\n",
       "<circle clip-path=\"url(#clip212)\" cx=\"1847.75\" cy=\"475.902\" r=\"14.4\" fill=\"#009af9\" fill-rule=\"evenodd\" fill-opacity=\"1\" stroke=\"#000000\" stroke-opacity=\"1\" stroke-width=\"3.2\"/>\n",
       "<circle clip-path=\"url(#clip212)\" cx=\"1868.82\" cy=\"475.902\" r=\"14.4\" fill=\"#009af9\" fill-rule=\"evenodd\" fill-opacity=\"1\" stroke=\"#000000\" stroke-opacity=\"1\" stroke-width=\"3.2\"/>\n",
       "<circle clip-path=\"url(#clip212)\" cx=\"1889.89\" cy=\"475.902\" r=\"14.4\" fill=\"#009af9\" fill-rule=\"evenodd\" fill-opacity=\"1\" stroke=\"#000000\" stroke-opacity=\"1\" stroke-width=\"3.2\"/>\n",
       "<circle clip-path=\"url(#clip212)\" cx=\"1910.95\" cy=\"475.902\" r=\"14.4\" fill=\"#009af9\" fill-rule=\"evenodd\" fill-opacity=\"1\" stroke=\"#000000\" stroke-opacity=\"1\" stroke-width=\"3.2\"/>\n",
       "<circle clip-path=\"url(#clip212)\" cx=\"1932.02\" cy=\"475.902\" r=\"14.4\" fill=\"#009af9\" fill-rule=\"evenodd\" fill-opacity=\"1\" stroke=\"#000000\" stroke-opacity=\"1\" stroke-width=\"3.2\"/>\n",
       "<circle clip-path=\"url(#clip212)\" cx=\"1953.09\" cy=\"475.902\" r=\"14.4\" fill=\"#009af9\" fill-rule=\"evenodd\" fill-opacity=\"1\" stroke=\"#000000\" stroke-opacity=\"1\" stroke-width=\"3.2\"/>\n",
       "<circle clip-path=\"url(#clip212)\" cx=\"1974.16\" cy=\"475.902\" r=\"14.4\" fill=\"#009af9\" fill-rule=\"evenodd\" fill-opacity=\"1\" stroke=\"#000000\" stroke-opacity=\"1\" stroke-width=\"3.2\"/>\n",
       "<circle clip-path=\"url(#clip212)\" cx=\"1995.23\" cy=\"475.902\" r=\"14.4\" fill=\"#009af9\" fill-rule=\"evenodd\" fill-opacity=\"1\" stroke=\"#000000\" stroke-opacity=\"1\" stroke-width=\"3.2\"/>\n",
       "<circle clip-path=\"url(#clip212)\" cx=\"2016.3\" cy=\"475.902\" r=\"14.4\" fill=\"#009af9\" fill-rule=\"evenodd\" fill-opacity=\"1\" stroke=\"#000000\" stroke-opacity=\"1\" stroke-width=\"3.2\"/>\n",
       "<circle clip-path=\"url(#clip212)\" cx=\"2037.36\" cy=\"475.902\" r=\"14.4\" fill=\"#009af9\" fill-rule=\"evenodd\" fill-opacity=\"1\" stroke=\"#000000\" stroke-opacity=\"1\" stroke-width=\"3.2\"/>\n",
       "<circle clip-path=\"url(#clip212)\" cx=\"2058.43\" cy=\"475.902\" r=\"14.4\" fill=\"#009af9\" fill-rule=\"evenodd\" fill-opacity=\"1\" stroke=\"#000000\" stroke-opacity=\"1\" stroke-width=\"3.2\"/>\n",
       "<circle clip-path=\"url(#clip212)\" cx=\"2079.5\" cy=\"475.902\" r=\"14.4\" fill=\"#009af9\" fill-rule=\"evenodd\" fill-opacity=\"1\" stroke=\"#000000\" stroke-opacity=\"1\" stroke-width=\"3.2\"/>\n",
       "<circle clip-path=\"url(#clip212)\" cx=\"2100.57\" cy=\"475.902\" r=\"14.4\" fill=\"#009af9\" fill-rule=\"evenodd\" fill-opacity=\"1\" stroke=\"#000000\" stroke-opacity=\"1\" stroke-width=\"3.2\"/>\n",
       "<circle clip-path=\"url(#clip212)\" cx=\"2121.64\" cy=\"475.902\" r=\"14.4\" fill=\"#009af9\" fill-rule=\"evenodd\" fill-opacity=\"1\" stroke=\"#000000\" stroke-opacity=\"1\" stroke-width=\"3.2\"/>\n",
       "<circle clip-path=\"url(#clip212)\" cx=\"2142.71\" cy=\"475.902\" r=\"14.4\" fill=\"#009af9\" fill-rule=\"evenodd\" fill-opacity=\"1\" stroke=\"#000000\" stroke-opacity=\"1\" stroke-width=\"3.2\"/>\n",
       "<circle clip-path=\"url(#clip212)\" cx=\"2163.77\" cy=\"475.902\" r=\"14.4\" fill=\"#009af9\" fill-rule=\"evenodd\" fill-opacity=\"1\" stroke=\"#000000\" stroke-opacity=\"1\" stroke-width=\"3.2\"/>\n",
       "<circle clip-path=\"url(#clip212)\" cx=\"2184.84\" cy=\"475.902\" r=\"14.4\" fill=\"#009af9\" fill-rule=\"evenodd\" fill-opacity=\"1\" stroke=\"#000000\" stroke-opacity=\"1\" stroke-width=\"3.2\"/>\n",
       "<circle clip-path=\"url(#clip212)\" cx=\"2205.91\" cy=\"475.902\" r=\"14.4\" fill=\"#009af9\" fill-rule=\"evenodd\" fill-opacity=\"1\" stroke=\"#000000\" stroke-opacity=\"1\" stroke-width=\"3.2\"/>\n",
       "<circle clip-path=\"url(#clip212)\" cx=\"2226.98\" cy=\"475.902\" r=\"14.4\" fill=\"#009af9\" fill-rule=\"evenodd\" fill-opacity=\"1\" stroke=\"#000000\" stroke-opacity=\"1\" stroke-width=\"3.2\"/>\n",
       "<circle clip-path=\"url(#clip212)\" cx=\"2248.05\" cy=\"475.902\" r=\"14.4\" fill=\"#009af9\" fill-rule=\"evenodd\" fill-opacity=\"1\" stroke=\"#000000\" stroke-opacity=\"1\" stroke-width=\"3.2\"/>\n",
       "<circle clip-path=\"url(#clip212)\" cx=\"2269.11\" cy=\"475.902\" r=\"14.4\" fill=\"#009af9\" fill-rule=\"evenodd\" fill-opacity=\"1\" stroke=\"#000000\" stroke-opacity=\"1\" stroke-width=\"3.2\"/>\n",
       "<circle clip-path=\"url(#clip212)\" cx=\"2290.18\" cy=\"475.902\" r=\"14.4\" fill=\"#009af9\" fill-rule=\"evenodd\" fill-opacity=\"1\" stroke=\"#000000\" stroke-opacity=\"1\" stroke-width=\"3.2\"/>\n",
       "<polyline clip-path=\"url(#clip212)\" style=\"stroke:#e26f46; stroke-linecap:round; stroke-linejoin:round; stroke-width:4; stroke-opacity:1; fill:none\" points=\"204.426,1445.72 225.494,1445.72 246.562,1445.72 267.63,1445.72 288.699,1445.72 309.767,1445.72 330.835,1445.72 351.903,1445.72 372.972,1445.72 394.04,1445.72 415.108,1445.72 436.177,1445.72 457.245,1445.72 478.313,1445.72 499.381,1445.72 520.45,1445.72 541.518,1445.72 562.586,1445.72 583.654,1445.72 604.723,1445.72 625.791,1445.72 646.859,1445.72 667.927,1445.72 688.996,1445.72 710.064,1445.72 731.132,1445.72 752.2,1445.72 773.269,1445.72 794.337,1445.72 815.405,1445.72 836.473,1445.72 857.542,1445.72 878.61,1445.72 899.678,1445.72 920.746,1445.72 941.815,1445.72 962.883,1445.72 983.951,1445.72 1005.02,1445.72 1026.09,1445.72 1047.16,1445.72 1068.22,1445.72 1089.29,1445.72 1110.36,1445.72 1131.43,1445.72 1152.5,1445.72 1173.57,1445.72 1194.63,1445.72 1215.7,1445.72 1236.77,1445.72 1257.84,1445.72 1278.91,1445.72 1299.98,1445.72 1321.04,1445.72 1342.11,1445.72 1363.18,1445.72 1384.25,1445.72 1405.32,1445.72 1426.38,1445.72 1447.45,1445.72 1468.52,1445.72 1489.59,1445.72 1510.66,1445.72 1531.73,1445.72 1552.79,1445.72 1573.86,1445.72 1594.93,1445.72 1616,1445.72 1637.07,1445.72 1658.14,1445.72 1679.2,1445.72 1700.27,1445.72 1721.34,1445.72 1742.41,1445.72 1763.48,1445.72 1784.54,1445.72 1805.61,1445.72 1826.68,1445.72 1847.75,1445.72 1868.82,1445.72 1889.89,1445.72 1910.95,1445.72 1932.02,1445.72 1953.09,1445.72 1974.16,1445.72 1995.23,1445.72 2016.3,1445.72 2037.36,1445.72 2058.43,1445.72 2079.5,1445.72 2100.57,1445.72 2121.64,1445.72 2142.71,1445.72 2163.77,1445.72 2184.84,1445.72 2205.91,1445.72 2226.98,1445.72 2248.05,1445.72 2269.11,1445.72 2290.18,1445.72 \"/>\n",
       "<path clip-path=\"url(#clip210)\" d=\"M1703.23 250.738 L2279.06 250.738 L2279.06 95.2176 L1703.23 95.2176  Z\" fill=\"#ffffff\" fill-rule=\"evenodd\" fill-opacity=\"1\"/>\n",
       "<polyline clip-path=\"url(#clip210)\" style=\"stroke:#000000; stroke-linecap:round; stroke-linejoin:round; stroke-width:4; stroke-opacity:1; fill:none\" points=\"1703.23,250.738 2279.06,250.738 2279.06,95.2176 1703.23,95.2176 1703.23,250.738 \"/>\n",
       "<circle clip-path=\"url(#clip210)\" cx=\"1801.49\" cy=\"147.058\" r=\"23.04\" fill=\"#009af9\" fill-rule=\"evenodd\" fill-opacity=\"1\" stroke=\"#000000\" stroke-opacity=\"1\" stroke-width=\"5.12\"/>\n",
       "<path clip-path=\"url(#clip210)\" d=\"M1899.75 129.778 L1906.72 129.778 L1915.54 153.296 L1924.4 129.778 L1931.37 129.778 L1931.37 164.338 L1926.81 164.338 L1926.81 133.99 L1917.9 157.694 L1913.2 157.694 L1904.29 133.99 L1904.29 164.338 L1899.75 164.338 L1899.75 129.778 Z\" fill=\"#000000\" fill-rule=\"evenodd\" fill-opacity=\"1\" /><path clip-path=\"url(#clip210)\" d=\"M1966.53 132.44 L1966.53 137.37 Q1964.17 135.171 1961.49 134.083 Q1958.82 132.995 1955.81 132.995 Q1949.89 132.995 1946.74 136.629 Q1943.59 140.24 1943.59 147.092 Q1943.59 153.921 1946.74 157.555 Q1949.89 161.166 1955.81 161.166 Q1958.82 161.166 1961.49 160.078 Q1964.17 158.99 1966.53 156.791 L1966.53 161.676 Q1964.08 163.342 1961.32 164.176 Q1958.59 165.009 1955.54 165.009 Q1947.69 165.009 1943.18 160.217 Q1938.66 155.402 1938.66 147.092 Q1938.66 138.759 1943.18 133.967 Q1947.69 129.153 1955.54 129.153 Q1958.64 129.153 1961.37 129.986 Q1964.12 130.796 1966.53 132.44 Z\" fill=\"#000000\" fill-rule=\"evenodd\" fill-opacity=\"1\" /><path clip-path=\"url(#clip210)\" d=\"M2010.81 150.31 L2010.81 152.393 L1991.23 152.393 Q1991.51 156.791 1993.87 159.106 Q1996.25 161.398 2000.49 161.398 Q2002.94 161.398 2005.24 160.796 Q2007.55 160.194 2009.82 158.99 L2009.82 163.018 Q2007.53 163.99 2005.12 164.5 Q2002.71 165.009 2000.24 165.009 Q1994.03 165.009 1990.4 161.398 Q1986.79 157.787 1986.79 151.629 Q1986.79 145.264 1990.21 141.537 Q1993.66 137.787 1999.49 137.787 Q2004.73 137.787 2007.76 141.166 Q2010.81 144.523 2010.81 150.31 M2006.56 149.06 Q2006.51 145.565 2004.59 143.481 Q2002.69 141.398 1999.54 141.398 Q1995.98 141.398 1993.82 143.412 Q1991.69 145.426 1991.37 149.083 L2006.56 149.06 Z\" fill=\"#000000\" fill-rule=\"evenodd\" fill-opacity=\"1\" /><path clip-path=\"url(#clip210)\" d=\"M2039.36 148.689 L2039.36 164.338 L2035.1 164.338 L2035.1 148.828 Q2035.1 145.148 2033.66 143.319 Q2032.23 141.49 2029.36 141.49 Q2025.91 141.49 2023.92 143.69 Q2021.93 145.889 2021.93 149.685 L2021.93 164.338 L2017.64 164.338 L2017.64 138.412 L2021.93 138.412 L2021.93 142.44 Q2023.45 140.102 2025.51 138.944 Q2027.6 137.787 2030.3 137.787 Q2034.77 137.787 2037.06 140.565 Q2039.36 143.319 2039.36 148.689 Z\" fill=\"#000000\" fill-rule=\"evenodd\" fill-opacity=\"1\" /><path clip-path=\"url(#clip210)\" d=\"M2070.03 150.31 L2070.03 152.393 L2050.44 152.393 Q2050.72 156.791 2053.08 159.106 Q2055.47 161.398 2059.7 161.398 Q2062.16 161.398 2064.45 160.796 Q2066.76 160.194 2069.03 158.99 L2069.03 163.018 Q2066.74 163.99 2064.33 164.5 Q2061.93 165.009 2059.45 165.009 Q2053.24 165.009 2049.61 161.398 Q2046 157.787 2046 151.629 Q2046 145.264 2049.43 141.537 Q2052.87 137.787 2058.71 137.787 Q2063.94 137.787 2066.97 141.166 Q2070.03 144.523 2070.03 150.31 M2065.77 149.06 Q2065.72 145.565 2063.8 143.481 Q2061.9 141.398 2058.75 141.398 Q2055.19 141.398 2053.04 143.412 Q2050.91 145.426 2050.58 149.083 L2065.77 149.06 Z\" fill=\"#000000\" fill-rule=\"evenodd\" fill-opacity=\"1\" /><path clip-path=\"url(#clip210)\" d=\"M2092.04 142.393 Q2091.32 141.977 2090.47 141.791 Q2089.63 141.583 2088.61 141.583 Q2085 141.583 2083.06 143.944 Q2081.14 146.282 2081.14 150.68 L2081.14 164.338 L2076.86 164.338 L2076.86 138.412 L2081.14 138.412 L2081.14 142.44 Q2082.48 140.078 2084.63 138.944 Q2086.79 137.787 2089.86 137.787 Q2090.3 137.787 2090.84 137.856 Q2091.37 137.903 2092.02 138.018 L2092.04 142.393 Z\" fill=\"#000000\" fill-rule=\"evenodd\" fill-opacity=\"1\" /><path clip-path=\"url(#clip210)\" d=\"M2112.74 151.074 Q2112.74 146.444 2110.81 143.898 Q2108.92 141.352 2105.47 141.352 Q2102.04 141.352 2100.12 143.898 Q2098.22 146.444 2098.22 151.074 Q2098.22 155.68 2100.12 158.226 Q2102.04 160.773 2105.47 160.773 Q2108.92 160.773 2110.81 158.226 Q2112.74 155.68 2112.74 151.074 M2116.99 161.12 Q2116.99 167.74 2114.05 170.958 Q2111.11 174.199 2105.05 174.199 Q2102.8 174.199 2100.81 173.851 Q2098.82 173.527 2096.95 172.833 L2096.95 168.689 Q2098.82 169.708 2100.65 170.194 Q2102.48 170.68 2104.38 170.68 Q2108.57 170.68 2110.65 168.481 Q2112.74 166.305 2112.74 161.884 L2112.74 159.777 Q2111.42 162.069 2109.36 163.203 Q2107.3 164.338 2104.42 164.338 Q2099.66 164.338 2096.74 160.703 Q2093.82 157.069 2093.82 151.074 Q2093.82 145.055 2096.74 141.421 Q2099.66 137.787 2104.42 137.787 Q2107.3 137.787 2109.36 138.921 Q2111.42 140.055 2112.74 142.347 L2112.74 138.412 L2116.99 138.412 L2116.99 161.12 Z\" fill=\"#000000\" fill-rule=\"evenodd\" fill-opacity=\"1\" /><path clip-path=\"url(#clip210)\" d=\"M2136.55 166.745 Q2134.75 171.375 2133.04 172.787 Q2131.32 174.199 2128.45 174.199 L2125.05 174.199 L2125.05 170.634 L2127.55 170.634 Q2129.31 170.634 2130.28 169.8 Q2131.25 168.967 2132.43 165.865 L2133.2 163.921 L2122.71 138.412 L2127.23 138.412 L2135.33 158.689 L2143.43 138.412 L2147.94 138.412 L2136.55 166.745 Z\" fill=\"#000000\" fill-rule=\"evenodd\" fill-opacity=\"1\" /><polyline clip-path=\"url(#clip210)\" style=\"stroke:#e26f46; stroke-linecap:round; stroke-linejoin:round; stroke-width:4; stroke-opacity:1; fill:none\" points=\"1727.79,198.898 1875.18,198.898 \"/>\n",
       "<path clip-path=\"url(#clip210)\" d=\"M1904.03 212.289 L1904.03 226.039 L1899.75 226.039 L1899.75 190.252 L1904.03 190.252 L1904.03 194.187 Q1905.38 191.872 1907.41 190.761 Q1909.47 189.627 1912.32 189.627 Q1917.04 189.627 1919.98 193.377 Q1922.94 197.127 1922.94 203.238 Q1922.94 209.349 1919.98 213.099 Q1917.04 216.849 1912.32 216.849 Q1909.47 216.849 1907.41 215.738 Q1905.38 214.603 1904.03 212.289 M1918.52 203.238 Q1918.52 198.539 1916.58 195.877 Q1914.66 193.192 1911.28 193.192 Q1907.9 193.192 1905.95 195.877 Q1904.03 198.539 1904.03 203.238 Q1904.03 207.937 1905.95 210.622 Q1907.9 213.284 1911.28 213.284 Q1914.66 213.284 1916.58 210.622 Q1918.52 207.937 1918.52 203.238 Z\" fill=\"#000000\" fill-rule=\"evenodd\" fill-opacity=\"1\" /><path clip-path=\"url(#clip210)\" d=\"M1930 180.159 L1934.26 180.159 L1934.26 216.178 L1930 216.178 L1930 180.159 Z\" fill=\"#000000\" fill-rule=\"evenodd\" fill-opacity=\"1\" /><path clip-path=\"url(#clip210)\" d=\"M1954.96 203.145 Q1949.8 203.145 1947.81 204.326 Q1945.81 205.506 1945.81 208.354 Q1945.81 210.622 1947.3 211.965 Q1948.8 213.284 1951.37 213.284 Q1954.91 213.284 1957.04 210.784 Q1959.19 208.261 1959.19 204.094 L1959.19 203.145 L1954.96 203.145 M1963.45 201.386 L1963.45 216.178 L1959.19 216.178 L1959.19 212.242 Q1957.74 214.603 1955.56 215.738 Q1953.38 216.849 1950.24 216.849 Q1946.25 216.849 1943.89 214.627 Q1941.56 212.381 1941.56 208.631 Q1941.56 204.256 1944.47 202.034 Q1947.41 199.812 1953.22 199.812 L1959.19 199.812 L1959.19 199.395 Q1959.19 196.455 1957.25 194.858 Q1955.33 193.238 1951.83 193.238 Q1949.61 193.238 1947.5 193.77 Q1945.4 194.303 1943.45 195.367 L1943.45 191.432 Q1945.79 190.53 1947.99 190.09 Q1950.19 189.627 1952.27 189.627 Q1957.9 189.627 1960.68 192.543 Q1963.45 195.46 1963.45 201.386 Z\" fill=\"#000000\" fill-rule=\"evenodd\" fill-opacity=\"1\" /><path clip-path=\"url(#clip210)\" d=\"M1993.78 200.529 L1993.78 216.178 L1989.52 216.178 L1989.52 200.668 Q1989.52 196.988 1988.08 195.159 Q1986.65 193.33 1983.78 193.33 Q1980.33 193.33 1978.34 195.53 Q1976.35 197.729 1976.35 201.525 L1976.35 216.178 L1972.06 216.178 L1972.06 190.252 L1976.35 190.252 L1976.35 194.28 Q1977.87 191.942 1979.93 190.784 Q1982.02 189.627 1984.73 189.627 Q1989.19 189.627 1991.49 192.405 Q1993.78 195.159 1993.78 200.529 Z\" fill=\"#000000\" fill-rule=\"evenodd\" fill-opacity=\"1\" /><path clip-path=\"url(#clip210)\" d=\"M2006.49 182.891 L2006.49 190.252 L2015.26 190.252 L2015.26 193.562 L2006.49 193.562 L2006.49 207.636 Q2006.49 210.807 2007.34 211.71 Q2008.22 212.613 2010.88 212.613 L2015.26 212.613 L2015.26 216.178 L2010.88 216.178 Q2005.95 216.178 2004.08 214.349 Q2002.2 212.497 2002.2 207.636 L2002.2 193.562 L1999.08 193.562 L1999.08 190.252 L2002.2 190.252 L2002.2 182.891 L2006.49 182.891 Z\" fill=\"#000000\" fill-rule=\"evenodd\" fill-opacity=\"1\" /><path clip-path=\"url(#clip210)\" d=\"M2043.04 202.15 L2043.04 204.233 L2023.45 204.233 Q2023.73 208.631 2026.09 210.946 Q2028.48 213.238 2032.71 213.238 Q2035.17 213.238 2037.46 212.636 Q2039.77 212.034 2042.04 210.83 L2042.04 214.858 Q2039.75 215.83 2037.34 216.34 Q2034.93 216.849 2032.46 216.849 Q2026.25 216.849 2022.62 213.238 Q2019.01 209.627 2019.01 203.469 Q2019.01 197.104 2022.43 193.377 Q2025.88 189.627 2031.72 189.627 Q2036.95 189.627 2039.98 193.006 Q2043.04 196.363 2043.04 202.15 M2038.78 200.9 Q2038.73 197.405 2036.81 195.321 Q2034.91 193.238 2031.76 193.238 Q2028.2 193.238 2026.05 195.252 Q2023.92 197.266 2023.59 200.923 L2038.78 200.9 Z\" fill=\"#000000\" fill-rule=\"evenodd\" fill-opacity=\"1\" /><path clip-path=\"url(#clip210)\" d=\"M2067.09 194.187 L2067.09 180.159 L2071.35 180.159 L2071.35 216.178 L2067.09 216.178 L2067.09 212.289 Q2065.74 214.603 2063.68 215.738 Q2061.65 216.849 2058.78 216.849 Q2054.08 216.849 2051.12 213.099 Q2048.18 209.349 2048.18 203.238 Q2048.18 197.127 2051.12 193.377 Q2054.08 189.627 2058.78 189.627 Q2061.65 189.627 2063.68 190.761 Q2065.74 191.872 2067.09 194.187 M2052.57 203.238 Q2052.57 207.937 2054.49 210.622 Q2056.44 213.284 2059.82 213.284 Q2063.2 213.284 2065.14 210.622 Q2067.09 207.937 2067.09 203.238 Q2067.09 198.539 2065.14 195.877 Q2063.2 193.192 2059.82 193.192 Q2056.44 193.192 2054.49 195.877 Q2052.57 198.539 2052.57 203.238 Z\" fill=\"#000000\" fill-rule=\"evenodd\" fill-opacity=\"1\" /><path clip-path=\"url(#clip210)\" d=\"M2117.36 202.15 L2117.36 204.233 L2097.78 204.233 Q2098.06 208.631 2100.42 210.946 Q2102.8 213.238 2107.04 213.238 Q2109.49 213.238 2111.79 212.636 Q2114.1 212.034 2116.37 210.83 L2116.37 214.858 Q2114.08 215.83 2111.67 216.34 Q2109.26 216.849 2106.79 216.849 Q2100.58 216.849 2096.95 213.238 Q2093.34 209.627 2093.34 203.469 Q2093.34 197.104 2096.76 193.377 Q2100.21 189.627 2106.05 189.627 Q2111.28 189.627 2114.31 193.006 Q2117.36 196.363 2117.36 202.15 M2113.11 200.9 Q2113.06 197.405 2111.14 195.321 Q2109.24 193.238 2106.09 193.238 Q2102.53 193.238 2100.37 195.252 Q2098.24 197.266 2097.92 200.923 L2113.11 200.9 Z\" fill=\"#000000\" fill-rule=\"evenodd\" fill-opacity=\"1\" /><path clip-path=\"url(#clip210)\" d=\"M2145.91 200.529 L2145.91 216.178 L2141.65 216.178 L2141.65 200.668 Q2141.65 196.988 2140.21 195.159 Q2138.78 193.33 2135.91 193.33 Q2132.46 193.33 2130.47 195.53 Q2128.48 197.729 2128.48 201.525 L2128.48 216.178 L2124.19 216.178 L2124.19 190.252 L2128.48 190.252 L2128.48 194.28 Q2130 191.942 2132.06 190.784 Q2134.15 189.627 2136.86 189.627 Q2141.32 189.627 2143.61 192.405 Q2145.91 195.159 2145.91 200.529 Z\" fill=\"#000000\" fill-rule=\"evenodd\" fill-opacity=\"1\" /><path clip-path=\"url(#clip210)\" d=\"M2176.58 202.15 L2176.58 204.233 L2156.99 204.233 Q2157.27 208.631 2159.63 210.946 Q2162.02 213.238 2166.25 213.238 Q2168.71 213.238 2171 212.636 Q2173.31 212.034 2175.58 210.83 L2175.58 214.858 Q2173.29 215.83 2170.88 216.34 Q2168.48 216.849 2166 216.849 Q2159.79 216.849 2156.16 213.238 Q2152.55 209.627 2152.55 203.469 Q2152.55 197.104 2155.98 193.377 Q2159.42 189.627 2165.26 189.627 Q2170.49 189.627 2173.52 193.006 Q2176.58 196.363 2176.58 202.15 M2172.32 200.9 Q2172.27 197.405 2170.35 195.321 Q2168.45 193.238 2165.3 193.238 Q2161.74 193.238 2159.59 195.252 Q2157.46 197.266 2157.13 200.923 L2172.32 200.9 Z\" fill=\"#000000\" fill-rule=\"evenodd\" fill-opacity=\"1\" /><path clip-path=\"url(#clip210)\" d=\"M2198.59 194.233 Q2197.87 193.817 2197.02 193.631 Q2196.18 193.423 2195.17 193.423 Q2191.55 193.423 2189.61 195.784 Q2187.69 198.122 2187.69 202.52 L2187.69 216.178 L2183.41 216.178 L2183.41 190.252 L2187.69 190.252 L2187.69 194.28 Q2189.03 191.918 2191.18 190.784 Q2193.34 189.627 2196.42 189.627 Q2196.85 189.627 2197.39 189.696 Q2197.92 189.743 2198.57 189.858 L2198.59 194.233 Z\" fill=\"#000000\" fill-rule=\"evenodd\" fill-opacity=\"1\" /><path clip-path=\"url(#clip210)\" d=\"M2219.29 202.914 Q2219.29 198.284 2217.36 195.738 Q2215.47 193.192 2212.02 193.192 Q2208.59 193.192 2206.67 195.738 Q2204.77 198.284 2204.77 202.914 Q2204.77 207.52 2206.67 210.066 Q2208.59 212.613 2212.02 212.613 Q2215.47 212.613 2217.36 210.066 Q2219.29 207.52 2219.29 202.914 M2223.54 212.96 Q2223.54 219.58 2220.6 222.798 Q2217.67 226.039 2211.6 226.039 Q2209.35 226.039 2207.36 225.691 Q2205.37 225.367 2203.5 224.673 L2203.5 220.529 Q2205.37 221.548 2207.2 222.034 Q2209.03 222.52 2210.93 222.52 Q2215.12 222.52 2217.2 220.321 Q2219.29 218.145 2219.29 213.724 L2219.29 211.617 Q2217.97 213.909 2215.91 215.043 Q2213.85 216.178 2210.98 216.178 Q2206.21 216.178 2203.29 212.543 Q2200.37 208.909 2200.37 202.914 Q2200.37 196.895 2203.29 193.261 Q2206.21 189.627 2210.98 189.627 Q2213.85 189.627 2215.91 190.761 Q2217.97 191.895 2219.29 194.187 L2219.29 190.252 L2223.54 190.252 L2223.54 212.96 Z\" fill=\"#000000\" fill-rule=\"evenodd\" fill-opacity=\"1\" /><path clip-path=\"url(#clip210)\" d=\"M2243.1 218.585 Q2241.3 223.215 2239.59 224.627 Q2237.87 226.039 2235 226.039 L2231.6 226.039 L2231.6 222.474 L2234.1 222.474 Q2235.86 222.474 2236.83 221.64 Q2237.8 220.807 2238.98 217.705 L2239.75 215.761 L2229.26 190.252 L2233.78 190.252 L2241.88 210.529 L2249.98 190.252 L2254.49 190.252 L2243.1 218.585 Z\" fill=\"#000000\" fill-rule=\"evenodd\" fill-opacity=\"1\" /></svg>\n"
      ]
     },
     "execution_count": 19,
     "metadata": {},
     "output_type": "execute_result"
    }
   ],
   "source": [
    "scatter(energies,label=\"MC energy\")\n",
    "plot!(plant_ene .* ones(length(energies)),label=\"planted energy\")"
   ]
  },
  {
   "cell_type": "markdown",
   "id": "3af4c6ba-c569-4658-a752-e8e3ea21dd46",
   "metadata": {},
   "source": [
    "# Same thing, but statistics\n",
    "Here we take the fraction of instances that manage to get to the minimum"
   ]
  },
  {
   "cell_type": "code",
   "execution_count": 16,
   "id": "0d875ef3-485f-4410-ab62-00d2201b46b8",
   "metadata": {},
   "outputs": [
    {
     "data": {
      "text/plain": [
       "{2000, 6000} directed sparse Int64 graph\n",
       "⡠⡮⢗⠦⢲⡧⣸⢳⠷⢲⣗⡷⣜⢦⣈⡚⢾⡘⢔⣰⣍⢴⣨⡨⢒⣺⢤⣴⠲⣪⡄⣷⡓⠵⡜⣿⢄⢻⢿⡭\n",
       "⠹⡕⢱⠖⠽⣢⠾⣞⡘⣯⣧⠭⡞⣙⡗⠺⢛⢕⠮⡥⡜⡊⡃⣛⣭⢮⡵⣕⣪⡚⣿⠷⡲⣗⡏⣙⣃⢎⢳⣍\n",
       "⠼⡶⠳⣣⣠⣺⣰⢩⣶⠦⣻⡥⣜⢹⣻⣏⡇⠪⠿⢮⣎⣙⣻⢉⢿⡣⢪⣺⣼⠚⢇⢇⣿⢍⠞⡻⢞⡭⢻⣧\n",
       "⢶⣚⣺⢧⡔⣚⣟⢙⣫⠫⠝⡮⢭⣏⡫⢻⠼⠇⣜⣒⣮⢯⣹⣥⠎⣡⡷⢴⣀⠧⢓⡼⡕⢿⢱⣸⢍⣯⡚⡍\n",
       "⢹⣃⡶⣬⠸⡟⡯⡚⡎⠍⣟⣗⠣⣿⣋⡥⢠⡻⣭⣈⣹⢮⢾⣹⡯⢫⣴⣝⡻⡴⠪⡸⣴⠨⢗⢺⣶⣞⣢⣺\n",
       "⢽⡽⡍⡟⠟⡾⡳⡥⢿⢽⣮⡻⢲⢞⣏⣽⡴⣁⡏⣷⡌⠳⡭⡓⣇⡳⣴⡐⢡⢟⣛⡼⢶⡷⣾⢙⣡⡑⠢⢣\n",
       "⠲⣝⣞⢩⣖⣙⡧⢷⣭⣦⣸⢖⣿⡻⠍⡤⠦⠜⣿⣩⣟⠱⣛⢗⡸⠿⣧⢟⣱⡙⣴⣌⡙⣔⣗⢟⢨⡳⠺⠑\n",
       "⣢⠸⣹⡉⡿⢾⣯⣊⠏⡼⣏⣽⠃⡥⡱⡪⢮⣹⡗⠏⡄⡮⢗⣤⣎⡐⣿⡯⡿⡢⢻⣶⣖⣘⢞⢧⡯⠶⠛⣁\n",
       "⣚⠳⢟⢔⡩⡉⠶⠇⣤⡲⠔⢫⣈⠇⣎⣳⢾⣷⢤⠾⢬⡯⣛⣰⠾⢹⡻⣣⠫⠫⣔⣾⢕⢽⣿⡣⢹⣵⣚⡏\n",
       "⢐⣱⠎⡧⡻⣇⢲⢹⡃⢻⢯⣭⡟⣻⡽⠍⣠⡗⡮⣫⢪⢎⢭⢹⣟⡗⢕⢣⢇⣞⡧⢶⣟⡨⣣⡣⡻⣚⣿⢂\n",
       "⢃⣝⡲⠩⣎⢹⡮⣟⡳⣞⢦⡉⢟⡙⡠⡭⡦⡷⡪⢖⣏⠙⠺⡺⡶⣾⠦⣟⣗⣹⣯⣴⣓⡻⣴⠟⣫⡵⢯⡄\n",
       "⡂⡺⣭⢨⡟⢚⠗⣾⣞⣳⢧⠫⢿⢜⠙⣵⢛⣸⣇⣓⣺⡢⡏⡭⠼⡟⠥⡵⣏⢮⣮⡯⢬⣶⠦⢅⣟⣇⢭⠗\n",
       "⣸⣰⡣⣟⠿⡳⠎⣡⡯⣋⢭⡹⣶⡎⢊⠹⣞⣃⢿⠽⣸⣯⣶⠧⣏⢙⣧⣽⣯⣽⢾⢫⣟⣮⣆⠇⣗⢒⣻⠀\n",
       "⢀⣷⢕⢯⣪⣲⢙⣏⣔⢿⢐⠻⣭⢟⡿⡿⠿⣪⠵⣑⣬⢧⢅⡧⣍⣿⣎⠝⠽⢗⡊⣲⡾⢶⢟⣋⣆⣟⣕⣣\n",
       "⡸⣢⣪⠺⣲⠛⠤⡜⢛⡮⣥⢖⣕⠺⠻⡫⡯⡂⣩⢵⣝⣹⡫⣝⣏⣿⢷⢇⡱⡮⡣⣫⣿⢓⢔⡱⡴⢤⡑⣭\n",
       "⢤⣭⢿⡟⠭⢕⣙⡴⣊⡢⣛⡼⡐⢿⢻⣶⣰⣽⢩⣏⢋⣿⡮⡿⡾⣓⢪⣨⡭⣪⡺⡪⠆⠿⣾⢈⢟⢾⣵⡧\n",
       "⢝⡌⢼⢮⡟⢟⣵⣍⡐⡛⢼⡷⢓⢬⣘⢹⣕⣕⡛⡹⣽⡸⢢⣷⡻⣽⢺⣏⢿⢛⣬⡅⣴⠛⠦⡫⡮⡏⡧⣬\n",
       "⣶⣭⣏⢩⣾⡡⣑⣲⣹⣑⣞⢛⣽⢝⠾⣕⠿⡻⠭⡺⣴⠟⠌⢇⠬⠝⡿⢱⢔⡱⡚⢛⡬⡣⣎⡹⣳⠗⡺⠮\n",
       "⣤⣑⡩⢜⡞⡵⡧⣵⣸⢿⢅⠺⢦⡲⢫⡏⢗⣶⣻⢪⢏⡾⠿⢽⢹⢙⣬⢽⠐⣏⣻⣕⡮⠯⢽⠞⡏⣭⣻⡈\n",
       "⡟⡷⡝⢶⠿⣶⡞⠬⣨⣺⠬⣂⢞⠂⠟⢠⡾⠼⠻⢛⠋⠷⢧⠗⠛⠚⠵⣹⡕⣬⠵⡿⡉⣯⡺⡎⡛⠺⣡⠚"
      ]
     },
     "execution_count": 16,
     "metadata": {},
     "output_type": "execute_result"
    }
   ],
   "source": [
    "Ngraph = 2000\n",
    "degree_dist = Dirac(3)\n",
    "G = makeGraph(Ngraph,degree_dist)"
   ]
  },
  {
   "cell_type": "code",
   "execution_count": null,
   "id": "41c2b821-e3a6-4fc6-8edb-f5dd1ac1eb26",
   "metadata": {},
   "outputs": [],
   "source": [
    "γRange = LinRange(0.002,0.025,35)\n",
    "n_instances = 250\n",
    "num_anneal = 5\n",
    "frac_of_conv = zeros(length(γRange))\n",
    "swXann = 400 #sweeps for anneal\n",
    "ε = LinRange(1e-3,1e-10,num_anneal) #the softening parameter\n",
    "a = time()\n",
    "Threads.@threads for st = 1:length(γRange)\n",
    "    for instance = 1:n_instances\n",
    "        planted = zeros(Int,Ngraph, T + 1) # a single epidemic trajectory\n",
    "        sample!(planted, G, 1.0, γRange[st])\n",
    "        x = copy(planted) #the MC trajectory \n",
    "        for step_anneal = 1:num_anneal\n",
    "            conv, energies = MC(γRange[st],G,planted,x,ε=ε[step_anneal],Nsweeps=swXann)\n",
    "            if conv \n",
    "                frac_of_conv[st] += 1/n_instances\n",
    "                break\n",
    "            end\n",
    "        end\n",
    "    end\n",
    "end\n",
    "b = time()\n",
    "print(b-a)"
   ]
  },
  {
   "cell_type": "code",
   "execution_count": null,
   "id": "b41aa96b-73f8-4665-ae11-a74e5c792459",
   "metadata": {},
   "outputs": [],
   "source": [
    "(b-a) / 360/24"
   ]
  },
  {
   "cell_type": "code",
   "execution_count": null,
   "id": "244d7c1f-c7a7-4829-9e54-0032f7a4374c",
   "metadata": {},
   "outputs": [],
   "source": [
    "plot(γRange,frac_of_conv,xlabel=\"γ\",ylabel=\"fraction of success\",label=false)"
   ]
  },
  {
   "cell_type": "code",
   "execution_count": 21,
   "id": "50c90f8c-90e7-46e6-9a7f-3da5edd0c24c",
   "metadata": {},
   "outputs": [],
   "source": [
    "using DelimitedFiles\n",
    "open(\"./N=$(Ngraph)MC.txt\",\"w\") do io\n",
    "    writedlm(io,frac_of_conv) \n",
    "end"
   ]
  },
  {
   "cell_type": "code",
   "execution_count": 22,
   "id": "43b3bf9d-2182-40ac-842a-57579c6f45b6",
   "metadata": {},
   "outputs": [
    {
     "data": {
      "text/plain": [
       "2000"
      ]
     },
     "execution_count": 22,
     "metadata": {},
     "output_type": "execute_result"
    }
   ],
   "source": [
    "Ngraph"
   ]
  },
  {
   "cell_type": "code",
   "execution_count": null,
   "id": "78839d43-afcb-47bf-9149-e4a9ce9e1dbe",
   "metadata": {},
   "outputs": [],
   "source": []
  }
 ],
 "metadata": {
  "kernelspec": {
   "display_name": "Julia 1.7.0-rc2",
   "language": "julia",
   "name": "julia-1.7"
  },
  "language_info": {
   "file_extension": ".jl",
   "mimetype": "application/julia",
   "name": "julia",
   "version": "1.7.0"
  }
 },
 "nbformat": 4,
 "nbformat_minor": 5
}
