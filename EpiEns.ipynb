{
 "cells": [
  {
   "cell_type": "code",
   "execution_count": 881,
   "id": "employed-light",
   "metadata": {},
   "outputs": [],
   "source": [
    "# Dubbi:\n",
    "#1 come mai le chiavi di a sembrano random?\n",
    "#2 come faccio a non fare re-inserimento ?? Ricorda io estraggo d-1 cosi, più uno, più un altro che è quello di arrivo"
   ]
  },
  {
   "cell_type": "code",
   "execution_count": 902,
   "id": "vocal-sellers",
   "metadata": {},
   "outputs": [
    {
     "data": {
      "text/plain": [
       "rand_disorder (generic function with 1 method)"
      ]
     },
     "execution_count": 902,
     "metadata": {},
     "output_type": "execute_result"
    }
   ],
   "source": [
    "import OffsetArrays\n",
    "using Plots\n",
    "using Revise\n",
    "include(\"functions.jl\")"
   ]
  },
  {
   "cell_type": "code",
   "execution_count": 915,
   "id": "bored-saudi",
   "metadata": {},
   "outputs": [],
   "source": [
    "# S=0   I=1\n",
    "# The times go from ti = 0 to ti=T+1\n",
    "# when ti=0 it means that i is the zero patient\n",
    "# when ti=T+1 it means that i is never infected\n",
    "\n",
    "λ = 0.4 #infection rate\n",
    "d = 3 # degree (fixed for now) \n",
    "T = 4 # discrete time\n",
    "γ = 0.05 # autoinfection probability\n",
    "N = 5000; #population size"
   ]
  },
  {
   "cell_type": "code",
   "execution_count": 916,
   "id": "5bca4031-4e6b-4343-a514-e428a711e455",
   "metadata": {},
   "outputs": [
    {
     "data": {
      "text/plain": [
       "(0, 2, 2)"
      ]
     },
     "execution_count": 916,
     "metadata": {},
     "output_type": "execute_result"
    }
   ],
   "source": [
    "xi0,sij,sji = rand_disorder(γ,λ)"
   ]
  },
  {
   "cell_type": "markdown",
   "id": "through-scientist",
   "metadata": {},
   "source": [
    "# Population dynamics for the messages"
   ]
  },
  {
   "cell_type": "code",
   "execution_count": 917,
   "id": "transsexual-authorization",
   "metadata": {},
   "outputs": [],
   "source": [
    "# Creation of the population\n",
    "# we create μ as the set of all the N functions\n",
    "# μ[k,ti,ck,τi,σk] is the value taken by the\n",
    "# function μk with arguments ti,ck,τi,σk\n",
    "# Using OffsetArrays we managed to keep notation \n",
    "# coherent with the notes: \n",
    "\n",
    "# i=1,...,N, \n",
    "# ti=0,...,T+1 \n",
    "# c = 0,1\n",
    "# σ=0,1,2\n",
    "\n",
    "# The same is done for the ν function later\n",
    "inizialization = ones(N,T+2,2,T+2,3) / (6*(T+2)^2)\n",
    "μ = OffsetArrays.OffsetArray(inizialization,0,-1,-1,-1,-1);"
   ]
  },
  {
   "cell_type": "code",
   "execution_count": 918,
   "id": "secret-houston",
   "metadata": {},
   "outputs": [
    {
     "data": {
      "image/svg+xml": [
       "<?xml version=\"1.0\" encoding=\"utf-8\"?>\n",
       "<svg xmlns=\"http://www.w3.org/2000/svg\" xmlns:xlink=\"http://www.w3.org/1999/xlink\" width=\"350\" height=\"300\" viewBox=\"0 0 1400 1200\">\n",
       "<defs>\n",
       "  <clipPath id=\"clip950\">\n",
       "    <rect x=\"0\" y=\"0\" width=\"1400\" height=\"1200\"/>\n",
       "  </clipPath>\n",
       "</defs>\n",
       "<path clip-path=\"url(#clip950)\" d=\"\n",
       "M0 1200 L1400 1200 L1400 0 L0 0  Z\n",
       "  \" fill=\"#ffffff\" fill-rule=\"evenodd\" fill-opacity=\"1\"/>\n",
       "<defs>\n",
       "  <clipPath id=\"clip951\">\n",
       "    <rect x=\"280\" y=\"0\" width=\"981\" height=\"981\"/>\n",
       "  </clipPath>\n",
       "</defs>\n",
       "<path clip-path=\"url(#clip950)\" d=\"\n",
       "M146.598 1080.57 L1352.76 1080.57 L1352.76 140.752 L146.598 140.752  Z\n",
       "  \" fill=\"#ffffff\" fill-rule=\"evenodd\" fill-opacity=\"1\"/>\n",
       "<defs>\n",
       "  <clipPath id=\"clip952\">\n",
       "    <rect x=\"146\" y=\"140\" width=\"1207\" height=\"941\"/>\n",
       "  </clipPath>\n",
       "</defs>\n",
       "<polyline clip-path=\"url(#clip952)\" style=\"stroke:#000000; stroke-linecap:butt; stroke-linejoin:round; stroke-width:2; stroke-opacity:0.1; fill:none\" points=\"\n",
       "  284.179,1080.57 284.179,140.752 \n",
       "  \"/>\n",
       "<polyline clip-path=\"url(#clip952)\" style=\"stroke:#000000; stroke-linecap:butt; stroke-linejoin:round; stroke-width:2; stroke-opacity:0.1; fill:none\" points=\"\n",
       "  542.789,1080.57 542.789,140.752 \n",
       "  \"/>\n",
       "<polyline clip-path=\"url(#clip952)\" style=\"stroke:#000000; stroke-linecap:butt; stroke-linejoin:round; stroke-width:2; stroke-opacity:0.1; fill:none\" points=\"\n",
       "  801.399,1080.57 801.399,140.752 \n",
       "  \"/>\n",
       "<polyline clip-path=\"url(#clip952)\" style=\"stroke:#000000; stroke-linecap:butt; stroke-linejoin:round; stroke-width:2; stroke-opacity:0.1; fill:none\" points=\"\n",
       "  1060.01,1080.57 1060.01,140.752 \n",
       "  \"/>\n",
       "<polyline clip-path=\"url(#clip952)\" style=\"stroke:#000000; stroke-linecap:butt; stroke-linejoin:round; stroke-width:2; stroke-opacity:0.1; fill:none\" points=\"\n",
       "  1318.62,1080.57 1318.62,140.752 \n",
       "  \"/>\n",
       "<polyline clip-path=\"url(#clip950)\" style=\"stroke:#000000; stroke-linecap:butt; stroke-linejoin:round; stroke-width:4; stroke-opacity:1; fill:none\" points=\"\n",
       "  146.598,1080.57 1352.76,1080.57 \n",
       "  \"/>\n",
       "<polyline clip-path=\"url(#clip950)\" style=\"stroke:#000000; stroke-linecap:butt; stroke-linejoin:round; stroke-width:4; stroke-opacity:1; fill:none\" points=\"\n",
       "  284.179,1080.57 284.179,1061.68 \n",
       "  \"/>\n",
       "<polyline clip-path=\"url(#clip950)\" style=\"stroke:#000000; stroke-linecap:butt; stroke-linejoin:round; stroke-width:4; stroke-opacity:1; fill:none\" points=\"\n",
       "  542.789,1080.57 542.789,1061.68 \n",
       "  \"/>\n",
       "<polyline clip-path=\"url(#clip950)\" style=\"stroke:#000000; stroke-linecap:butt; stroke-linejoin:round; stroke-width:4; stroke-opacity:1; fill:none\" points=\"\n",
       "  801.399,1080.57 801.399,1061.68 \n",
       "  \"/>\n",
       "<polyline clip-path=\"url(#clip950)\" style=\"stroke:#000000; stroke-linecap:butt; stroke-linejoin:round; stroke-width:4; stroke-opacity:1; fill:none\" points=\"\n",
       "  1060.01,1080.57 1060.01,1061.68 \n",
       "  \"/>\n",
       "<polyline clip-path=\"url(#clip950)\" style=\"stroke:#000000; stroke-linecap:butt; stroke-linejoin:round; stroke-width:4; stroke-opacity:1; fill:none\" points=\"\n",
       "  1318.62,1080.57 1318.62,1061.68 \n",
       "  \"/>\n",
       "<path clip-path=\"url(#clip950)\" d=\"M230.707 1118.14 L260.383 1118.14 L260.383 1122.08 L230.707 1122.08 L230.707 1118.14 Z\" fill=\"#000000\" fill-rule=\"evenodd\" fill-opacity=\"1\" /><path clip-path=\"url(#clip950)\" d=\"M270.521 1100.41 L288.878 1100.41 L288.878 1104.35 L274.804 1104.35 L274.804 1112.82 Q275.822 1112.47 276.841 1112.31 Q277.859 1112.13 278.878 1112.13 Q284.665 1112.13 288.045 1115.3 Q291.424 1118.47 291.424 1123.89 Q291.424 1129.46 287.952 1132.57 Q284.48 1135.64 278.16 1135.64 Q275.984 1135.64 273.716 1135.27 Q271.471 1134.9 269.063 1134.16 L269.063 1129.46 Q271.146 1130.6 273.369 1131.15 Q275.591 1131.71 278.068 1131.71 Q282.072 1131.71 284.41 1129.6 Q286.748 1127.5 286.748 1123.89 Q286.748 1120.27 284.41 1118.17 Q282.072 1116.06 278.068 1116.06 Q276.193 1116.06 274.318 1116.48 Q272.466 1116.89 270.521 1117.77 L270.521 1100.41 Z\" fill=\"#000000\" fill-rule=\"evenodd\" fill-opacity=\"1\" /><path clip-path=\"url(#clip950)\" d=\"M300.637 1129.09 L305.521 1129.09 L305.521 1134.97 L300.637 1134.97 L300.637 1129.09 Z\" fill=\"#000000\" fill-rule=\"evenodd\" fill-opacity=\"1\" /><path clip-path=\"url(#clip950)\" d=\"M325.706 1103.49 Q322.095 1103.49 320.267 1107.06 Q318.461 1110.6 318.461 1117.73 Q318.461 1124.83 320.267 1128.4 Q322.095 1131.94 325.706 1131.94 Q329.341 1131.94 331.146 1128.4 Q332.975 1124.83 332.975 1117.73 Q332.975 1110.6 331.146 1107.06 Q329.341 1103.49 325.706 1103.49 M325.706 1099.79 Q331.517 1099.79 334.572 1104.4 Q337.651 1108.98 337.651 1117.73 Q337.651 1126.46 334.572 1131.06 Q331.517 1135.64 325.706 1135.64 Q319.896 1135.64 316.818 1131.06 Q313.762 1126.46 313.762 1117.73 Q313.762 1108.98 316.818 1104.4 Q319.896 1099.79 325.706 1099.79 Z\" fill=\"#000000\" fill-rule=\"evenodd\" fill-opacity=\"1\" /><path clip-path=\"url(#clip950)\" d=\"M489.815 1118.14 L519.49 1118.14 L519.49 1122.08 L489.815 1122.08 L489.815 1118.14 Z\" fill=\"#000000\" fill-rule=\"evenodd\" fill-opacity=\"1\" /><path clip-path=\"url(#clip950)\" d=\"M533.611 1131.04 L549.93 1131.04 L549.93 1134.97 L527.986 1134.97 L527.986 1131.04 Q530.648 1128.28 535.231 1123.65 Q539.838 1119 541.018 1117.66 Q543.263 1115.14 544.143 1113.4 Q545.046 1111.64 545.046 1109.95 Q545.046 1107.2 543.101 1105.46 Q541.18 1103.72 538.078 1103.72 Q535.879 1103.72 533.426 1104.49 Q530.995 1105.25 528.217 1106.8 L528.217 1102.08 Q531.041 1100.95 533.495 1100.37 Q535.949 1099.79 537.986 1099.79 Q543.356 1099.79 546.551 1102.47 Q549.745 1105.16 549.745 1109.65 Q549.745 1111.78 548.935 1113.7 Q548.148 1115.6 546.041 1118.19 Q545.463 1118.86 542.361 1122.08 Q539.259 1125.27 533.611 1131.04 Z\" fill=\"#000000\" fill-rule=\"evenodd\" fill-opacity=\"1\" /><path clip-path=\"url(#clip950)\" d=\"M559.745 1129.09 L564.629 1129.09 L564.629 1134.97 L559.745 1134.97 L559.745 1129.09 Z\" fill=\"#000000\" fill-rule=\"evenodd\" fill-opacity=\"1\" /><path clip-path=\"url(#clip950)\" d=\"M574.861 1100.41 L593.217 1100.41 L593.217 1104.35 L579.143 1104.35 L579.143 1112.82 Q580.161 1112.47 581.18 1112.31 Q582.198 1112.13 583.217 1112.13 Q589.004 1112.13 592.384 1115.3 Q595.763 1118.47 595.763 1123.89 Q595.763 1129.46 592.291 1132.57 Q588.819 1135.64 582.499 1135.64 Q580.323 1135.64 578.055 1135.27 Q575.81 1134.9 573.402 1134.16 L573.402 1129.46 Q575.486 1130.6 577.708 1131.15 Q579.93 1131.71 582.407 1131.71 Q586.411 1131.71 588.749 1129.6 Q591.087 1127.5 591.087 1123.89 Q591.087 1120.27 588.749 1118.17 Q586.411 1116.06 582.407 1116.06 Q580.532 1116.06 578.657 1116.48 Q576.805 1116.89 574.861 1117.77 L574.861 1100.41 Z\" fill=\"#000000\" fill-rule=\"evenodd\" fill-opacity=\"1\" /><path clip-path=\"url(#clip950)\" d=\"M778.783 1103.49 Q775.172 1103.49 773.344 1107.06 Q771.538 1110.6 771.538 1117.73 Q771.538 1124.83 773.344 1128.4 Q775.172 1131.94 778.783 1131.94 Q782.418 1131.94 784.223 1128.4 Q786.052 1124.83 786.052 1117.73 Q786.052 1110.6 784.223 1107.06 Q782.418 1103.49 778.783 1103.49 M778.783 1099.79 Q784.594 1099.79 787.649 1104.4 Q790.728 1108.98 790.728 1117.73 Q790.728 1126.46 787.649 1131.06 Q784.594 1135.64 778.783 1135.64 Q772.973 1135.64 769.895 1131.06 Q766.839 1126.46 766.839 1117.73 Q766.839 1108.98 769.895 1104.4 Q772.973 1099.79 778.783 1099.79 Z\" fill=\"#000000\" fill-rule=\"evenodd\" fill-opacity=\"1\" /><path clip-path=\"url(#clip950)\" d=\"M798.945 1129.09 L803.83 1129.09 L803.83 1134.97 L798.945 1134.97 L798.945 1129.09 Z\" fill=\"#000000\" fill-rule=\"evenodd\" fill-opacity=\"1\" /><path clip-path=\"url(#clip950)\" d=\"M824.015 1103.49 Q820.404 1103.49 818.575 1107.06 Q816.769 1110.6 816.769 1117.73 Q816.769 1124.83 818.575 1128.4 Q820.404 1131.94 824.015 1131.94 Q827.649 1131.94 829.455 1128.4 Q831.283 1124.83 831.283 1117.73 Q831.283 1110.6 829.455 1107.06 Q827.649 1103.49 824.015 1103.49 M824.015 1099.79 Q829.825 1099.79 832.88 1104.4 Q835.959 1108.98 835.959 1117.73 Q835.959 1126.46 832.88 1131.06 Q829.825 1135.64 824.015 1135.64 Q818.205 1135.64 815.126 1131.06 Q812.07 1126.46 812.07 1117.73 Q812.07 1108.98 815.126 1104.4 Q818.205 1099.79 824.015 1099.79 Z\" fill=\"#000000\" fill-rule=\"evenodd\" fill-opacity=\"1\" /><path clip-path=\"url(#clip950)\" d=\"M1031.75 1131.04 L1048.06 1131.04 L1048.06 1134.97 L1026.12 1134.97 L1026.12 1131.04 Q1028.78 1128.28 1033.37 1123.65 Q1037.97 1119 1039.15 1117.66 Q1041.4 1115.14 1042.28 1113.4 Q1043.18 1111.64 1043.18 1109.95 Q1043.18 1107.2 1041.24 1105.46 Q1039.31 1103.72 1036.21 1103.72 Q1034.01 1103.72 1031.56 1104.49 Q1029.13 1105.25 1026.35 1106.8 L1026.35 1102.08 Q1029.18 1100.95 1031.63 1100.37 Q1034.08 1099.79 1036.12 1099.79 Q1041.49 1099.79 1044.69 1102.47 Q1047.88 1105.16 1047.88 1109.65 Q1047.88 1111.78 1047.07 1113.7 Q1046.28 1115.6 1044.18 1118.19 Q1043.6 1118.86 1040.5 1122.08 Q1037.39 1125.27 1031.75 1131.04 Z\" fill=\"#000000\" fill-rule=\"evenodd\" fill-opacity=\"1\" /><path clip-path=\"url(#clip950)\" d=\"M1057.88 1129.09 L1062.76 1129.09 L1062.76 1134.97 L1057.88 1134.97 L1057.88 1129.09 Z\" fill=\"#000000\" fill-rule=\"evenodd\" fill-opacity=\"1\" /><path clip-path=\"url(#clip950)\" d=\"M1073 1100.41 L1091.35 1100.41 L1091.35 1104.35 L1077.28 1104.35 L1077.28 1112.82 Q1078.3 1112.47 1079.31 1112.31 Q1080.33 1112.13 1081.35 1112.13 Q1087.14 1112.13 1090.52 1115.3 Q1093.9 1118.47 1093.9 1123.89 Q1093.9 1129.46 1090.43 1132.57 Q1086.95 1135.64 1080.63 1135.64 Q1078.46 1135.64 1076.19 1135.27 Q1073.94 1134.9 1071.54 1134.16 L1071.54 1129.46 Q1073.62 1130.6 1075.84 1131.15 Q1078.06 1131.71 1080.54 1131.71 Q1084.55 1131.71 1086.88 1129.6 Q1089.22 1127.5 1089.22 1123.89 Q1089.22 1120.27 1086.88 1118.17 Q1084.55 1116.06 1080.54 1116.06 Q1078.67 1116.06 1076.79 1116.48 Q1074.94 1116.89 1073 1117.77 L1073 1100.41 Z\" fill=\"#000000\" fill-rule=\"evenodd\" fill-opacity=\"1\" /><path clip-path=\"url(#clip950)\" d=\"M1285.78 1100.41 L1304.14 1100.41 L1304.14 1104.35 L1290.07 1104.35 L1290.07 1112.82 Q1291.08 1112.47 1292.1 1112.31 Q1293.12 1112.13 1294.14 1112.13 Q1299.93 1112.13 1303.31 1115.3 Q1306.69 1118.47 1306.69 1123.89 Q1306.69 1129.46 1303.21 1132.57 Q1299.74 1135.64 1293.42 1135.64 Q1291.25 1135.64 1288.98 1135.27 Q1286.73 1134.9 1284.33 1134.16 L1284.33 1129.46 Q1286.41 1130.6 1288.63 1131.15 Q1290.85 1131.71 1293.33 1131.71 Q1297.33 1131.71 1299.67 1129.6 Q1302.01 1127.5 1302.01 1123.89 Q1302.01 1120.27 1299.67 1118.17 Q1297.33 1116.06 1293.33 1116.06 Q1291.46 1116.06 1289.58 1116.48 Q1287.73 1116.89 1285.78 1117.77 L1285.78 1100.41 Z\" fill=\"#000000\" fill-rule=\"evenodd\" fill-opacity=\"1\" /><path clip-path=\"url(#clip950)\" d=\"M1315.9 1129.09 L1320.78 1129.09 L1320.78 1134.97 L1315.9 1134.97 L1315.9 1129.09 Z\" fill=\"#000000\" fill-rule=\"evenodd\" fill-opacity=\"1\" /><path clip-path=\"url(#clip950)\" d=\"M1340.97 1103.49 Q1337.36 1103.49 1335.53 1107.06 Q1333.72 1110.6 1333.72 1117.73 Q1333.72 1124.83 1335.53 1128.4 Q1337.36 1131.94 1340.97 1131.94 Q1344.6 1131.94 1346.41 1128.4 Q1348.24 1124.83 1348.24 1117.73 Q1348.24 1110.6 1346.41 1107.06 Q1344.6 1103.49 1340.97 1103.49 M1340.97 1099.79 Q1346.78 1099.79 1349.83 1104.4 Q1352.91 1108.98 1352.91 1117.73 Q1352.91 1126.46 1349.83 1131.06 Q1346.78 1135.64 1340.97 1135.64 Q1335.16 1135.64 1332.08 1131.06 Q1329.02 1126.46 1329.02 1117.73 Q1329.02 1108.98 1332.08 1104.4 Q1335.16 1099.79 1340.97 1099.79 Z\" fill=\"#000000\" fill-rule=\"evenodd\" fill-opacity=\"1\" /><polyline clip-path=\"url(#clip952)\" style=\"stroke:#000000; stroke-linecap:butt; stroke-linejoin:round; stroke-width:2; stroke-opacity:0.1; fill:none\" points=\"\n",
       "  146.598,936.456 1352.76,936.456 \n",
       "  \"/>\n",
       "<polyline clip-path=\"url(#clip952)\" style=\"stroke:#000000; stroke-linecap:butt; stroke-linejoin:round; stroke-width:2; stroke-opacity:0.1; fill:none\" points=\"\n",
       "  146.598,744.179 1352.76,744.179 \n",
       "  \"/>\n",
       "<polyline clip-path=\"url(#clip952)\" style=\"stroke:#000000; stroke-linecap:butt; stroke-linejoin:round; stroke-width:2; stroke-opacity:0.1; fill:none\" points=\"\n",
       "  146.598,551.903 1352.76,551.903 \n",
       "  \"/>\n",
       "<polyline clip-path=\"url(#clip952)\" style=\"stroke:#000000; stroke-linecap:butt; stroke-linejoin:round; stroke-width:2; stroke-opacity:0.1; fill:none\" points=\"\n",
       "  146.598,359.627 1352.76,359.627 \n",
       "  \"/>\n",
       "<polyline clip-path=\"url(#clip952)\" style=\"stroke:#000000; stroke-linecap:butt; stroke-linejoin:round; stroke-width:2; stroke-opacity:0.1; fill:none\" points=\"\n",
       "  146.598,167.351 1352.76,167.351 \n",
       "  \"/>\n",
       "<polyline clip-path=\"url(#clip950)\" style=\"stroke:#000000; stroke-linecap:butt; stroke-linejoin:round; stroke-width:4; stroke-opacity:1; fill:none\" points=\"\n",
       "  146.598,1080.57 146.598,140.752 \n",
       "  \"/>\n",
       "<polyline clip-path=\"url(#clip950)\" style=\"stroke:#000000; stroke-linecap:butt; stroke-linejoin:round; stroke-width:4; stroke-opacity:1; fill:none\" points=\"\n",
       "  146.598,936.456 165.496,936.456 \n",
       "  \"/>\n",
       "<polyline clip-path=\"url(#clip950)\" style=\"stroke:#000000; stroke-linecap:butt; stroke-linejoin:round; stroke-width:4; stroke-opacity:1; fill:none\" points=\"\n",
       "  146.598,744.179 165.496,744.179 \n",
       "  \"/>\n",
       "<polyline clip-path=\"url(#clip950)\" style=\"stroke:#000000; stroke-linecap:butt; stroke-linejoin:round; stroke-width:4; stroke-opacity:1; fill:none\" points=\"\n",
       "  146.598,551.903 165.496,551.903 \n",
       "  \"/>\n",
       "<polyline clip-path=\"url(#clip950)\" style=\"stroke:#000000; stroke-linecap:butt; stroke-linejoin:round; stroke-width:4; stroke-opacity:1; fill:none\" points=\"\n",
       "  146.598,359.627 165.496,359.627 \n",
       "  \"/>\n",
       "<polyline clip-path=\"url(#clip950)\" style=\"stroke:#000000; stroke-linecap:butt; stroke-linejoin:round; stroke-width:4; stroke-opacity:1; fill:none\" points=\"\n",
       "  146.598,167.351 165.496,167.351 \n",
       "  \"/>\n",
       "<path clip-path=\"url(#clip950)\" d=\"M70.0198 922.254 Q66.4087 922.254 64.58 925.819 Q62.7745 929.361 62.7745 936.49 Q62.7745 943.597 64.58 947.162 Q66.4087 950.703 70.0198 950.703 Q73.6541 950.703 75.4596 947.162 Q77.2883 943.597 77.2883 936.49 Q77.2883 929.361 75.4596 925.819 Q73.6541 922.254 70.0198 922.254 M70.0198 918.551 Q75.83 918.551 78.8855 923.157 Q81.9642 927.74 81.9642 936.49 Q81.9642 945.217 78.8855 949.824 Q75.83 954.407 70.0198 954.407 Q64.2097 954.407 61.131 949.824 Q58.0754 945.217 58.0754 936.49 Q58.0754 927.74 61.131 923.157 Q64.2097 918.551 70.0198 918.551 Z\" fill=\"#000000\" fill-rule=\"evenodd\" fill-opacity=\"1\" /><path clip-path=\"url(#clip950)\" d=\"M90.1818 947.856 L95.066 947.856 L95.066 953.736 L90.1818 953.736 L90.1818 947.856 Z\" fill=\"#000000\" fill-rule=\"evenodd\" fill-opacity=\"1\" /><path clip-path=\"url(#clip950)\" d=\"M109.279 949.8 L125.598 949.8 L125.598 953.736 L103.654 953.736 L103.654 949.8 Q106.316 947.046 110.899 942.416 Q115.506 937.764 116.686 936.421 Q118.932 933.898 119.811 932.162 Q120.714 930.402 120.714 928.713 Q120.714 925.958 118.77 924.222 Q116.848 922.486 113.746 922.486 Q111.547 922.486 109.094 923.25 Q106.663 924.014 103.885 925.565 L103.885 920.842 Q106.709 919.708 109.163 919.129 Q111.617 918.551 113.654 918.551 Q119.024 918.551 122.219 921.236 Q125.413 923.921 125.413 928.412 Q125.413 930.541 124.603 932.463 Q123.816 934.361 121.709 936.953 Q121.131 937.625 118.029 940.842 Q114.927 944.037 109.279 949.8 Z\" fill=\"#000000\" fill-rule=\"evenodd\" fill-opacity=\"1\" /><path clip-path=\"url(#clip950)\" d=\"M67.9365 729.978 Q64.3254 729.978 62.4967 733.543 Q60.6912 737.085 60.6912 744.214 Q60.6912 751.321 62.4967 754.885 Q64.3254 758.427 67.9365 758.427 Q71.5707 758.427 73.3763 754.885 Q75.205 751.321 75.205 744.214 Q75.205 737.085 73.3763 733.543 Q71.5707 729.978 67.9365 729.978 M67.9365 726.274 Q73.7467 726.274 76.8022 730.881 Q79.8809 735.464 79.8809 744.214 Q79.8809 752.941 76.8022 757.547 Q73.7467 762.131 67.9365 762.131 Q62.1264 762.131 59.0477 757.547 Q55.9921 752.941 55.9921 744.214 Q55.9921 735.464 59.0477 730.881 Q62.1264 726.274 67.9365 726.274 Z\" fill=\"#000000\" fill-rule=\"evenodd\" fill-opacity=\"1\" /><path clip-path=\"url(#clip950)\" d=\"M88.0984 755.58 L92.9827 755.58 L92.9827 761.459 L88.0984 761.459 L88.0984 755.58 Z\" fill=\"#000000\" fill-rule=\"evenodd\" fill-opacity=\"1\" /><path clip-path=\"url(#clip950)\" d=\"M116.015 730.974 L104.209 749.422 L116.015 749.422 L116.015 730.974 M114.788 726.899 L120.668 726.899 L120.668 749.422 L125.598 749.422 L125.598 753.311 L120.668 753.311 L120.668 761.459 L116.015 761.459 L116.015 753.311 L100.413 753.311 L100.413 748.797 L114.788 726.899 Z\" fill=\"#000000\" fill-rule=\"evenodd\" fill-opacity=\"1\" /><path clip-path=\"url(#clip950)\" d=\"M68.2606 537.702 Q64.6495 537.702 62.8208 541.267 Q61.0152 544.808 61.0152 551.938 Q61.0152 559.044 62.8208 562.609 Q64.6495 566.151 68.2606 566.151 Q71.8948 566.151 73.7004 562.609 Q75.5291 559.044 75.5291 551.938 Q75.5291 544.808 73.7004 541.267 Q71.8948 537.702 68.2606 537.702 M68.2606 533.998 Q74.0707 533.998 77.1263 538.605 Q80.205 543.188 80.205 551.938 Q80.205 560.665 77.1263 565.271 Q74.0707 569.855 68.2606 569.855 Q62.4504 569.855 59.3717 565.271 Q56.3162 560.665 56.3162 551.938 Q56.3162 543.188 59.3717 538.605 Q62.4504 533.998 68.2606 533.998 Z\" fill=\"#000000\" fill-rule=\"evenodd\" fill-opacity=\"1\" /><path clip-path=\"url(#clip950)\" d=\"M88.4225 563.304 L93.3067 563.304 L93.3067 569.183 L88.4225 569.183 L88.4225 563.304 Z\" fill=\"#000000\" fill-rule=\"evenodd\" fill-opacity=\"1\" /><path clip-path=\"url(#clip950)\" d=\"M114.071 550.04 Q110.922 550.04 109.071 552.193 Q107.242 554.345 107.242 558.095 Q107.242 561.822 109.071 563.998 Q110.922 566.151 114.071 566.151 Q117.219 566.151 119.047 563.998 Q120.899 561.822 120.899 558.095 Q120.899 554.345 119.047 552.193 Q117.219 550.04 114.071 550.04 M123.353 535.387 L123.353 539.646 Q121.594 538.813 119.788 538.373 Q118.006 537.933 116.246 537.933 Q111.617 537.933 109.163 541.058 Q106.733 544.183 106.385 550.503 Q107.751 548.489 109.811 547.424 Q111.871 546.336 114.348 546.336 Q119.557 546.336 122.566 549.507 Q125.598 552.656 125.598 558.095 Q125.598 563.419 122.45 566.637 Q119.302 569.855 114.071 569.855 Q108.075 569.855 104.904 565.271 Q101.733 560.665 101.733 551.938 Q101.733 543.744 105.621 538.882 Q109.51 533.998 116.061 533.998 Q117.82 533.998 119.603 534.345 Q121.408 534.693 123.353 535.387 Z\" fill=\"#000000\" fill-rule=\"evenodd\" fill-opacity=\"1\" /><path clip-path=\"url(#clip950)\" d=\"M68.5152 345.426 Q64.9041 345.426 63.0754 348.991 Q61.2699 352.532 61.2699 359.662 Q61.2699 366.768 63.0754 370.333 Q64.9041 373.875 68.5152 373.875 Q72.1494 373.875 73.955 370.333 Q75.7837 366.768 75.7837 359.662 Q75.7837 352.532 73.955 348.991 Q72.1494 345.426 68.5152 345.426 M68.5152 341.722 Q74.3254 341.722 77.3809 346.329 Q80.4596 350.912 80.4596 359.662 Q80.4596 368.389 77.3809 372.995 Q74.3254 377.578 68.5152 377.578 Q62.7051 377.578 59.6264 372.995 Q56.5708 368.389 56.5708 359.662 Q56.5708 350.912 59.6264 346.329 Q62.7051 341.722 68.5152 341.722 Z\" fill=\"#000000\" fill-rule=\"evenodd\" fill-opacity=\"1\" /><path clip-path=\"url(#clip950)\" d=\"M88.6771 371.027 L93.5614 371.027 L93.5614 376.907 L88.6771 376.907 L88.6771 371.027 Z\" fill=\"#000000\" fill-rule=\"evenodd\" fill-opacity=\"1\" /><path clip-path=\"url(#clip950)\" d=\"M113.746 360.495 Q110.413 360.495 108.492 362.277 Q106.594 364.06 106.594 367.185 Q106.594 370.31 108.492 372.092 Q110.413 373.875 113.746 373.875 Q117.08 373.875 119.001 372.092 Q120.922 370.287 120.922 367.185 Q120.922 364.06 119.001 362.277 Q117.103 360.495 113.746 360.495 M109.071 358.504 Q106.061 357.764 104.371 355.703 Q102.705 353.643 102.705 350.68 Q102.705 346.537 105.645 344.129 Q108.608 341.722 113.746 341.722 Q118.908 341.722 121.848 344.129 Q124.788 346.537 124.788 350.68 Q124.788 353.643 123.098 355.703 Q121.432 357.764 118.445 358.504 Q121.825 359.291 123.7 361.583 Q125.598 363.875 125.598 367.185 Q125.598 372.208 122.52 374.893 Q119.464 377.578 113.746 377.578 Q108.029 377.578 104.95 374.893 Q101.895 372.208 101.895 367.185 Q101.895 363.875 103.793 361.583 Q105.691 359.291 109.071 358.504 M107.358 351.12 Q107.358 353.805 109.024 355.31 Q110.714 356.815 113.746 356.815 Q116.756 356.815 118.445 355.31 Q120.158 353.805 120.158 351.12 Q120.158 348.435 118.445 346.93 Q116.756 345.426 113.746 345.426 Q110.714 345.426 109.024 346.93 Q107.358 348.435 107.358 351.12 Z\" fill=\"#000000\" fill-rule=\"evenodd\" fill-opacity=\"1\" /><path clip-path=\"url(#clip950)\" d=\"M59.2328 180.696 L66.8717 180.696 L66.8717 154.33 L58.5616 155.997 L58.5616 151.738 L66.8254 150.071 L71.5013 150.071 L71.5013 180.696 L79.1402 180.696 L79.1402 184.631 L59.2328 184.631 L59.2328 180.696 Z\" fill=\"#000000\" fill-rule=\"evenodd\" fill-opacity=\"1\" /><path clip-path=\"url(#clip950)\" d=\"M88.5845 178.751 L93.4688 178.751 L93.4688 184.631 L88.5845 184.631 L88.5845 178.751 Z\" fill=\"#000000\" fill-rule=\"evenodd\" fill-opacity=\"1\" /><path clip-path=\"url(#clip950)\" d=\"M113.654 153.15 Q110.043 153.15 108.214 156.714 Q106.409 160.256 106.409 167.386 Q106.409 174.492 108.214 178.057 Q110.043 181.598 113.654 181.598 Q117.288 181.598 119.094 178.057 Q120.922 174.492 120.922 167.386 Q120.922 160.256 119.094 156.714 Q117.288 153.15 113.654 153.15 M113.654 149.446 Q119.464 149.446 122.52 154.052 Q125.598 158.636 125.598 167.386 Q125.598 176.112 122.52 180.719 Q119.464 185.302 113.654 185.302 Q107.844 185.302 104.765 180.719 Q101.709 176.112 101.709 167.386 Q101.709 158.636 104.765 154.052 Q107.844 149.446 113.654 149.446 Z\" fill=\"#000000\" fill-rule=\"evenodd\" fill-opacity=\"1\" /><path clip-path=\"url(#clip950)\" d=\"M522.34 72.576 L499.25 12.096 L507.798 12.096 L526.958 63.0159 L546.16 12.096 L554.667 12.096 L531.617 72.576 L522.34 72.576 Z\" fill=\"#000000\" fill-rule=\"evenodd\" fill-opacity=\"1\" /><path clip-path=\"url(#clip950)\" d=\"M577.352 49.7694 Q568.318 49.7694 564.834 51.8354 Q561.351 53.9013 561.351 58.8839 Q561.351 62.8538 563.943 65.2034 Q566.576 67.5124 571.073 67.5124 Q577.271 67.5124 580.997 63.1374 Q584.765 58.7219 584.765 51.4303 L584.765 49.7694 L577.352 49.7694 M592.218 46.6907 L592.218 72.576 L584.765 72.576 L584.765 65.6895 Q582.213 69.8214 578.405 71.8063 Q574.597 73.7508 569.088 73.7508 Q562.12 73.7508 557.988 69.8619 Q553.897 65.9325 553.897 59.3701 Q553.897 51.7138 559.001 47.825 Q564.146 43.9361 574.313 43.9361 L584.765 43.9361 L584.765 43.2069 Q584.765 38.0623 581.362 35.2672 Q578 32.4315 571.883 32.4315 Q567.994 32.4315 564.308 33.3632 Q560.621 34.295 557.219 36.1584 L557.219 29.2718 Q561.31 27.692 565.158 26.9223 Q569.007 26.1121 572.653 26.1121 Q582.496 26.1121 587.357 31.2163 Q592.218 36.3204 592.218 46.6907 Z\" fill=\"#000000\" fill-rule=\"evenodd\" fill-opacity=\"1\" /><path clip-path=\"url(#clip950)\" d=\"M607.571 9.54393 L615.025 9.54393 L615.025 72.576 L607.571 72.576 L607.571 9.54393 Z\" fill=\"#000000\" fill-rule=\"evenodd\" fill-opacity=\"1\" /><path clip-path=\"url(#clip950)\" d=\"M629.851 54.671 L629.851 27.2059 L637.305 27.2059 L637.305 54.3874 Q637.305 60.8284 639.817 64.0691 Q642.328 67.2693 647.351 67.2693 Q653.387 67.2693 656.871 63.421 Q660.395 59.5726 660.395 52.9291 L660.395 27.2059 L667.849 27.2059 L667.849 72.576 L660.395 72.576 L660.395 65.6084 Q657.681 69.7404 654.076 71.7658 Q650.511 73.7508 645.771 73.7508 Q637.953 73.7508 633.902 68.8897 Q629.851 64.0286 629.851 54.671 M648.607 26.1121 L648.607 26.1121 Z\" fill=\"#000000\" fill-rule=\"evenodd\" fill-opacity=\"1\" /><path clip-path=\"url(#clip950)\" d=\"M722.009 48.0275 L722.009 51.6733 L687.739 51.6733 Q688.225 59.3701 692.357 63.421 Q696.529 67.4314 703.942 67.4314 Q708.236 67.4314 712.247 66.3781 Q716.298 65.3249 720.268 63.2184 L720.268 70.267 Q716.257 71.9684 712.044 72.8596 Q707.831 73.7508 703.497 73.7508 Q692.64 73.7508 686.28 67.4314 Q679.961 61.1119 679.961 50.3365 Q679.961 39.1965 685.956 32.6746 Q691.992 26.1121 702.2 26.1121 Q711.356 26.1121 716.662 32.0264 Q722.009 37.9003 722.009 48.0275 M714.556 45.84 Q714.475 39.7232 711.112 36.0774 Q707.791 32.4315 702.281 32.4315 Q696.043 32.4315 692.276 35.9558 Q688.549 39.4801 687.982 45.8805 L714.556 45.84 Z\" fill=\"#000000\" fill-rule=\"evenodd\" fill-opacity=\"1\" /><path clip-path=\"url(#clip950)\" d=\"M778.195 32.4315 Q772.2 32.4315 768.716 37.1306 Q765.233 41.7891 765.233 49.9314 Q765.233 58.0738 768.676 62.7728 Q772.16 67.4314 778.195 67.4314 Q784.15 67.4314 787.634 62.7323 Q791.118 58.0333 791.118 49.9314 Q791.118 41.8701 787.634 37.1711 Q784.15 32.4315 778.195 32.4315 M778.195 26.1121 Q787.918 26.1121 793.467 32.4315 Q799.017 38.7509 799.017 49.9314 Q799.017 61.0714 793.467 67.4314 Q787.918 73.7508 778.195 73.7508 Q768.433 73.7508 762.883 67.4314 Q757.374 61.0714 757.374 49.9314 Q757.374 38.7509 762.883 32.4315 Q768.433 26.1121 778.195 26.1121 Z\" fill=\"#000000\" fill-rule=\"evenodd\" fill-opacity=\"1\" /><path clip-path=\"url(#clip950)\" d=\"M834.341 9.54393 L834.341 15.7418 L827.211 15.7418 Q823.201 15.7418 821.621 17.3622 Q820.082 18.9825 820.082 23.1955 L820.082 27.2059 L832.356 27.2059 L832.356 32.9987 L820.082 32.9987 L820.082 72.576 L812.588 72.576 L812.588 32.9987 L805.458 32.9987 L805.458 27.2059 L812.588 27.2059 L812.588 24.0462 Q812.588 16.471 816.112 13.0277 Q819.636 9.54393 827.292 9.54393 L834.341 9.54393 Z\" fill=\"#000000\" fill-rule=\"evenodd\" fill-opacity=\"1\" /><path clip-path=\"url(#clip950)\" d=\"M887.57 49.7694 Q878.536 49.7694 875.053 51.8354 Q871.569 53.9013 871.569 58.8839 Q871.569 62.8538 874.161 65.2034 Q876.794 67.5124 881.291 67.5124 Q887.489 67.5124 891.216 63.1374 Q894.983 58.7219 894.983 51.4303 L894.983 49.7694 L887.57 49.7694 M902.437 46.6907 L902.437 72.576 L894.983 72.576 L894.983 65.6895 Q892.431 69.8214 888.623 71.8063 Q884.815 73.7508 879.306 73.7508 Q872.338 73.7508 868.207 69.8619 Q864.115 65.9325 864.115 59.3701 Q864.115 51.7138 869.219 47.825 Q874.364 43.9361 884.532 43.9361 L894.983 43.9361 L894.983 43.2069 Q894.983 38.0623 891.58 35.2672 Q888.218 32.4315 882.101 32.4315 Q878.212 32.4315 874.526 33.3632 Q870.84 34.295 867.437 36.1584 L867.437 29.2718 Q871.528 27.692 875.377 26.9223 Q879.225 26.1121 882.871 26.1121 Q892.714 26.1121 897.576 31.2163 Q902.437 36.3204 902.437 46.6907 Z\" fill=\"#000000\" fill-rule=\"evenodd\" fill-opacity=\"1\" /><path clip-path=\"url(#clip950)\" d=\"M935.695 9.62495 Q930.266 18.942 927.633 28.0566 Q925 37.1711 925 46.5287 Q925 55.8863 927.633 65.0818 Q930.307 74.2369 935.695 83.5134 L929.213 83.5134 Q923.137 73.9938 920.099 64.7983 Q917.101 55.6027 917.101 46.5287 Q917.101 37.4952 920.099 28.3401 Q923.096 19.1851 929.213 9.62495 L935.695 9.62495 Z\" fill=\"#000000\" fill-rule=\"evenodd\" fill-opacity=\"1\" /><path clip-path=\"url(#clip950)\" d=\"M957.529 14.324 L957.529 27.2059 L972.882 27.2059 L972.882 32.9987 L957.529 32.9987 L957.529 57.6282 Q957.529 63.1779 959.028 64.7578 Q960.567 66.3376 965.226 66.3376 L972.882 66.3376 L972.882 72.576 L965.226 72.576 Q956.597 72.576 953.316 69.3758 Q950.035 66.1351 950.035 57.6282 L950.035 32.9987 L944.566 32.9987 L944.566 27.2059 L950.035 27.2059 L950.035 14.324 L957.529 14.324 Z\" fill=\"#000000\" fill-rule=\"evenodd\" fill-opacity=\"1\" /><path clip-path=\"url(#clip950)\" d=\"M981.51 9.62495 L987.992 9.62495 Q994.068 19.1851 997.066 28.3401 Q1000.1 37.4952 1000.1 46.5287 Q1000.1 55.6027 997.066 64.7983 Q994.068 73.9938 987.992 83.5134 L981.51 83.5134 Q986.898 74.2369 989.531 65.0818 Q992.205 55.8863 992.205 46.5287 Q992.205 37.1711 989.531 28.0566 Q986.898 18.942 981.51 9.62495 Z\" fill=\"#000000\" fill-rule=\"evenodd\" fill-opacity=\"1\" /><polyline clip-path=\"url(#clip952)\" style=\"stroke:#009af9; stroke-linecap:butt; stroke-linejoin:round; stroke-width:4; stroke-opacity:1; fill:none\" points=\"\n",
       "  180.735,167.351 284.179,167.351 387.623,167.351 491.067,167.351 594.511,167.351 697.955,167.351 801.399,167.351 904.843,551.903 1008.29,782.635 1111.73,921.074 \n",
       "  1215.18,1004.14 1318.62,1053.97 \n",
       "  \"/>\n",
       "</svg>\n"
      ]
     },
     "execution_count": 918,
     "metadata": {},
     "output_type": "execute_result"
    }
   ],
   "source": [
    "#Precalculation of the function a := (1-λ)^{tθ(t)}, \n",
    "#useful for later (the function a appears\n",
    "#  in the inferred time factor node)\n",
    "\n",
    "a = Dict(zip(-T-2:T+1,[ t<=0 ? 1 : (1-λ)^t for t = -T-2:T+1]));\n",
    "μold = copy(μ);\n",
    "plot(LinRange(-T-2,T+1,2T+4),[a[t] for t=-T-2:T+1],size=(350,300),legend=false,title=\"Value of a(t)\")"
   ]
  },
  {
   "cell_type": "code",
   "execution_count": 919,
   "id": "labeled-generator",
   "metadata": {},
   "outputs": [],
   "source": [
    "ν = OffsetArrays.OffsetArray(zeros(T+2,T+2,T+2,3),-1,-1,-1,-1);\n",
    "neighbours = rand(1:N,d-1);"
   ]
  },
  {
   "cell_type": "code",
   "execution_count": null,
   "id": "musical-still",
   "metadata": {},
   "outputs": [],
   "source": [
    "tot_iterations = 50000\n",
    "for iterations = 1:tot_iterations\n",
    "    # Extraction of disorder: state of individual i: xi0, delays: sij and sji\n",
    "\n",
    "    xi0,sij,sji = rand_disorder(γ,λ)\n",
    "\n",
    "    # Initialization of ν=0\n",
    "    ν = OffsetArrays.OffsetArray(zeros(T+2,T+2,T+2,3),-1,-1,-1,-1)\n",
    "\n",
    "    #Extraction of d-1 μ's from population\n",
    "    neighbours = rand(1:N,d-1)\n",
    "\n",
    "    #Beginning of calculations: we start by calculating the ν: \n",
    "    calculate_ν!(ν,μ,neighbours,xi0,T)\n",
    "    \n",
    "    # Now we use the ν vector just calculated to extract the new μ.\n",
    "    # We extract a population index that we call \"l\".\n",
    "    # We overwrite the μ in postition μ[l,:,:,:,:]\n",
    "    l = rand(1:N);\n",
    "\n",
    "    # First we calculate and store the cumulated of ν with respect to \n",
    "    # planted time, i.e. the third argument. We call Σ this cumulated \n",
    "    Σ = cumsum(ν,dims=3)\n",
    "    update_μ!(μ,ν,Σ,l,sij,sji,T)     \n",
    "end\n",
    "\n",
    "#p1=plot(reshape(sum(μ,dims=1) ./ N,864))\n",
    "#p1=plot!(reshape(sum(μold,dims=1) ./ N,864))\n",
    "#μold = copy(μ);\n",
    "#plot(p1)"
   ]
  },
  {
   "cell_type": "raw",
   "id": "1223851b-0b0b-47e5-abf0-1ac1cfdbdc0c",
   "metadata": {},
   "source": [
    "plot(reshape(ν,5184))"
   ]
  },
  {
   "cell_type": "markdown",
   "id": "requested-tackle",
   "metadata": {},
   "source": [
    "Once the convergence has been studied we plot the heatmaps of the messages"
   ]
  },
  {
   "cell_type": "raw",
   "id": "31b51cc2-cee5-4415-ab16-a5d9bd7380bb",
   "metadata": {},
   "source": [
    "l = 121\n",
    "pl1 = heatmap(reshape(μ[l,:,0,:,0] ./ N,T+2,T+2))\n",
    "pl2 = heatmap(reshape(μ[l,:,1,:,0] ./ N,T+2,T+2))\n",
    "pl3 = heatmap(reshape(μ[l,:,0,:,1] ./ N,T+2,T+2))\n",
    "pl4 = heatmap(reshape(μ[l,:,1,:,1] ./ N,T+2,T+2))\n",
    "pl5 = heatmap(reshape(μ[l,:,0,:,2] ./ N,T+2,T+2))\n",
    "pl6 = heatmap(reshape(μ[l,:,1,:,2] ./ N,T+2,T+2))\n",
    "\n",
    "plot(pl1,pl2,pl3,pl4,pl5,pl6,layout = (3,2),size = (800,800))"
   ]
  },
  {
   "cell_type": "code",
   "execution_count": null,
   "id": "signal-champion",
   "metadata": {},
   "outputs": [],
   "source": [
    "pl1 = heatmap(reshape(sum(μ,dims=1)[:,:,0,:,0] ./ N,T+2,T+2))\n",
    "pl2 = heatmap(reshape(sum(μ,dims=1)[:,:,1,:,0] ./ N,T+2,T+2))\n",
    "pl3 = heatmap(reshape(sum(μ,dims=1)[:,:,0,:,1] ./ N,T+2,T+2))\n",
    "pl4 = heatmap(reshape(sum(μ,dims=1)[:,:,1,:,1] ./ N,T+2,T+2))\n",
    "pl5 = heatmap(reshape(sum(μ,dims=1)[:,:,0,:,2] ./ N,T+2,T+2))\n",
    "pl6 = heatmap(reshape(sum(μ,dims=1)[:,:,1,:,2] ./ N,T+2,T+2))\n",
    "\n",
    "plot(pl1,pl2,pl3,pl4,pl5,pl6,layout = (3,2),size = (800,800))"
   ]
  },
  {
   "cell_type": "code",
   "execution_count": null,
   "id": "1f604e5e-6660-45c9-b12e-05ed28d088c9",
   "metadata": {},
   "outputs": [],
   "source": [
    "sum(ν[0,0,:,2]) "
   ]
  },
  {
   "cell_type": "code",
   "execution_count": null,
   "id": "5e71450d-9054-4838-a7b8-741ab75e1846",
   "metadata": {},
   "outputs": [],
   "source": [
    "sum(μ[:,0,1,0,1])"
   ]
  },
  {
   "cell_type": "markdown",
   "id": "inside-three",
   "metadata": {},
   "source": [
    "# From messages to marginals"
   ]
  },
  {
   "cell_type": "code",
   "execution_count": null,
   "id": "radio-agenda",
   "metadata": {},
   "outputs": [],
   "source": [
    "p = OffsetArrays.OffsetArray(zeros(T+2,T+2,T+2),-1,-1,-1);\n",
    "marg = OffsetArrays.OffsetArray(zeros(N,T+2,T+2),0,-1,-1);\n",
    "max_count = 1000;"
   ]
  },
  {
   "cell_type": "code",
   "execution_count": null,
   "id": "proof-victorian",
   "metadata": {},
   "outputs": [],
   "source": [
    "# Now we take out converged population of μ and use it to extract marginals.\n",
    "# First we extract two ν's and then we combine it in order to obtain a marginal.\n",
    "# In order to extract a ν we have to extract d-1 μ's. Therefore we extract two groups of \n",
    "# d-1 μ's and from them we calculate the two ν's. We also have to extract disorder.\n",
    "for _ = 1:max_count\n",
    "    group1 = rand(1:N,d-1) #groups of neighbours \n",
    "    group2 = rand(1:N,d-1)\n",
    "    xi0,sij,sji = rand_disorder(γ,λ) #disorder\n",
    "    xj0 = Int(rand() < γ);\n",
    "    \n",
    "    ν1 = OffsetArrays.OffsetArray(zeros(T+2,T+2,T+2,3),-1,-1,-1,-1)\n",
    "    ν2 = OffsetArrays.OffsetArray(zeros(T+2,T+2,T+2,3),-1,-1,-1,-1)\n",
    "\n",
    "    calculate_ν!(ν1,μ,group1,xi0,T)\n",
    "    calculate_ν!(ν2,μ,group2,xj0,T)\n",
    "\n",
    "    #Once the ν are calculated we have to cumulate with respect the third argument\n",
    "    Σ = cumsum(ν2,dims=3)\n",
    "\n",
    "    for ti = 0:T+1\n",
    "        for τi = 0:T+1\n",
    "            for tj = 0:T+1\n",
    "                Γ = Σ[tj,ti,min(τi+sij-1,T+1),2]-Int(τi-sji>=0)*Σ[tj,ti,max(τi-sji,0),2]+Int(τi+sij<=T+1)*ν2[tj,ti,min(τi+sij,T+1),1]\n",
    "                   +Σ[tj,ti,T+1,0]-Σ[tj,ti,min(τi+sij,T+1),0]\n",
    "                p[ti,tj,τi] = ν1[ti,tj,τi,0]*Int(τi-sji-1>=0)*Σ[tj,ti,max(τi-sji-1,0),2] +\n",
    "                              ν1[ti,tj,τi,1]*Int(τi-sji>=0)*ν2[tj,ti,max(τi-sji,0),2] + ν1[ti,tj,τi,2]*Γ \n",
    "            end\n",
    "        end\n",
    "    end\n",
    "    l = rand(1:N)\n",
    "    marg[l,:,:] = sum(p,dims=2)\n",
    "    marg[l,:,:] ./= sum(marg[l,:,:]);\n",
    "end\n",
    "#heatmap(reshape((marg[l,:,:]),12,12),xlabel=\"planted\",ylabel=\"inferred\",title=\"One RANDOM marginal\")"
   ]
  },
  {
   "cell_type": "code",
   "execution_count": null,
   "id": "e399bbe2-1904-4595-b8f9-370e5be7d803",
   "metadata": {},
   "outputs": [],
   "source": [
    "heatmap(reshape((sum(marg,dims=1)./ max_count),T+2,T+2),c=[:white,:blue,:black],xlabel=\"planted\",ylabel=\"inferred\",title=\"Average marginal\")"
   ]
  },
  {
   "cell_type": "code",
   "execution_count": null,
   "id": "c114dd4a-fab0-4795-8227-4232e2f6e464",
   "metadata": {},
   "outputs": [],
   "source": []
  },
  {
   "cell_type": "code",
   "execution_count": null,
   "id": "ac2f648c-2619-411e-9ab6-daf264a949d9",
   "metadata": {},
   "outputs": [],
   "source": []
  },
  {
   "cell_type": "code",
   "execution_count": null,
   "id": "a922860d-2653-4a60-b953-8881128a7e50",
   "metadata": {},
   "outputs": [],
   "source": []
  },
  {
   "cell_type": "code",
   "execution_count": null,
   "id": "6c67c6df-6bc7-48b2-8c57-1a00a9262af0",
   "metadata": {},
   "outputs": [],
   "source": []
  }
 ],
 "metadata": {
  "kernelspec": {
   "display_name": "Julia 1.7.0-rc2",
   "language": "julia",
   "name": "julia-1.7"
  },
  "language_info": {
   "file_extension": ".jl",
   "mimetype": "application/julia",
   "name": "julia",
   "version": "1.7.0"
  }
 },
 "nbformat": 4,
 "nbformat_minor": 5
}
