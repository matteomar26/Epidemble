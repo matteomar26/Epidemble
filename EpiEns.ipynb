{
 "cells": [
  {
   "cell_type": "code",
   "execution_count": 1,
   "id": "individual-thread",
   "metadata": {},
   "outputs": [],
   "source": [
    "# Dubbi:\n",
    "#1 come mai le chiavi di a sembrano random?\n",
    "#2 come faccio a non fare re-inserimento ??"
   ]
  },
  {
   "cell_type": "code",
   "execution_count": 56,
   "id": "sunset-summer",
   "metadata": {},
   "outputs": [
    {
     "data": {
      "text/plain": [
       "OffsetArrays.OffsetArray"
      ]
     },
     "execution_count": 56,
     "metadata": {},
     "output_type": "execute_result"
    }
   ],
   "source": [
    "import OffsetArrays"
   ]
  },
  {
   "cell_type": "code",
   "execution_count": 51,
   "id": "prescription-vault",
   "metadata": {},
   "outputs": [],
   "source": [
    "# S=0   I=1\n",
    "# The times go from ti = 0 to ti=T+1\n",
    "# when ti=0 it means that i is the zero patient\n",
    "# when ti=T+1 it means that i is never infected\n",
    "\n",
    "λ = 0.2 #infection rate\n",
    "d = 5 # degree (fixed for now) \n",
    "T = 20 # discrete time\n",
    "γ = 0.1 # autoinfection probability\n",
    "N = 1000; #population size"
   ]
  },
  {
   "cell_type": "code",
   "execution_count": 63,
   "id": "physical-discovery",
   "metadata": {},
   "outputs": [],
   "source": [
    "# Creation of the population\n",
    "# we create μ as the set of all the N functions\n",
    "# μ[k,ti,ck,τi,σk] is the value taken by the\n",
    "# function μk with arguments ti,ck,τi,σk\n",
    "# Using OffsetArrays we managed to keep notation \n",
    "# coherent with the notes: \n",
    "\n",
    "# i=1,...,N, \n",
    "# ti=0,...,T+1 \n",
    "# c = 0,1\n",
    "# σ=0,1,2\n",
    "\n",
    "# The same is done for the ν function later\n",
    "\n",
    "μ = OffsetArrays.OffsetArray(zeros(N,T+2,2,T+2,3),0,-1,-1,-1,-1);"
   ]
  },
  {
   "cell_type": "code",
   "execution_count": 64,
   "id": "geological-float",
   "metadata": {},
   "outputs": [],
   "source": [
    "#Precalculation of the function a := (1-λ)^{tθ(t)}, \n",
    "#useful for later (the function a appears\n",
    "#  in the inferred time factor node)\n",
    "\n",
    "a = Dict(zip(-T-2:T+1,[ t<=0 ? 1 : (1-λ)^t for t = -T-2:T+1]));"
   ]
  },
  {
   "cell_type": "code",
   "execution_count": 81,
   "id": "potential-village",
   "metadata": {},
   "outputs": [],
   "source": [
    "# Extraction of disorder: \n",
    "# state of individual i: xi0\n",
    "# delays: sij and sji\n",
    "\n",
    "sij = floor(Int,log(rand())/log(1-λ)) + 1\n",
    "sji = floor(Int,log(rand())/log(1-λ)) + 1\n",
    "xi0 = Int(rand() < γ);"
   ]
  },
  {
   "cell_type": "code",
   "execution_count": 82,
   "id": "extended-insider",
   "metadata": {},
   "outputs": [],
   "source": [
    "# Initialization of ν=0\n",
    "\n",
    "ν = OffsetArrays.OffsetArray(zeros(T+2,T+2,T+2,3),-1,-1,-1,-1)\n",
    "\n",
    "#Extraction of d-1 μ's from population\n",
    "neighbours = rand(1:N,d-1)\n",
    "# Extraction of the destination node, the dth node\n",
    "j = rand(1:N,1);"
   ]
  },
  {
   "cell_type": "code",
   "execution_count": 83,
   "id": "excited-childhood",
   "metadata": {},
   "outputs": [],
   "source": [
    "#Beginning of calculations:\n",
    "# we start by calculating the ν:  \n",
    "# it depends on the value of xi0\n",
    "\n",
    "if xi0 == 0\n",
    "    for τi = 0:T+1\n",
    "        for ti = 0:T+1\n",
    "            #first we check consistency between\n",
    "            # the planted time τi and the inferred \n",
    "            #time ti by checking the observation constraint            \n",
    "            if ((ti==T+1)&&(τi<=T)) || ((ti<=T)&&(τi==T+1))  #if the observation is NOT satisfied..\n",
    "                continue  # ν = 0\n",
    "            end\n",
    "            #Since they both depend on ti only,\n",
    "            # we precaclulate the prior seed probability\n",
    "            # of the individual and the value of phi function \n",
    "            # which is 1 if 0<ti<T+1 and 0 if ti=0,T+1\n",
    "            seed = (ti==0 ? γ : (1-γ) )\n",
    "            phi = (ti==0 || ti==T+1) ? 0 : 1\n",
    "            #now we calculate the four products over\n",
    "            # μ functions that we need to put in the\n",
    "            # expression of ν. We call them m1,..,m4\n",
    "            m1, m2, m3, m4 = ones(4)\n",
    "            # we initialize the m's to one and then we \n",
    "            # loop a product over neighbours\n",
    "            for k in neighbours \n",
    "                m1 *= sum(μ[k,ti,1,τi,1:2])\n",
    "                m2 *= sum(μ[k,ti,0,τi,1:2])\n",
    "                m3 *= sum(μ[k,ti,1,τi,2])\n",
    "                m4 *= sum(μ[k,ti,0,τi,2])\n",
    "            end\n",
    "            #Now we have everything to calculate ν\n",
    "            for tj=0:T+1                \n",
    "                ν[ti,tj,τi,1] = seed * (a[ti-tj-1] * m1 - phi * a[ti-tj] * m2)\n",
    "                # We use the fact that ν for σ=2 is just ν at σ=1 plus a term\n",
    "                ν[ti,tj,τi,2] = ν[ti,tj,τi,1] + seed * (phi * a[ti-tj] * m4 - a[ti-tj-1] * m3)\n",
    "            end\n",
    "        end\n",
    "    end\n",
    "else\n",
    "    #We are now in the case in which the individual is \n",
    "    #the zero patient. In this case the computation of \n",
    "    # the ν function is a little bit different than before\n",
    "    # so we separated the cases\n",
    "    \n",
    "    for τi = 0:T+1\n",
    "        for ti = 0:T+1\n",
    "            if ((ti==T+1)&&(τi<=T)) || ((ti<=T)&&(τi==T+1))  #if the observation is NOT satisfied\n",
    "                continue\n",
    "            end\n",
    "            #we can calculate ν now because it is constant\n",
    "            # in σ and is nonzero only if tj=0\n",
    "            \n",
    "            #As before we pre-calculate ti-dependent quantities \n",
    "            seed = (ti==0 ? γ : (1-γ) )\n",
    "            phi = (ti==0 || ti==T+1) ? 0 : 1\n",
    "            # We perform the product over neighbours\n",
    "            m1, m2 = ones(2)\n",
    "            for k in neighbours                \n",
    "                m1 *= sum(μ[k,ti,1,τi,:])\n",
    "                m2 *= sum(μ[k,ti,0,τi,:])\n",
    "            end\n",
    "            #We calculate ν in the zero patient case\n",
    "            ν[ti,0,τi,:] .= seed * (a[ti-1] * m1 - phi * a[ti] * m2)\n",
    "        end\n",
    "    end\n",
    "end                            "
   ]
  },
  {
   "cell_type": "code",
   "execution_count": 19,
   "id": "straight-brazilian",
   "metadata": {},
   "outputs": [
    {
     "data": {
      "text/plain": [
       "4-element Vector{Float64}:\n",
       " 1.0\n",
       " 1.0\n",
       " 1.0\n",
       " 1.0"
      ]
     },
     "execution_count": 19,
     "metadata": {},
     "output_type": "execute_result"
    }
   ],
   "source": []
  },
  {
   "cell_type": "code",
   "execution_count": 31,
   "id": "derived-conversion",
   "metadata": {},
   "outputs": [
    {
     "data": {
      "text/plain": [
       "0"
      ]
     },
     "execution_count": 31,
     "metadata": {},
     "output_type": "execute_result"
    }
   ],
   "source": [
    "(ti==0 || ti==T+1) ? 0 : 1"
   ]
  },
  {
   "cell_type": "code",
   "execution_count": 32,
   "id": "working-anatomy",
   "metadata": {},
   "outputs": [
    {
     "data": {
      "text/plain": [
       "1"
      ]
     },
     "execution_count": 32,
     "metadata": {},
     "output_type": "execute_result"
    }
   ],
   "source": [
    "a[-3]"
   ]
  },
  {
   "cell_type": "code",
   "execution_count": 35,
   "id": "massive-transcription",
   "metadata": {},
   "outputs": [
    {
     "name": "stdout",
     "output_type": "stream",
     "text": [
      "ciao"
     ]
    }
   ],
   "source": [
    "if true\n",
    "    print(\"ciao\")\n",
    "else \n",
    "    print(\"miao\")\n",
    "end"
   ]
  },
  {
   "cell_type": "code",
   "execution_count": 23,
   "id": "affiliated-spectrum",
   "metadata": {},
   "outputs": [
    {
     "data": {
      "text/plain": [
       "1.0"
      ]
     },
     "execution_count": 23,
     "metadata": {},
     "output_type": "execute_result"
    }
   ],
   "source": [
    "m4"
   ]
  },
  {
   "cell_type": "code",
   "execution_count": 38,
   "id": "extraordinary-tractor",
   "metadata": {},
   "outputs": [
    {
     "ename": "LoadError",
     "evalue": "MethodError: no method matching +(::UnitRange{Int64}, ::Int64)\nFor element-wise addition, use broadcasting with dot syntax: array .+ scalar\n\u001b[0mClosest candidates are:\n\u001b[0m  +(::Any, ::Any, \u001b[91m::Any\u001b[39m, \u001b[91m::Any...\u001b[39m) at ~/Julia1.7/julia-1.7.0-rc2/share/julia/base/operators.jl:655\n\u001b[0m  +(\u001b[91m::T\u001b[39m, ::T) where T<:Union{Int128, Int16, Int32, Int64, Int8, UInt128, UInt16, UInt32, UInt64, UInt8} at ~/Julia1.7/julia-1.7.0-rc2/share/julia/base/int.jl:87\n\u001b[0m  +(\u001b[91m::Rational\u001b[39m, ::Integer) at ~/Julia1.7/julia-1.7.0-rc2/share/julia/base/rational.jl:311\n\u001b[0m  ...",
     "output_type": "error",
     "traceback": [
      "MethodError: no method matching +(::UnitRange{Int64}, ::Int64)\nFor element-wise addition, use broadcasting with dot syntax: array .+ scalar\n\u001b[0mClosest candidates are:\n\u001b[0m  +(::Any, ::Any, \u001b[91m::Any\u001b[39m, \u001b[91m::Any...\u001b[39m) at ~/Julia1.7/julia-1.7.0-rc2/share/julia/base/operators.jl:655\n\u001b[0m  +(\u001b[91m::T\u001b[39m, ::T) where T<:Union{Int128, Int16, Int32, Int64, Int8, UInt128, UInt16, UInt32, UInt64, UInt8} at ~/Julia1.7/julia-1.7.0-rc2/share/julia/base/int.jl:87\n\u001b[0m  +(\u001b[91m::Rational\u001b[39m, ::Integer) at ~/Julia1.7/julia-1.7.0-rc2/share/julia/base/rational.jl:311\n\u001b[0m  ...",
      "",
      "Stacktrace:",
      " [1] top-level scope",
      "   @ In[38]:1",
      " [2] eval",
      "   @ ./boot.jl:373 [inlined]",
      " [3] include_string(mapexpr::typeof(REPL.softscope), mod::Module, code::String, filename::String)",
      "   @ Base ./loading.jl:1196"
     ]
    }
   ],
   "source": [
    "(1:2) + 1"
   ]
  },
  {
   "cell_type": "code",
   "execution_count": null,
   "id": "included-collection",
   "metadata": {},
   "outputs": [],
   "source": []
  }
 ],
 "metadata": {
  "kernelspec": {
   "display_name": "Julia 1.7.0-rc2",
   "language": "julia",
   "name": "julia-1.7"
  },
  "language_info": {
   "file_extension": ".jl",
   "mimetype": "application/julia",
   "name": "julia",
   "version": "1.7.0"
  }
 },
 "nbformat": 4,
 "nbformat_minor": 5
}
