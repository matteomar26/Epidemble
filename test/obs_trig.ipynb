{
 "cells": [
  {
   "cell_type": "code",
   "execution_count": 41,
   "id": "vocal-sellers",
   "metadata": {},
   "outputs": [
    {
     "data": {
      "text/plain": [
       "avg_ninf (generic function with 1 method)"
      ]
     },
     "execution_count": 41,
     "metadata": {},
     "output_type": "execute_result"
    }
   ],
   "source": [
    "import OffsetArrays\n",
    "using Plots\n",
    "using Revise\n",
    "using StatsBase\n",
    "using ProgressMeter\n",
    "using SparseArrays, LinearAlgebra, IndexedGraphs, Graphs\n",
    "using Distributions\n",
    "srcpath = \"../src\"\n",
    "include(\"$srcpath/bp.jl\")\n",
    "include(\"$srcpath/post_infer.jl\")\n",
    "include(\"$srcpath/observables.jl\")"
   ]
  },
  {
   "cell_type": "code",
   "execution_count": 2,
   "id": "3471818e-4909-4cbb-9a0e-60757effd2c7",
   "metadata": {},
   "outputs": [
    {
     "data": {
      "text/plain": [
       "δsympt (generic function with 1 method)"
      ]
     },
     "execution_count": 2,
     "metadata": {},
     "output_type": "execute_result"
    }
   ],
   "source": [
    "function δλ(infer_lam)\n",
    "    if infer_lam\n",
    "        return 0.001im\n",
    "    else\n",
    "        return 0.0\n",
    "    end\n",
    "end\n",
    "function δsympt(infer_sympt)\n",
    "    if infer_sympt\n",
    "        return 0.001im\n",
    "    else\n",
    "        return 0.0\n",
    "    end\n",
    "end"
   ]
  },
  {
   "cell_type": "code",
   "execution_count": 62,
   "id": "bored-saudi",
   "metadata": {},
   "outputs": [],
   "source": [
    "# S=0   I=1\n",
    "# The times go from ti = 0 to ti=T+1\n",
    "# when ti=0 it means that i is the zero patient\n",
    "# when ti=T+1 it means that i is never infected\n",
    "\n",
    "λp = 0.25 # planted infection rate\n",
    "λi = 0.25 #inferred infection rate\n",
    "\n",
    "infer_lam = false #set it true if you want to infere the prior parameter λ\n",
    "infer_gam = false #set it true if you want to infere the prior parameter γ\n",
    "\n",
    "\n",
    "T = 8 # discrete time\n",
    "\n",
    "γp = 0.03 # planted autoinfection probability\n",
    "γi = 0.03 # inferred autoinfection probability\n",
    "\n",
    "N = 300000; #population size\n",
    "dilution = 0.0\n",
    "fr = 0.0;\n"
   ]
  },
  {
   "cell_type": "markdown",
   "id": "through-scientist",
   "metadata": {
    "tags": []
   },
   "source": [
    "# Comparison trigger VS random"
   ]
  },
  {
   "cell_type": "code",
   "execution_count": null,
   "id": "a9d4e8ca-a7b3-4a7d-a3ea-51de63b3a30b",
   "metadata": {},
   "outputs": [],
   "source": [
    "#right trigger\n",
    "degree_dist = Poisson(3)\n",
    "M = ParametricModel(N = N, T = T, γp = γp, λp = λp, γi=γi, λi=λi + δλ(infer_lam), fr=fr, distribution=degree_dist, field=false, p_test_pla=0.04,p_sympt_pla=0.5,p_sympt_inf=0.5 ) ;\n",
    "pop_dynamics(M, tot_iterations = 80, eta = 0.1, infer_lam=infer_lam, infer_gam=infer_gam)\n",
    "marg = M.belief |> real;\n",
    "marg2Dt = reshape(sum(marg,dims=3) ./ N, T+2,T+2)\n",
    "ensAUC = avgAUC(marg,M.obs_list,count_obs=true); #set false to see the AUC only on NON observed indiv."
   ]
  },
  {
   "cell_type": "code",
   "execution_count": null,
   "id": "8aeabcb8-7972-4b01-a068-dd7fb53fefdd",
   "metadata": {},
   "outputs": [],
   "source": [
    "#random assumption\n",
    "M = ParametricModel(N = N, T = T, γp = γp, λp = λp, γi=γi, λi=λi + δλ(infer_lam), fr=fr, distribution=degree_dist, field=false, p_test_pla=0.04,p_sympt_pla=0.5,p_sympt_inf=0.0 ) ;\n",
    "pop_dynamics(M, tot_iterations = 80, eta = 0.1, infer_lam=infer_lam, infer_gam=infer_gam)\n",
    "marg1 = M.belief |> real;\n",
    "marg2D = reshape(sum(marg1,dims=3) ./ N, T+2,T+2)\n",
    "ensAUC1 = avgAUC(marg1,M.obs_list,count_obs=true); #set false to see the AUC only on NON observed indiv."
   ]
  },
  {
   "cell_type": "code",
   "execution_count": null,
   "id": "b08073a1-d980-4cbd-acd4-3b681aaabc37",
   "metadata": {},
   "outputs": [],
   "source": [
    "#inferring trigger\n",
    "infer_sympt = true\n",
    "degree_dist = Poisson(3)\n",
    "M = ParametricModel(N = N, T = T, γp = γp, λp = λp, γi=γi, λi=λi + δλ(infer_lam), fr=fr, distribution=degree_dist, field=false, p_test_pla=0.04,p_sympt_pla=0.5,p_sympt_inf=0.1 + δsympt(infer_sympt) ) ;\n",
    "F,tot_it = pop_dynamics(M, tot_iterations = 150, eta = 0.03, infer_lam=infer_lam, infer_gam=infer_gam, infer_sympt=infer_sympt,nonlearn_iters=10)\n",
    "marginf = M.belief |> real;\n",
    "marg2Dinf = reshape(sum(marginf,dims=3) ./ N, T+2,T+2)\n",
    "ensAUCinf = avgAUC(marginf,M.obs_list,count_obs=true); #set false to see the AUC only on NON observed indiv."
   ]
  },
  {
   "cell_type": "code",
   "execution_count": null,
   "id": "61aaebf3-7965-4ce2-82b7-6536b0fbbf6e",
   "metadata": {},
   "outputs": [],
   "source": [
    "F, tot_it"
   ]
  },
  {
   "cell_type": "code",
   "execution_count": null,
   "id": "99c141cb-65e3-43c4-950b-7444e41d9e19",
   "metadata": {},
   "outputs": [],
   "source": [
    "M.p_sympt_inf"
   ]
  },
  {
   "cell_type": "code",
   "execution_count": null,
   "id": "85ffb54c-2f48-43b7-80af-b5551f2f19ac",
   "metadata": {},
   "outputs": [],
   "source": [
    "\n",
    "p1 = plot(ensAUC,label=\"Correct triggering\",marker=:c)\n",
    "p1 = plot!(ensAUC1,label=\"Random assumption\",marker=:square,ylabel=\"AUC\",linewidth=3)\n",
    "p1 = plot!(ensAUCinf,label=\"Inferred triggering\",marker=:utriangle)\n",
    "\n",
    "p0 = plot(cumsum(sum(marg2Dt,dims=2)[1:end-1],dims=1),marker=:circle,legend=:topleft,label=\"Correct triggering\",ylabel=\"fraction of infected\")\n",
    "p0 = plot!(cumsum(sum(marg2D,dims=2)[1:end-1],dims=1),marker=:utriangle,label=\"Random assumption\")\n",
    "p0 = plot!(cumsum(sum(marg2Dinf,dims=2)[1:end-1],dims=1),marker=:utriangle,label=\"Inferred triggering\")\n",
    "p0 = plot!(cumsum(sum(marg2D,dims=1)'[1:end-1],dims=1),c=:black,linestyle=:dot,label=\"true\")\n",
    "\n",
    "plot(p0,p1,size=(600,300),linewidth=3,xlabel=\"time\")\n",
    "savefig(\"./obs_trig.pdf\")"
   ]
  },
  {
   "cell_type": "code",
   "execution_count": 10,
   "id": "8441191f-8c2e-48d4-93d3-66d4388592ea",
   "metadata": {},
   "outputs": [],
   "source": []
  },
  {
   "cell_type": "code",
   "execution_count": null,
   "id": "fc7d2e5b-0bf6-412d-8a5f-12088fe7257c",
   "metadata": {},
   "outputs": [],
   "source": []
  }
 ],
 "metadata": {
  "kernelspec": {
   "display_name": "Julia 1.7.0-rc2",
   "language": "julia",
   "name": "julia-1.7"
  },
  "language_info": {
   "file_extension": ".jl",
   "mimetype": "application/julia",
   "name": "julia",
   "version": "1.7.0"
  }
 },
 "nbformat": 4,
 "nbformat_minor": 5
}
