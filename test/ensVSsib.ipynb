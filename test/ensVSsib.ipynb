{
 "cells": [
  {
   "cell_type": "code",
   "execution_count": 2,
   "id": "vocal-sellers",
   "metadata": {},
   "outputs": [
    {
     "data": {
      "text/plain": [
       "makeDistrib (generic function with 1 method)"
      ]
     },
     "execution_count": 2,
     "metadata": {},
     "output_type": "execute_result"
    }
   ],
   "source": [
    "import OffsetArrays\n",
    "using Plots\n",
    "using Revise\n",
    "using StatsBase\n",
    "using ProgressMeter\n",
    "using SparseArrays, LinearAlgebra, IndexedGraphs, Graphs\n",
    "using Distributions\n",
    "srcpath = \"../src\"\n",
    "include(\"$srcpath/functions.jl\")"
   ]
  },
  {
   "cell_type": "code",
   "execution_count": 3,
   "id": "bored-saudi",
   "metadata": {},
   "outputs": [],
   "source": [
    "# S=0   I=1\n",
    "# The times go from ti = 0 to ti=T+1\n",
    "# when ti=0 it means that i is the zero patient\n",
    "# when ti=T+1 it means that i is never infected\n",
    "\n",
    "λp = 0.3 # planted infection rate\n",
    "λi = 0.6 #inferred infection rate\n",
    "\n",
    "degreetype = \"regular\";\n",
    "degreetype = \"poisson\";\n",
    "#degreetype = \"ft4\";\n",
    "\n",
    "d = 3 # degree \n",
    "T = 8 # discrete time\n",
    "\n",
    "γp = 0.03 # planted autoinfection probability\n",
    "γi = 0.03 # inferred autoinfection probability\n",
    "\n",
    "N = 10000; #population size\n",
    "\n",
    "dilution = 0.5\n",
    "fr = 0.0;\n"
   ]
  },
  {
   "cell_type": "code",
   "execution_count": 4,
   "id": "dc1781d6-451a-4781-89b2-2e2dd2a846fc",
   "metadata": {},
   "outputs": [
    {
     "data": {
      "text/plain": [
       "Poisson{Float64}(λ=3.0)"
      ]
     },
     "execution_count": 4,
     "metadata": {},
     "output_type": "execute_result"
    }
   ],
   "source": [
    "degree_dist = makeDistrib(degreetype,d)"
   ]
  },
  {
   "cell_type": "markdown",
   "id": "through-scientist",
   "metadata": {},
   "source": [
    "# Population dynamics for the messages"
   ]
  },
  {
   "cell_type": "code",
   "execution_count": null,
   "id": "6ce6df84-c312-496e-9bfb-8ccbfe54f6d5",
   "metadata": {
    "tags": []
   },
   "outputs": [],
   "source": [
    "marg = pop_dynamics(N, T, λp, λi, γp, γi, degree_dist, tot_iterations = 30, fr = fr, dilution = dilution);\n",
    "marg2D = reshape((sum(marg,dims=1)./ N),T+2,T+2);\n",
    "ensAUC = avgAUC(marg);"
   ]
  },
  {
   "cell_type": "code",
   "execution_count": null,
   "id": "554d0c3b-fb30-414e-9ea8-f1ace4ba55e5",
   "metadata": {},
   "outputs": [],
   "source": [
    "plot(0:T,ensAUC,label=\"AUC\")\n",
    "#scatter!(0:T,L1bis(marg),label=\"L1bis\")\n",
    "plot!(0:T,avgOverlap(marg),label=\"overlap\")\n",
    "plot!(0:T,L1(marg2D),label=\"L1\")\n",
    "plot!(0:T, 1 .- MSE(marg),label=\"MSE\",xlabel=\"time\")"
   ]
  },
  {
   "cell_type": "code",
   "execution_count": null,
   "id": "79d9e7db-dc87-403c-b8c9-2d5ab97bc754",
   "metadata": {},
   "outputs": [],
   "source": [
    "p1 = heatmap(reshape((marg[rand(1:N),:,:]),T+2,T+2),title=\"One 2D marginal\")\n",
    "p2 = plot(ensAUC,label=\"ens_AUC\",marker=:c,legend=false,title=\"The AUC\")\n",
    "pheat = heatmap((marg2D),c=[:white,:blue,:black],xlabel=\"planted\",ylabel=\"inferred\",title=\"Average 2D marginal\")\n",
    "p0 = plot(cumsum(sum(marg2D,dims=1)'[1:end-1],dims=1),marker=:square,label=\"ensemble planted_marg\",title=\"1D marginals\")\n",
    "p0 = plot!(cumsum(sum(marg2D,dims=2)[1:end-1],dims=1),marker=:utriangle,label=\"ensemble inferred_marg\",legend=:bottomright)\n",
    "plot(p1,pheat,p0,p2,size=(600,600))"
   ]
  },
  {
   "cell_type": "code",
   "execution_count": null,
   "id": "741f39f9-dcb8-4d10-963f-39913d23600e",
   "metadata": {},
   "outputs": [],
   "source": [
    "sum(sum(marg2D,dims=2)[1:end-1])"
   ]
  },
  {
   "cell_type": "markdown",
   "id": "1269516f-b869-4bc7-9372-9900f29b0c92",
   "metadata": {},
   "source": [
    "# Single Instance Inferernce with Sib"
   ]
  },
  {
   "cell_type": "markdown",
   "id": "edb12caf-41b3-49a8-96f6-669151a6e25a",
   "metadata": {
    "tags": []
   },
   "source": [
    "## No disorder\n",
    "In this regime we don't have disorder, in the sense that the planted distribution is a delta. The planted observation is \"all infected\""
   ]
  },
  {
   "cell_type": "raw",
   "id": "1dd3dce8-aca4-4a3b-acd4-927d9826dd09",
   "metadata": {
    "jupyter": {
     "source_hidden": true
    },
    "tags": []
   },
   "source": [
    "include(\"./src/BP.jl\")\n",
    "\n",
    "Ngraph = 10 # size of the single instance graph\n",
    "\n",
    "G = random_regular_graph(Ngraph,d) |> IndexedBiDiGraph #the graph\n",
    "\n",
    "# observations set in the form of \n",
    "# [(individual,state,observation time, false_rate of the test)]\n",
    "# where state ∈ {0,1} respectively for S and I\n",
    "# The reason why there is a T+1 is that sibyl starts from time 1 to time T. \n",
    "# Instead we go from time 0 to time T \n",
    "# I am not completely sure that it is correct to put here T+1 and later a T+2. Maybe is more complicated. \n",
    "O = [(i,1,T+1,1e-10) for i=1:Ngraph] \n",
    "\n",
    "#we now run the BP algorithm for the single instance defined above\n",
    "p_sib = sibyl(Ngraph, T+2, G, O, γi, λi; maxit = 40, tol = 1e-7);"
   ]
  },
  {
   "cell_type": "raw",
   "id": "babab08f-7852-44fe-a456-8c3ae76c2437",
   "metadata": {
    "jupyter": {
     "source_hidden": true
    },
    "tags": []
   },
   "source": [
    "# we plot the marginal distribution and also the ensemble results \n",
    "\n",
    "p0 = plot(cumsum(sum(marg2D,dims=1)',dims=1),marker=:square,label=\"ensemble planted_marg\")\n",
    "p0 = plot!(cumsum(sum(marg2D,dims=2),dims=1),marker=:utriangle,label=\"ensemble inferred_marg\",legend=:bottomright)\n",
    "\n",
    "p0 = plot!(sum(p_sib,dims=1)'/ Ngraph,marker=:circle,label=\"single instance\")\n",
    "#p1 = plot!(cumsum(sum(marg2D,dims=2),dims=1),marker=:utriangle,label=\"ensemble inferred_marg\",legend=:topleft)\n",
    "plot(p0,size=(350,300),ylabel=\"cumulative\",)\n",
    "\n",
    "#savefig(\"comparison_marg.pdf\")"
   ]
  },
  {
   "cell_type": "markdown",
   "id": "e0bf80b8-0639-4f8f-a09b-c22e3ce3678d",
   "metadata": {},
   "source": [
    "## General framework with disorder\n",
    "Here the results of observations change because the parameter regime is non trivial. Therefore we need to sample a planted configuration, observe this configuration at final time and infere the single instance. We do this many times and we average so to compare with the ensemble results"
   ]
  },
  {
   "cell_type": "markdown",
   "id": "c39c3d1f-2224-4ca5-b32c-e821bd5d5cb4",
   "metadata": {},
   "source": [
    "### Check of the planted distribution\n",
    "Here we check with a sampler and with sibyl that the planted ensemble marginal is correct."
   ]
  },
  {
   "cell_type": "code",
   "execution_count": null,
   "id": "11e13638-5c16-422b-9248-f904f0a49368",
   "metadata": {},
   "outputs": [],
   "source": [
    "include(\"$srcpath/single_instance.jl\")"
   ]
  },
  {
   "cell_type": "code",
   "execution_count": null,
   "id": "642638ee-3675-47d4-a646-03f70c4e2968",
   "metadata": {},
   "outputs": [],
   "source": [
    "G = makeGraph(Ngraph,degree_dist)"
   ]
  },
  {
   "cell_type": "code",
   "execution_count": null,
   "id": "8dad7987-d4df-4e45-9550-536857e0d0f7",
   "metadata": {
    "tags": []
   },
   "outputs": [],
   "source": [
    "\n",
    "Ngraph = 30000 # size of the single instance graph\n",
    "x = zeros(Int,Ngraph, T + 1) # a single epidemic trajectory\n",
    "\n",
    "# First we initialize a single instance marginal y\n",
    "# which will be the average over graph and particles\n",
    "# and epidemic trajectory of the marginals\n",
    "y = zeros(T+1)\n",
    "yBPp = zero(y)\n",
    "# we average over totst iterations\n",
    "totst = 1\n",
    "@showprogress for st = 1:totst\n",
    "    # for every iteration we initialize a new graph\n",
    "    G = makeGraph(Ngraph,degree_dist)\n",
    "    # we sample an epidemic\n",
    "    sample!(x, G, λp, γp)\n",
    "    # we calculate the cumulative marginal (non-normalized)\n",
    "    # and we sum it to the average marginal\n",
    "    y .+= sum(x,dims=1)'\n",
    "    p_sib = sibyl(Ngraph, T+1, G, [], γp, λp; maxit = 40, tol = 1e-2);\n",
    "    avgmarg = sum(p_sib,dims=1)' ./ Ngraph\n",
    "    yBPp .+= avgmarg\n",
    "end\n",
    "#we normalize the average marginal\n",
    "y ./= (Ngraph * totst)\n",
    "yBPp ./=  totst;"
   ]
  },
  {
   "cell_type": "code",
   "execution_count": null,
   "id": "bf6f78ca-0ee5-44c3-b7c6-26adfc23b28c",
   "metadata": {},
   "outputs": [],
   "source": [
    "p0 = plot(y,c=:black,marker=:circle,label=\"single_inst sampled marginal\",title=\"γ=$γp, λ=$λp\")\n",
    "p0 = plot!(yBPp,c=:red,marker=:circle,label=\"single_inst BP planted marginal\")\n",
    "p0 = plot!(cumsum(sum(marg2D,dims=1)'[1:end-1],dims=1),c=:blue,marker=:square,size=(350,300),label=\"ensemble planted_marg\",legend=:topleft)"
   ]
  },
  {
   "cell_type": "markdown",
   "id": "7e2ec516-ebcb-4ba0-9f13-4091c6eee2b7",
   "metadata": {},
   "source": [
    "### Comparison between inference (sibyl) and ensemble results\n",
    "Here we check instead the results for the inferred marginal"
   ]
  },
  {
   "cell_type": "code",
   "execution_count": null,
   "id": "9029d3b5-af83-4298-8767-ec1032003a2f",
   "metadata": {
    "tags": []
   },
   "outputs": [],
   "source": [
    "yBP = zeros(T+1)\n",
    "yBPerr = zero(yBP)\n",
    "totst = 1\n",
    "@showprogress for st = 1:totst\n",
    "    # for every iteration we initialize a new graph\n",
    "    G = makeGraph(Ngraph,degree_dist)\n",
    "    # we sample an epidemic\n",
    "    sample!(x, G, λp, γp)\n",
    "    # observations set in the form of \n",
    "    # [(individual,state,observation time, false_rate of the test)]\n",
    "    # where state ∈ {0,1} respectively for S and I\n",
    "    # The reason why there is a T+1 is that sibyl starts from time 1 to time T. \n",
    "    # Instead the ensemble goes from time 0 to time T  \n",
    "    O = [(i,Bool(x[i,T+1]),T+1,1e-10) for i = 1:Int(round(Ngraph * (1 - dilution)))]\n",
    "    O = [rand() > fr ? (o[1],o[2],o[3],fr) : (o[1],!o[2],o[3],fr) for o in O]\n",
    "    #we now run the BP algorithm for the single instance defined above\n",
    "    p_sib = sibyl(Ngraph, T+1, G, O, γi, λi; maxit = 40, tol = 1e-2);\n",
    "    yBP .+= sum(p_sib,dims=1)'\n",
    "    yBPerr .+= sum(p_sib ,dims=1)' .^ 2\n",
    "end\n",
    "\n",
    "yBP ./= (Ngraph * totst);\n",
    "#yBPerr ./= (Ngraph^2 * totst)\n",
    "#yBPerr .= sqrt.(yBPerr .- yBP .^ 2) / sqrt(totst)\n"
   ]
  },
  {
   "cell_type": "code",
   "execution_count": null,
   "id": "61ea0d01-bab4-4bf4-be74-baa5d89a7f52",
   "metadata": {},
   "outputs": [],
   "source": [
    "p1 = plot(cumsum(sum(marg2D,dims=2),dims=1)[1:end-1],c=:blue,marker=:utriangle,label=\"ensemble inferred_marg\",legend=:bottomright)\n",
    "p1 = plot!(yBP,c=:black,marker=:circle,label=\"single instance BP inf marginal\")\n",
    "plot(p0,p1,size=(600,300),ylabel=\"cumulative\",legend=:topleft)\n",
    "#savefig(\"sibVSepid\")"
   ]
  },
  {
   "cell_type": "code",
   "execution_count": null,
   "id": "2798c2de-e76c-4830-ae38-52b8910640e8",
   "metadata": {},
   "outputs": [],
   "source": [
    "p2 = plot(yBP,c=:black,marker=:circle,label=\"single instance BP inf marginal\")\n",
    "p2 = plot!(yBPp,marker=:utriangle,label=\"single instance BP plant marginal\")\n",
    "p3 = plot(cumsum(sum(marg2D,dims=2),dims=1)[1:end-1],c=:black,marker=:utriangle,label=\"ensemble inferred_marg\",legend=:bottomright)\n",
    "p3 = plot!(cumsum(sum(marg2D,dims=1)'[1:end-1],dims=1),c=:blue,marker=:square,size=(350,300),label=\"ensemble planted_marg\",legend=:topleft)\n",
    "plot(p2,p3,ylim=(0,1))"
   ]
  },
  {
   "cell_type": "markdown",
   "id": "b2c0a9c8-36b6-4984-a477-2ee07a35d1b6",
   "metadata": {},
   "source": [
    "## 2D marginal comparison"
   ]
  },
  {
   "cell_type": "code",
   "execution_count": null,
   "id": "994a2b68-7e7b-46f3-a625-3638b6d2c8bb",
   "metadata": {},
   "outputs": [],
   "source": [
    "function pdf(cdf_sib)\n",
    "    N, T = size(cdf_sib) \n",
    "    p = zeros(N,T+1)\n",
    "    p[:,1] .= cdf_sib[:,1]\n",
    "    for t = 1:T-1\n",
    "        p[:,t+1] .= cdf_sib[:,t+1] .- cdf_sib[:,t]\n",
    "    end\n",
    "    p[:,T+1] .= 1 .- cdf_sib[:,T]\n",
    "    return p\n",
    "end"
   ]
  },
  {
   "cell_type": "code",
   "execution_count": null,
   "id": "63798f91-bd08-42fb-b29a-bdf7de237cd7",
   "metadata": {
    "tags": []
   },
   "outputs": [],
   "source": [
    "AUC = zeros(T+1)\n",
    "AUCerr = zeros(T+1)\n",
    "AUC =  zeros(T+1)\n",
    "sibylmarg2D = zeros(T+2,T+2)\n",
    "totst = 1\n",
    "@showprogress for st = 1:totst\n",
    "    G = makeGraph(Ngraph,degree_dist)\n",
    "    sample!(x, G, λp, γp)\n",
    "    O = [(i,Bool(x[i,T+1]),T+1,1e-10) for i = 1:Int(round(Ngraph * (1 - dilution)))]\n",
    "    O = [rand() > fr ? (o[1],o[2],o[3],fr) : (o[1],!o[2],o[3],fr) for o in O]\n",
    "    p_sib = sibyl(Ngraph, T+1, G, O, γi, λi; maxit = 40, tol = 1e-100);\n",
    "    sib_pdf = pdf(p_sib)\n",
    "    for t = 1:T+1\n",
    "        AUC[t] += AUROC(ROC(x[:,t], p_sib[:,t]))\n",
    "        AUCerr[t] += AUROC(ROC(x[:,t], p_sib[:,t]))^2\n",
    "    end\n",
    "    tau = T .- sum(x,dims=2) .+ 2; #set of planted times\n",
    "    for τ = 1:T+2\n",
    "        # We take the pdf only for individuals infected at time τ \n",
    "        sibylmarg2D[:,τ] .+= sum(sib_pdf .* (tau .== τ ),dims=1)' \n",
    "    end\n",
    "    sing_inst_marg = zeros(Ngraph, T+2, T+2)\n",
    "    for l = 1:Ngraph\n",
    "        sing_inst_marg[l,:,tau[l]] .= sib_pdf[l,:] \n",
    "    end\n",
    "    sing_inst_marg = OffsetArrays.OffsetArray(sing_inst_marg,0,-1,-1);\n",
    "    #AUCens = avgAUC(sing_inst_marg)\n",
    "end\n",
    "AUC ./= totst \n",
    "AUCerr .= sqrt.((AUCerr./ totst  .- (AUC .^ 2))./ totst ) \n",
    "sibylmarg2D ./= (Ngraph*totst);\n",
    "\n"
   ]
  },
  {
   "cell_type": "code",
   "execution_count": null,
   "id": "855be661-6cd4-47c4-9888-313c13d34830",
   "metadata": {},
   "outputs": [],
   "source": [
    "plot_sib = heatmap(sibylmarg2D,c=[:white,:blue,:black],xlabel=\"τ\",ylabel=\"t\",title=\"sibyl\") \n",
    "plot_ens = heatmap(marg2D,c=[:white,:blue,:black],xlabel=\"τ\",ylabel=\"t\",title=\"Ensemble\")\n",
    "pAUC = plot(ensAUC,label=\"ensemble AUC\")\n",
    "#pAUC = plot(avgAUC(marg),label=\"ensemble AUC\")\n",
    "pAUC = plot!(AUC,label=\"single_inst AUC\",legend=:topleft,yerr=AUCerr)\n",
    "plot(plot_ens,plot_sib,pAUC,size = (600,450))\n",
    "#savefig(\"ensemble_VS_sibyl\")"
   ]
  },
  {
   "cell_type": "markdown",
   "id": "441691c6-78cd-495e-bc04-525a2117c3a9",
   "metadata": {},
   "source": [
    "# A study on variation of $\\lambda$"
   ]
  },
  {
   "cell_type": "raw",
   "id": "3a8e9a3f-4f01-41d0-aeb9-ebdd4df9d642",
   "metadata": {
    "tags": []
   },
   "source": [
    "λRange = LinRange(0.01,0.4,41)\n",
    "\n",
    "AUCsib = zeros(length(λRange),9)\n",
    "diagonal = zeros(length(λRange))\n",
    "for lamCount = 1:length(λRange)\n",
    "    λi = λp = λRange[lamCount]\n",
    "    AUC = zeros(T+1)\n",
    "    AUCerr = zeros(T+1)\n",
    "    AUCens = zeros(T+1)\n",
    "    sibylmarg2D = zeros(T+2,T+2)\n",
    "\n",
    "    totst = 1\n",
    "    @showprogress for st = 1:totst\n",
    "        G = makeGraph(Ngraph,degree_dist)\n",
    "        sample!(x, G, λp, γp)\n",
    "        O = [(i,Bool(x[i,T+1]),T+1,1e-10) for i = 1:Int(round(Ngraph * (1 - dilution)))]\n",
    "        O = [rand() > fr ? (o[1],o[2],o[3],fr) : (o[1],!o[2],o[3],fr) for o in O]\n",
    "        p_sib = sibyl(Ngraph, T+1, G, O, γi, λi; maxit = 40, tol = 1e-2);\n",
    "        sib_pdf = pdf(p_sib)\n",
    "        for t = 1:T+1\n",
    "            AUC[t] += AUROC(ROC(x[:,t], p_sib[:,t]))\n",
    "            AUCerr[t] += AUROC(ROC(x[:,t], p_sib[:,t]))^2\n",
    "        end\n",
    "        tau = T .- sum(x,dims=2) .+ 2; #set of planted times\n",
    "        for τ = 1:T+2\n",
    "            # We take the pdf only for individuals infected at time τ \n",
    "            sibylmarg2D[:,τ] .+= sum(sib_pdf .* (tau .== τ ),dims=1)' \n",
    "        end\n",
    "        sing_inst_marg = zeros(Ngraph, T+2, T+2)\n",
    "        for l = 1:Ngraph\n",
    "            sing_inst_marg[l,:,tau[l]] .= sib_pdf[l,:] \n",
    "        end\n",
    "        sing_inst_marg = OffsetArrays.OffsetArray(sing_inst_marg,0,-1,-1);\n",
    "        #AUCens = avgAUC(sing_inst_marg)\n",
    "    end\n",
    "    AUC ./= totst \n",
    "    AUCerr .= sqrt.((AUCerr./ totst  .- (AUC .^ 2))./ totst ) \n",
    "    sibylmarg2D ./= (Ngraph*totst);\n",
    "    AUCsib[lamCount,:] .= AUC\n",
    "    diagonal[lamCount] = sum(sibylmarg2D[t,t] for t=1:10)\n",
    "end"
   ]
  },
  {
   "cell_type": "raw",
   "id": "5e6fa31c-2320-4983-8a8b-40f5724482eb",
   "metadata": {},
   "source": [
    "using DelimitedFiles\n",
    "open(\"./AUCsibyl/$(degreetype)_diag_dil_$(dilution).txt\",\"w\") do io\n",
    "    writedlm(io,diagonal) \n",
    "end\n",
    "for t = 1:T+1\n",
    "    open(\"./AUCsibyl/$(degreetype)_AUC$(t)_dil_$(dilution).txt\",\"w\") do io\n",
    "        writedlm(io,AUCsib[:,t]) \n",
    "    end\n",
    "end"
   ]
  },
  {
   "cell_type": "code",
   "execution_count": null,
   "id": "8bd4f6ee-878b-452d-9411-f813fa7a30e6",
   "metadata": {},
   "outputs": [],
   "source": []
  }
 ],
 "metadata": {
  "kernelspec": {
   "display_name": "Julia 1.7.0-rc2",
   "language": "julia",
   "name": "julia-1.7"
  },
  "language_info": {
   "file_extension": ".jl",
   "mimetype": "application/julia",
   "name": "julia",
   "version": "1.7.0"
  }
 },
 "nbformat": 4,
 "nbformat_minor": 5
}
