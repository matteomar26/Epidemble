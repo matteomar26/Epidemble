{
 "cells": [
  {
   "cell_type": "code",
   "execution_count": 16,
   "id": "vocal-sellers",
   "metadata": {},
   "outputs": [
    {
     "data": {
      "text/plain": [
       "gam_vs_lam_optimal (generic function with 1 method)"
      ]
     },
     "execution_count": 16,
     "metadata": {},
     "output_type": "execute_result"
    }
   ],
   "source": [
    "import OffsetArrays\n",
    "using Plots\n",
    "using Revise\n",
    "using ProgressMeter\n",
    "using SparseArrays, LinearAlgebra, IndexedGraphs, Graphs\n",
    "using IterTools\n",
    "using DelimitedFiles\n",
    "include(\"./src/bp.jl\") \n",
    "include(\"./src/single_instance.jl\") \n",
    "include(\"./src/post_infer.jl\") \n",
    "include(\"./src/observables.jl\") \n",
    "include(\"./src/utils.jl\")"
   ]
  },
  {
   "cell_type": "markdown",
   "id": "84776eb8-c729-4edc-8710-0c4b7d7c5bd1",
   "metadata": {},
   "source": [
    "# Population dynamics for the messages"
   ]
  },
  {
   "cell_type": "code",
   "execution_count": 17,
   "id": "bored-saudi",
   "metadata": {},
   "outputs": [
    {
     "data": {
      "text/plain": [
       "21-element LinRange{Float64, Int64}:\n",
       " 0.0,0.05,0.1,0.15,0.2,0.25,0.3,0.35,0.4,…,0.65,0.7,0.75,0.8,0.85,0.9,0.95,1.0"
      ]
     },
     "execution_count": 17,
     "metadata": {},
     "output_type": "execute_result"
    }
   ],
   "source": [
    "# S=0   I=1\n",
    "# The times go from ti = 0 to ti=T+1\n",
    "# when ti=0 it means that i is the zero patient\n",
    "# when ti=T+1 it means that i is never infected\n",
    "\n",
    "T = 8 # discrete time\n",
    "N = 30000; #population size\n",
    "fr = 0.0 # noise of measure\n",
    "grid = 21 # the grid of the phase diagram\n",
    "γ = 0.2\n",
    "λRange = LinRange(0.01,0.4,grid) \n",
    "dilRange = LinRange(0.0,1.0,grid) "
   ]
  },
  {
   "cell_type": "code",
   "execution_count": null,
   "id": "2460ccb7-60d9-4fce-919e-308722f9f1bd",
   "metadata": {
    "tags": []
   },
   "outputs": [],
   "source": [
    "#here we choose what regime we want to study (λ VS dilution, λ VS γ, dilution VS fr ...)\n",
    "edges = readdlm(\"./ia-escorts-dynamic.edges\",Int,skipstart=2)[:,1:2];\n",
    "G = build_real_graph(edges)\n",
    "degree_dist = empirical_deg_distr(G) \n",
    "inf_out = inf_vs_dil_optimal(γ, λRange, N, T, degree_dist, fr , dilRange , tot_iterations = 40, count_obs = true )"
   ]
  },
  {
   "cell_type": "code",
   "execution_count": null,
   "id": "94313fe5-cf5d-4785-ae70-e18603460f8f",
   "metadata": {},
   "outputs": [],
   "source": [
    "# Here we write the results in files.\n",
    "samp = 1\n",
    "graph = \"real\""
   ]
  },
  {
   "cell_type": "code",
   "execution_count": null,
   "id": "732fe41c-0f47-4424-949a-419cc92ac86a",
   "metadata": {
    "tags": []
   },
   "outputs": [],
   "source": [
    "open(\"./dil_lam_$(graph)_$(samp)/ninf.txt\",\"w\") do io\n",
    "    writedlm(io,inf_out[:,:,1]) \n",
    "end\n",
    "for t = 1:T+1\n",
    "    open(\"./dil_lam_$(graph)_$(samp)/AUC$(t).txt\",\"w\") do io\n",
    "        writedlm(io,inf_out[:,:,t+1]) \n",
    "    end\n",
    "    open(\"./dil_lam_$(graph)_$(samp)/Ov$(t).txt\",\"w\") do io\n",
    "        writedlm(io,inf_out[:,:,t+1 + T + 1]) \n",
    "    end\n",
    "    open(\"./dil_lam_$(graph)_$(samp)/L1_$(t).txt\",\"w\") do io\n",
    "        writedlm(io,inf_out[:,:,t+1 + 2*T + 2]) \n",
    "    end\n",
    "    open(\"./dil_lam_$(graph)_$(samp)/MSE$(t).txt\",\"w\") do io\n",
    "        writedlm(io,inf_out[:,:,t+1 + 3*T + 3]) \n",
    "    end\n",
    "end\n",
    "open(\"./dil_lam_$(graph)_$(samp)/Fe.txt\",\"w\") do io\n",
    "    writedlm(io,inf_out[:,:,4*T + 6]) \n",
    "end\n",
    "open(\"./dil_lam_$(graph)_$(samp)/infλ.txt\",\"w\") do io\n",
    "    writedlm(io,inf_out[:,:,4*T + 7]) \n",
    "end\n",
    "open(\"./dil_lam_$(graph)_$(samp)/infγ.txt\",\"w\") do io\n",
    "    writedlm(io,inf_out[:,:,4*T + 8]) \n",
    "end"
   ]
  },
  {
   "cell_type": "code",
   "execution_count": null,
   "id": "03e8d0e4-ef5d-4d3c-b852-be08aa43b9bf",
   "metadata": {},
   "outputs": [],
   "source": []
  }
 ],
 "metadata": {
  "kernelspec": {
   "display_name": "Julia 1.7.0-rc2",
   "language": "julia",
   "name": "julia-1.7"
  },
  "language_info": {
   "file_extension": ".jl",
   "mimetype": "application/julia",
   "name": "julia",
   "version": "1.7.0"
  }
 },
 "nbformat": 4,
 "nbformat_minor": 5
}
