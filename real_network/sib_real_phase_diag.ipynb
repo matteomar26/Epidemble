{
 "cells": [
  {
   "cell_type": "code",
   "execution_count": 9,
   "id": "vocal-sellers",
   "metadata": {},
   "outputs": [
    {
     "data": {
      "text/plain": [
       "build_real_graph (generic function with 1 method)"
      ]
     },
     "execution_count": 9,
     "metadata": {},
     "output_type": "execute_result"
    }
   ],
   "source": [
    "import OffsetArrays\n",
    "using DelimitedFiles\n",
    "using Plots\n",
    "using IterTools\n",
    "using Revise\n",
    "using StatsBase\n",
    "using ProgressMeter\n",
    "using SparseArrays, LinearAlgebra, IndexedGraphs, Graphs\n",
    "using Distributions\n",
    "srcpath = \"../src\"\n",
    "include(\"$srcpath/bp.jl\")\n",
    "include(\"$srcpath/post_infer.jl\")\n",
    "include(\"$srcpath/observables.jl\")\n",
    "include(\"$srcpath/single_instance.jl\")"
   ]
  },
  {
   "cell_type": "code",
   "execution_count": 4,
   "id": "4f08b482-ec4d-4b5b-ac13-20a5ab129ac2",
   "metadata": {},
   "outputs": [
    {
     "data": {
      "text/plain": [
       "10106"
      ]
     },
     "execution_count": 4,
     "metadata": {},
     "output_type": "execute_result"
    }
   ],
   "source": [
    "#import empirical network\n",
    "edges = readdlm(\"ia-escorts-dynamic.edges\",Int,skipstart=2)[:,1:2];\n",
    "A = build_real_graph(edges)\n",
    "Ngraph = nv(A)"
   ]
  },
  {
   "cell_type": "markdown",
   "id": "through-scientist",
   "metadata": {
    "tags": []
   },
   "source": [
    "# Population dynamics for the messages"
   ]
  },
  {
   "cell_type": "code",
   "execution_count": 6,
   "id": "a92267c9-7c63-4adf-8e5d-3ca06411efc6",
   "metadata": {
    "tags": []
   },
   "outputs": [],
   "source": [
    "degree_dist = empirical_deg_distr(A); "
   ]
  },
  {
   "cell_type": "code",
   "execution_count": 8,
   "id": "11e13638-5c16-422b-9248-f904f0a49368",
   "metadata": {},
   "outputs": [],
   "source": [
    "G = IndexedBiDiGraph(A);"
   ]
  },
  {
   "cell_type": "code",
   "execution_count": 10,
   "id": "e981e70f-af64-4d94-9950-a24a482e54e4",
   "metadata": {},
   "outputs": [
    {
     "data": {
      "text/plain": [
       "inf_vs_dil_sib! (generic function with 1 method)"
      ]
     },
     "execution_count": 10,
     "metadata": {},
     "output_type": "execute_result"
    }
   ],
   "source": [
    "function pdf(cdf_sib)\n",
    "    N, T = size(cdf_sib) \n",
    "    p = zeros(N,T+1)\n",
    "    p[:,1] .= cdf_sib[:,1]\n",
    "    for t = 1:T-1\n",
    "        p[:,t+1] .= cdf_sib[:,t+1] .- cdf_sib[:,t]\n",
    "    end\n",
    "    p[:,T+1] .= 1 .- cdf_sib[:,T]\n",
    "    return p\n",
    "end\n",
    "function inf_vs_dil_sib!(AUC,γ, λRange, N, T, G, fr , dilRange)\n",
    "    Ngraph = nv(G)\n",
    "    x = zeros(Int,Ngraph, T + 1) # a single epidemic trajectory\n",
    "    for (λcount,dilcount) in collect(product(1:length(λRange),1:length(dilRange)))\n",
    "        λi = λp = λRange[λcount]\n",
    "        dilution = dilRange[dilcount]\n",
    "        γi = γp = γ\n",
    "        sample!(x, G, λp, γp)\n",
    "        O = [(i,Bool(x[i,T+1]),T+1,1e-10) for i = 1:Int(round(Ngraph * (1 - dilution)))]\n",
    "        O = [rand() > fr ? (o[1],o[2],o[3],fr) : (o[1],!o[2],o[3],fr) for o in O]\n",
    "        p_sib = sibyl(Ngraph, T+1, G, O, γi, λi; maxit = 50, tol = 1e-20);\n",
    "        sib_pdf = pdf(p_sib)\n",
    "        for t = 1:T+1\n",
    "            AUC[t,λcount,dilcount] += AUROC(ROC(x[:,t], p_sib[:,t]))\n",
    "        end\n",
    "    end\n",
    "end"
   ]
  },
  {
   "cell_type": "code",
   "execution_count": null,
   "id": "8e6e685c-3999-4050-8e2b-69ef823f04f1",
   "metadata": {},
   "outputs": [],
   "source": [
    "grid = 12\n",
    "γ = 0.2\n",
    "T = 8\n",
    "N = nv(G)\n",
    "fr = 0.0\n",
    "λRange = LinRange(0.01,0.4,grid) \n",
    "dilRange = LinRange(0.0,1.0,grid) \n",
    "AUC = zeros(T+1,length(λRange),length(dilRange))\n",
    "inf_vs_dil_sib!(AUC,γ, λRange, N, T, G, fr , dilRange)"
   ]
  },
  {
   "cell_type": "code",
   "execution_count": null,
   "id": "a5fd79e7-5557-41a0-b317-3696872993f4",
   "metadata": {},
   "outputs": [],
   "source": [
    "t = 4 # the time at which we evaluate the AUC\n",
    "heatmap(AUC[t,:,:],xlabel=\"\",ylabel=\"\")"
   ]
  },
  {
   "cell_type": "raw",
   "id": "8100e9c4-a287-481d-94f3-96a84b74e303",
   "metadata": {},
   "source": [
    "for t = 1:T+1\n",
    "    open(\"./dil_lam_real_sib/AUC$(t).txt\",\"w\") do io\n",
    "        writedlm(io,AUC[t,:,:]) \n",
    "    end\n",
    "end"
   ]
  }
 ],
 "metadata": {
  "kernelspec": {
   "display_name": "Julia 1.7.0-rc2",
   "language": "julia",
   "name": "julia-1.7"
  },
  "language_info": {
   "file_extension": ".jl",
   "mimetype": "application/julia",
   "name": "julia",
   "version": "1.7.0"
  }
 },
 "nbformat": 4,
 "nbformat_minor": 5
}
