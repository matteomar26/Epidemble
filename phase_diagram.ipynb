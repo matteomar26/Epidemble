{
 "cells": [
  {
   "cell_type": "code",
   "execution_count": 54,
   "id": "employed-light",
   "metadata": {},
   "outputs": [],
   "source": [
    "# Dubbi:\n",
    "#1 come mai le chiavi di a sembrano random?\n",
    "#2 come faccio a non fare re-inserimento ?? Ricorda io estraggo d-1 cosi, più uno, più un altro che è quello di arrivo"
   ]
  },
  {
   "cell_type": "code",
   "execution_count": 66,
   "id": "vocal-sellers",
   "metadata": {},
   "outputs": [
    {
     "data": {
      "text/plain": [
       "avgAUC (generic function with 1 method)"
      ]
     },
     "execution_count": 66,
     "metadata": {},
     "output_type": "execute_result"
    }
   ],
   "source": [
    "import OffsetArrays\n",
    "using Plots\n",
    "using Revise\n",
    "using ProgressMeter\n",
    "using SparseArrays, LinearAlgebra, IndexedGraphs, Graphs\n",
    "using IterTools\n",
    "using DelimitedFiles\n",
    "include(\"./src/functions.jl\")"
   ]
  },
  {
   "cell_type": "markdown",
   "id": "84776eb8-c729-4edc-8710-0c4b7d7c5bd1",
   "metadata": {},
   "source": [
    "# Population dynamics for the messages"
   ]
  },
  {
   "cell_type": "code",
   "execution_count": 67,
   "id": "12effee5-110d-46eb-ae86-3ebd14b11091",
   "metadata": {},
   "outputs": [
    {
     "data": {
      "text/plain": [
       "7"
      ]
     },
     "execution_count": 67,
     "metadata": {},
     "output_type": "execute_result"
    }
   ],
   "source": [
    "Threads.nthreads()"
   ]
  },
  {
   "cell_type": "code",
   "execution_count": 70,
   "id": "bored-saudi",
   "metadata": {},
   "outputs": [
    {
     "data": {
      "text/plain": [
       "\"./results/T=4_d=3/\""
      ]
     },
     "execution_count": 70,
     "metadata": {},
     "output_type": "execute_result"
    },
    {
     "name": "stderr",
     "output_type": "stream",
     "text": [
      "\u001b[32mProgress:  20%|████████▎                                |  ETA: 0:07:05\u001b[39m"
     ]
    }
   ],
   "source": [
    "# S=0   I=1\n",
    "# The times go from ti = 0 to ti=T+1\n",
    "# when ti=0 it means that i is the zero patient\n",
    "# when ti=T+1 it means that i is never infected\n",
    "\n",
    "d = 3 # degree (fixed for now) \n",
    "T = 4 # discrete time\n",
    "N = 500; #population size\n",
    "\n",
    "grid = 5\n",
    "γvalues = LinRange(0.01,1,grid) # planted autoinfection probability\n",
    "λvalues = γvalues # planted infection rate\n",
    "folderstring = \"./results/T=$(T)_d=$d/\""
   ]
  },
  {
   "cell_type": "code",
   "execution_count": 69,
   "id": "1fb3a346-040f-44ad-8467-0257c74b2da2",
   "metadata": {
    "tags": []
   },
   "outputs": [
    {
     "ename": "LoadError",
     "evalue": "TaskFailedException\n\n\u001b[91m    nested task error: \u001b[39mInterruptException:\n    Stacktrace:\n     [1] \u001b[0m\u001b[1m*\u001b[22m\n    \u001b[90m   @ \u001b[39m\u001b[90m./\u001b[39m\u001b[90m\u001b[4moperators.jl:655\u001b[24m\u001b[39m\u001b[90m [inlined]\u001b[39m\n     [2] \u001b[0m\u001b[1mupdate_μ!\u001b[22m\u001b[0m\u001b[1m(\u001b[22m\u001b[90mμ\u001b[39m::\u001b[0mOffsetArrays.OffsetArray\u001b[90m{Float64, 5, Array{Float64, 5}}\u001b[39m, \u001b[90mν\u001b[39m::\u001b[0mOffsetArrays.OffsetArray\u001b[90m{Float64, 4, Array{Float64, 4}}\u001b[39m, \u001b[90mΣ\u001b[39m::\u001b[0mOffsetArrays.OffsetArray\u001b[90m{Float64, 4, Array{Float64, 4}}\u001b[39m, \u001b[90ml\u001b[39m::\u001b[0mInt64, \u001b[90msij\u001b[39m::\u001b[0mInt64, \u001b[90msji\u001b[39m::\u001b[0mInt64, \u001b[90mT\u001b[39m::\u001b[0mInt64, \u001b[90ma\u001b[39m::\u001b[0mDict\u001b[90m{Int64, Real}\u001b[39m\u001b[0m\u001b[1m)\u001b[22m\n    \u001b[90m   @ \u001b[39m\u001b[35mMain\u001b[39m \u001b[90m~/git/Epidemble/src/\u001b[39m\u001b[90m\u001b[4mfunctions.jl:95\u001b[24m\u001b[39m\n     [3] \u001b[0m\u001b[1mpop_dynamics\u001b[22m\u001b[0m\u001b[1m(\u001b[22m\u001b[90mN\u001b[39m::\u001b[0mInt64, \u001b[90mT\u001b[39m::\u001b[0mInt64, \u001b[90mλp\u001b[39m::\u001b[0mFloat64, \u001b[90mλi\u001b[39m::\u001b[0mFloat64, \u001b[90mγp\u001b[39m::\u001b[0mFloat64, \u001b[90mγi\u001b[39m::\u001b[0mFloat64, \u001b[90md\u001b[39m::\u001b[0mInt64; \u001b[90mtot_iterations\u001b[39m::\u001b[0mInt64\u001b[0m\u001b[1m)\u001b[22m\n    \u001b[90m   @ \u001b[39m\u001b[35mMain\u001b[39m \u001b[90m~/git/Epidemble/src/\u001b[39m\u001b[90m\u001b[4mfunctions.jl:172\u001b[24m\u001b[39m\n     [4] \u001b[0m\u001b[1mmacro expansion\u001b[22m\n    \u001b[90m   @ \u001b[39m\u001b[90m~/git/Epidemble/src/\u001b[39m\u001b[90m\u001b[4mfunctions.jl:211\u001b[24m\u001b[39m\u001b[90m [inlined]\u001b[39m\n     [5] \u001b[0m\u001b[1m(::var\"#434#threadsfor_fun#140\"{Int64, LinRange{Float64, Int64}, LinRange{Float64, Int64}, Int64, Int64, Int64, Progress, Array{Float64, 3}, Matrix{Tuple{Int64, Int64}}})\u001b[22m\u001b[0m\u001b[1m(\u001b[22m\u001b[90monethread\u001b[39m::\u001b[0mBool\u001b[0m\u001b[1m)\u001b[22m\n    \u001b[90m   @ \u001b[39m\u001b[35mMain\u001b[39m \u001b[90m./\u001b[39m\u001b[90m\u001b[4mthreadingconstructs.jl:85\u001b[24m\u001b[39m\n     [6] \u001b[0m\u001b[1m(::var\"#434#threadsfor_fun#140\"{Int64, LinRange{Float64, Int64}, LinRange{Float64, Int64}, Int64, Int64, Int64, Progress, Array{Float64, 3}, Matrix{Tuple{Int64, Int64}}})\u001b[22m\u001b[0m\u001b[1m(\u001b[22m\u001b[0m\u001b[1m)\u001b[22m\n    \u001b[90m   @ \u001b[39m\u001b[35mMain\u001b[39m \u001b[90m./\u001b[39m\u001b[90m\u001b[4mthreadingconstructs.jl:52\u001b[24m\u001b[39m",
     "output_type": "error",
     "traceback": [
      "TaskFailedException\n\n\u001b[91m    nested task error: \u001b[39mInterruptException:\n    Stacktrace:\n     [1] \u001b[0m\u001b[1m*\u001b[22m\n    \u001b[90m   @ \u001b[39m\u001b[90m./\u001b[39m\u001b[90m\u001b[4moperators.jl:655\u001b[24m\u001b[39m\u001b[90m [inlined]\u001b[39m\n     [2] \u001b[0m\u001b[1mupdate_μ!\u001b[22m\u001b[0m\u001b[1m(\u001b[22m\u001b[90mμ\u001b[39m::\u001b[0mOffsetArrays.OffsetArray\u001b[90m{Float64, 5, Array{Float64, 5}}\u001b[39m, \u001b[90mν\u001b[39m::\u001b[0mOffsetArrays.OffsetArray\u001b[90m{Float64, 4, Array{Float64, 4}}\u001b[39m, \u001b[90mΣ\u001b[39m::\u001b[0mOffsetArrays.OffsetArray\u001b[90m{Float64, 4, Array{Float64, 4}}\u001b[39m, \u001b[90ml\u001b[39m::\u001b[0mInt64, \u001b[90msij\u001b[39m::\u001b[0mInt64, \u001b[90msji\u001b[39m::\u001b[0mInt64, \u001b[90mT\u001b[39m::\u001b[0mInt64, \u001b[90ma\u001b[39m::\u001b[0mDict\u001b[90m{Int64, Real}\u001b[39m\u001b[0m\u001b[1m)\u001b[22m\n    \u001b[90m   @ \u001b[39m\u001b[35mMain\u001b[39m \u001b[90m~/git/Epidemble/src/\u001b[39m\u001b[90m\u001b[4mfunctions.jl:95\u001b[24m\u001b[39m\n     [3] \u001b[0m\u001b[1mpop_dynamics\u001b[22m\u001b[0m\u001b[1m(\u001b[22m\u001b[90mN\u001b[39m::\u001b[0mInt64, \u001b[90mT\u001b[39m::\u001b[0mInt64, \u001b[90mλp\u001b[39m::\u001b[0mFloat64, \u001b[90mλi\u001b[39m::\u001b[0mFloat64, \u001b[90mγp\u001b[39m::\u001b[0mFloat64, \u001b[90mγi\u001b[39m::\u001b[0mFloat64, \u001b[90md\u001b[39m::\u001b[0mInt64; \u001b[90mtot_iterations\u001b[39m::\u001b[0mInt64\u001b[0m\u001b[1m)\u001b[22m\n    \u001b[90m   @ \u001b[39m\u001b[35mMain\u001b[39m \u001b[90m~/git/Epidemble/src/\u001b[39m\u001b[90m\u001b[4mfunctions.jl:172\u001b[24m\u001b[39m\n     [4] \u001b[0m\u001b[1mmacro expansion\u001b[22m\n    \u001b[90m   @ \u001b[39m\u001b[90m~/git/Epidemble/src/\u001b[39m\u001b[90m\u001b[4mfunctions.jl:211\u001b[24m\u001b[39m\u001b[90m [inlined]\u001b[39m\n     [5] \u001b[0m\u001b[1m(::var\"#434#threadsfor_fun#140\"{Int64, LinRange{Float64, Int64}, LinRange{Float64, Int64}, Int64, Int64, Int64, Progress, Array{Float64, 3}, Matrix{Tuple{Int64, Int64}}})\u001b[22m\u001b[0m\u001b[1m(\u001b[22m\u001b[90monethread\u001b[39m::\u001b[0mBool\u001b[0m\u001b[1m)\u001b[22m\n    \u001b[90m   @ \u001b[39m\u001b[35mMain\u001b[39m \u001b[90m./\u001b[39m\u001b[90m\u001b[4mthreadingconstructs.jl:85\u001b[24m\u001b[39m\n     [6] \u001b[0m\u001b[1m(::var\"#434#threadsfor_fun#140\"{Int64, LinRange{Float64, Int64}, LinRange{Float64, Int64}, Int64, Int64, Int64, Progress, Array{Float64, 3}, Matrix{Tuple{Int64, Int64}}})\u001b[22m\u001b[0m\u001b[1m(\u001b[22m\u001b[0m\u001b[1m)\u001b[22m\n    \u001b[90m   @ \u001b[39m\u001b[35mMain\u001b[39m \u001b[90m./\u001b[39m\u001b[90m\u001b[4mthreadingconstructs.jl:52\u001b[24m\u001b[39m",
      "",
      "Stacktrace:",
      " [1] wait",
      "   @ ./task.jl:322 [inlined]",
      " [2] threading_run(func::Function)",
      "   @ Base.Threads ./threadingconstructs.jl:38",
      " [3] macro expansion",
      "   @ ./threadingconstructs.jl:97 [inlined]",
      " [4] PhaseDiagram(γvalues::LinRange{Float64, Int64}, λvalues::LinRange{Float64, Int64}, N::Int64, T::Int64, d::Int64; tot_iterations::Int64)",
      "   @ Main ~/git/Epidemble/src/functions.jl:208",
      " [5] top-level scope",
      "   @ In[69]:1",
      " [6] eval",
      "   @ ./boot.jl:373 [inlined]",
      " [7] include_string(mapexpr::typeof(REPL.softscope), mod::Module, code::String, filename::String)",
      "   @ Base ./loading.jl:1196"
     ]
    }
   ],
   "source": [
    "inference = PhaseDiagram(γvalues, λvalues, N, T, d; tot_iterations = 15)\n",
    "open(\"$(folderstring)diag.txt\",\"w\") do io\n",
    "    writedlm(io,inference[:,:,1]) \n",
    "end\n",
    "for t = 1:T+1\n",
    "    open(\"$(folderstring)AUC$(t).txt\",\"w\") do io\n",
    "        writedlm(io,inference[:,:,t+1]) \n",
    "    end\n",
    "end"
   ]
  },
  {
   "cell_type": "code",
   "execution_count": null,
   "id": "fe876e58-26f6-4cb4-9283-34629f697350",
   "metadata": {},
   "outputs": [],
   "source": []
  },
  {
   "cell_type": "code",
   "execution_count": null,
   "id": "f6c9721f-9cdc-43f5-b0dc-b6c9a6159c68",
   "metadata": {},
   "outputs": [],
   "source": []
  }
 ],
 "metadata": {
  "kernelspec": {
   "display_name": "Julia 1.7.0-rc2",
   "language": "julia",
   "name": "julia-1.7"
  },
  "language_info": {
   "file_extension": ".jl",
   "mimetype": "application/julia",
   "name": "julia",
   "version": "1.7.0"
  }
 },
 "nbformat": 4,
 "nbformat_minor": 5
}
