{
 "cells": [
  {
   "cell_type": "code",
   "execution_count": 8,
   "id": "employed-light",
   "metadata": {},
   "outputs": [],
   "source": [
    "# Dubbi:\n",
    "#2 come faccio a non fare re-inserimento ?? Ricorda io estraggo d-1 cosi, più uno, più un altro che è quello di arrivo"
   ]
  },
  {
   "cell_type": "code",
   "execution_count": 9,
   "id": "vocal-sellers",
   "metadata": {},
   "outputs": [
    {
     "data": {
      "text/plain": [
       "avgAUC (generic function with 1 method)"
      ]
     },
     "execution_count": 9,
     "metadata": {},
     "output_type": "execute_result"
    }
   ],
   "source": [
    "import OffsetArrays\n",
    "using Plots\n",
    "using Revise\n",
    "using ProgressMeter\n",
    "using SparseArrays, LinearAlgebra, IndexedGraphs, Graphs\n",
    "using IterTools\n",
    "using DelimitedFiles\n",
    "include(\"./src/functions.jl\")"
   ]
  },
  {
   "cell_type": "markdown",
   "id": "84776eb8-c729-4edc-8710-0c4b7d7c5bd1",
   "metadata": {},
   "source": [
    "# Population dynamics for the messages"
   ]
  },
  {
   "cell_type": "code",
   "execution_count": 10,
   "id": "12effee5-110d-46eb-ae86-3ebd14b11091",
   "metadata": {},
   "outputs": [
    {
     "data": {
      "text/plain": [
       "7"
      ]
     },
     "execution_count": 10,
     "metadata": {},
     "output_type": "execute_result"
    }
   ],
   "source": [
    "Threads.nthreads()"
   ]
  },
  {
   "cell_type": "code",
   "execution_count": 22,
   "id": "bored-saudi",
   "metadata": {},
   "outputs": [
    {
     "data": {
      "text/plain": [
       "\"./results/T=8_d=3_min=0.01_max=0.25/\""
      ]
     },
     "execution_count": 22,
     "metadata": {},
     "output_type": "execute_result"
    }
   ],
   "source": [
    "# S=0   I=1\n",
    "# The times go from ti = 0 to ti=T+1\n",
    "# when ti=0 it means that i is the zero patient\n",
    "# when ti=T+1 it means that i is never infected\n",
    "\n",
    "d = 3 # degree (fixed for now) \n",
    "T = 8 # discrete time\n",
    "N = 1000; #population size\n",
    "\n",
    "grid = 15\n",
    "γvalues = LinRange(0.01,0.25,grid) # planted autoinfection probability\n",
    "λvalues = γvalues # planted infection rate\n",
    "folderstring = \"./results/T=$(T)_d=$(d)_min=$(γvalues[1])_max=$(γvalues[end])/\""
   ]
  },
  {
   "cell_type": "code",
   "execution_count": null,
   "id": "1fb3a346-040f-44ad-8467-0257c74b2da2",
   "metadata": {
    "tags": []
   },
   "outputs": [
    {
     "name": "stderr",
     "output_type": "stream",
     "text": [
      "\u001b[32mProgress:  21%|████████▊                                |  ETA: 0:25:58\u001b[39m"
     ]
    }
   ],
   "source": [
    "inference = PhaseDiagram(γvalues, λvalues, N, T, d; tot_iterations = 10)\n",
    "open(\"$(folderstring)diag.txt\",\"w\") do io\n",
    "    writedlm(io,inference[:,:,1]) \n",
    "end\n",
    "for t = 1:T+1\n",
    "    open(\"$(folderstring)AUC$(t).txt\",\"w\") do io\n",
    "        writedlm(io,inference[:,:,t+1]) \n",
    "    end\n",
    "end"
   ]
  },
  {
   "cell_type": "code",
   "execution_count": null,
   "id": "fe876e58-26f6-4cb4-9283-34629f697350",
   "metadata": {},
   "outputs": [],
   "source": []
  },
  {
   "cell_type": "code",
   "execution_count": null,
   "id": "f6c9721f-9cdc-43f5-b0dc-b6c9a6159c68",
   "metadata": {},
   "outputs": [],
   "source": []
  }
 ],
 "metadata": {
  "kernelspec": {
   "display_name": "Julia 1.7.0-rc2",
   "language": "julia",
   "name": "julia-1.7"
  },
  "language_info": {
   "file_extension": ".jl",
   "mimetype": "application/julia",
   "name": "julia",
   "version": "1.7.0"
  }
 },
 "nbformat": 4,
 "nbformat_minor": 5
}
