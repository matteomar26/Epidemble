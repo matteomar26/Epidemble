{
 "cells": [
  {
   "cell_type": "code",
   "execution_count": 1,
   "id": "employed-light",
   "metadata": {},
   "outputs": [],
   "source": [
    "# Dubbi:\n",
    "#1 come mai le chiavi di a sembrano random?\n",
    "#2 come faccio a non fare re-inserimento ?? Ricorda io estraggo d-1 cosi, più uno, più un altro che è quello di arrivo"
   ]
  },
  {
   "cell_type": "code",
   "execution_count": 2,
   "id": "vocal-sellers",
   "metadata": {},
   "outputs": [],
   "source": [
    "import OffsetArrays\n",
    "using Plots\n",
    "using Revise\n",
    "using ProgressMeter\n",
    "using SparseArrays, LinearAlgebra, IndexedGraphs, Graphs\n",
    "using IterTools\n",
    "using DelimitedFiles\n",
    "include(\"./src/functions.jl\")\n",
    "folderstring = \"./results/T=8_d=3/\";"
   ]
  },
  {
   "cell_type": "markdown",
   "id": "84776eb8-c729-4edc-8710-0c4b7d7c5bd1",
   "metadata": {},
   "source": [
    "# Population dynamics for the messages"
   ]
  },
  {
   "cell_type": "code",
   "execution_count": 3,
   "id": "bored-saudi",
   "metadata": {},
   "outputs": [
    {
     "data": {
      "text/plain": [
       "50-element LinRange{Float64, Int64}:\n",
       " 0.01,0.0302041,0.0504082,0.0706122,0.0908163,…,0.939388,0.959592,0.979796,1.0"
      ]
     },
     "execution_count": 3,
     "metadata": {},
     "output_type": "execute_result"
    }
   ],
   "source": [
    "# S=0   I=1\n",
    "# The times go from ti = 0 to ti=T+1\n",
    "# when ti=0 it means that i is the zero patient\n",
    "# when ti=T+1 it means that i is never infected\n",
    "\n",
    "d = 3 # degree (fixed for now) \n",
    "T = 8 # discrete time\n",
    "N = 5000; #population size\n",
    "\n",
    "grid = 50\n",
    "γvalues = LinRange(0.01,1,grid) # planted autoinfection probability\n",
    "λvalues = γvalues # planted infection rate"
   ]
  },
  {
   "cell_type": "code",
   "execution_count": null,
   "id": "1fb3a346-040f-44ad-8467-0257c74b2da2",
   "metadata": {
    "tags": []
   },
   "outputs": [
    {
     "name": "stderr",
     "output_type": "stream",
     "text": [
      "\u001b[32mProgress: 100%|█████████████████████████████████████████| Time: 0:06:42\u001b[39m\n",
      "\u001b[32mProgress:   3%|█▏                                       |  ETA: 0:06:41\u001b[39m"
     ]
    }
   ],
   "source": [
    "for gridγ = 7:7\n",
    "    for gridλ = 0:9\n",
    "        γl = Int(gridγ * 5 + 1) \n",
    "        γr = Int((gridγ +1) * 5)\n",
    "        λl = Int(gridλ * 5 + 1)\n",
    "        λr = Int((gridλ +1) * 5)\n",
    "        diag = PhaseDiagram(γvalues[γl:γr], λvalues[λl:λr], N, T, d; tot_iterations=40000)\n",
    "        open(\"$(folderstring)pdγ=$(gridγ)λ=$(gridλ).txt\",\"w\") do io\n",
    "            writedlm(io,diag) \n",
    "        end\n",
    "    end\n",
    "end"
   ]
  },
  {
   "cell_type": "code",
   "execution_count": null,
   "id": "f9f84a97-6b17-42c6-ad81-954b395eeb17",
   "metadata": {},
   "outputs": [],
   "source": [
    "heatmap(λvalues,γvalues,diag,xlabel=\"λ\",ylabel=\"γ\",xlims=(minimum(λvalues),maximum(λvalues)),ylims=(minimum(γvalues),maximum(γvalues)))"
   ]
  },
  {
   "cell_type": "code",
   "execution_count": null,
   "id": "ad21644a-b2b5-4d3e-8a4f-391997cb2c6a",
   "metadata": {},
   "outputs": [],
   "source": [
    "savefig(\"phase diagram\")"
   ]
  },
  {
   "cell_type": "raw",
   "id": "92186de1-2654-4463-96b5-5da42309246c",
   "metadata": {},
   "source": [
    "marginal2D = pop_dynamics(N, T, 0.2, 0.2, 0.01, 0.01, d; tot_iterations = 40000)\n",
    "heatmap(marginal2D);"
   ]
  },
  {
   "cell_type": "code",
   "execution_count": null,
   "id": "105fd0f2-f858-4d2d-b72c-2b3d2a2cc894",
   "metadata": {},
   "outputs": [],
   "source": [
    "out_diag = readdlm(\"$(folderstring)phase_diagram2.txt\")\n",
    "heatmap(λvalues,γvalues,out_diag,xlabel=\"λ\",ylabel=\"γ\",xlims=(minimum(λvalues),maximum(λvalues)),ylims=(minimum(γvalues),maximum(γvalues)))"
   ]
  },
  {
   "cell_type": "code",
   "execution_count": null,
   "id": "8ecf44a5-7cf9-40e9-ae24-fb04aad026af",
   "metadata": {},
   "outputs": [],
   "source": [
    "diag = zeros(length(γvalues),length(λvalues))\n",
    "for gridγ = 0:0\n",
    "    for gridλ = 0:4\n",
    "        γl = Int(gridγ * 5 + 1) \n",
    "        γr = Int((gridγ +1) * 5)\n",
    "        λl = Int(gridλ * 5 + 1)\n",
    "        λr = Int((gridλ +1) * 5)\n",
    "        diag[γl:γr,λl:λr] .= readdlm(\"$(folderstring)pdγ=$(gridγ)λ=$(gridλ).txt\")\n",
    "    end\n",
    "end\n",
    "heatmap(diag)"
   ]
  },
  {
   "cell_type": "code",
   "execution_count": 2,
   "id": "4d3a4b7d-1911-4c41-8dd1-87d10e980c73",
   "metadata": {},
   "outputs": [
    {
     "data": {
      "text/plain": [
       "3"
      ]
     },
     "execution_count": 2,
     "metadata": {},
     "output_type": "execute_result"
    }
   ],
   "source": [
    "3"
   ]
  },
  {
   "cell_type": "code",
   "execution_count": null,
   "id": "507ecec8-2372-4667-af50-ac425bd3dfbb",
   "metadata": {},
   "outputs": [],
   "source": []
  }
 ],
 "metadata": {
  "kernelspec": {
   "display_name": "Julia 1.7.0-rc2",
   "language": "julia",
   "name": "julia-1.7"
  },
  "language_info": {
   "file_extension": ".jl",
   "mimetype": "application/julia",
   "name": "julia",
   "version": "1.7.0"
  }
 },
 "nbformat": 4,
 "nbformat_minor": 5
}
